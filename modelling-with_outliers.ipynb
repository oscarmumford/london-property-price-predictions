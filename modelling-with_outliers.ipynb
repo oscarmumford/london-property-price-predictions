{
 "cells": [
  {
   "cell_type": "code",
   "execution_count": 3,
   "id": "20848267-abc4-447d-be99-e132a01198d1",
   "metadata": {},
   "outputs": [],
   "source": [
    "import pandas as pd\n",
    "import matplotlib.pyplot as plt\n",
    "import numpy as np\n",
    "import seaborn as sns\n",
    "import plotly.express as px"
   ]
  },
  {
   "cell_type": "code",
   "execution_count": 4,
   "id": "7a028c45-328f-4755-bbb9-38cdbb4b7207",
   "metadata": {},
   "outputs": [],
   "source": [
    "from sklearn.model_selection import cross_val_score, KFold, train_test_split, GridSearchCV\n",
    "from sklearn.linear_model import LinearRegression\n",
    "from sklearn.preprocessing import StandardScaler, PolynomialFeatures\n",
    "from sklearn.ensemble import RandomForestRegressor\n",
    "from sklearn.pipeline import Pipeline\n",
    "from sklearn.tree import DecisionTreeRegressor\n",
    "from sklearn import datasets\n",
    "from sklearn.metrics import mean_squared_error, r2_score\n",
    "\n",
    "import scipy\n",
    "import scipy.stats as stats\n",
    "import statsmodels.api as sm"
   ]
  },
  {
   "cell_type": "markdown",
   "id": "7837ea39-b789-4448-89e8-a00d40b7625d",
   "metadata": {
    "toc-hr-collapsed": true
   },
   "source": [
    "# MODELLING\n"
   ]
  },
  {
   "cell_type": "markdown",
   "id": "10d59f66-5b0f-4e2d-a61d-d4aa0bfd7000",
   "metadata": {},
   "source": [
    "Data Processing Pipeline : \n",
    "- Outliers have been left in\n",
    "- Dummification\n",
    "- Feature Count: 34 (only first half of postcodes used)\n",
    "- Standard Scaling applied\n",
    "- Sparse Matrix Applied"
   ]
  },
  {
   "cell_type": "code",
   "execution_count": 1,
   "id": "dab504f5-a606-49bc-ba33-911ab89b5f6c",
   "metadata": {},
   "outputs": [],
   "source": [
    "modelling_dataset = \"./data/modelling_dataset/modelling_dataset_brom_croy_2021_2022_freehold.csv\""
   ]
  },
  {
   "cell_type": "code",
   "execution_count": 6,
   "id": "a7c3eda5-70bf-4cde-b96a-559426e65fb8",
   "metadata": {},
   "outputs": [],
   "source": [
    "df = pd.read_csv(modelling_dataset, sep='\\t') "
   ]
  },
  {
   "cell_type": "code",
   "execution_count": null,
   "id": "af985c98-5614-420e-8b70-fca019208464",
   "metadata": {},
   "outputs": [],
   "source": []
  },
  {
   "cell_type": "code",
   "execution_count": 84,
   "id": "b68cd129-732c-4b37-b4a2-ce6f4f099bc8",
   "metadata": {},
   "outputs": [],
   "source": [
    "#geocode_df = pd.read_csv('./data/bromley_croydon_clean/brom_croy_2021_2022_freehold_geocode_full.csv')"
   ]
  },
  {
   "cell_type": "code",
   "execution_count": 85,
   "id": "8440f6ca-dc3e-4e3a-b26d-408cdac6d059",
   "metadata": {},
   "outputs": [],
   "source": [
    "#geocode_dataset[geocode_dataset.result == 0].index"
   ]
  },
  {
   "cell_type": "code",
   "execution_count": 52,
   "id": "9f0b4c19-221d-4f2d-99bb-b7a1e46e38fb",
   "metadata": {},
   "outputs": [],
   "source": [
    "#[59, 807, 1796, 2846, 4055, 4539, 6224]"
   ]
  },
  {
   "cell_type": "code",
   "execution_count": 8,
   "id": "5bd1b86f-0538-4aea-8ae0-76122ab43df1",
   "metadata": {},
   "outputs": [],
   "source": [
    "textual = ['postcode_half1', 'property_type']\n",
    "numerical = ['bedrooms','bathrooms','lounges']\n",
    "pred = ['last_sold_price_gbp']\n",
    "\n"
   ]
  },
  {
   "cell_type": "markdown",
   "id": "83c7d260-9d0e-457e-bcb9-75e218ef810b",
   "metadata": {},
   "source": [
    "#### Dummification"
   ]
  },
  {
   "cell_type": "code",
   "execution_count": 9,
   "id": "59eb20c2-f465-4050-b8ef-76646c4e4b92",
   "metadata": {
    "tags": []
   },
   "outputs": [],
   "source": [
    "dum_df = pd.concat([pd.get_dummies(df[textual]), df[numerical]], axis=1)"
   ]
  },
  {
   "cell_type": "code",
   "execution_count": 143,
   "id": "85749ef5-0d71-40cf-aff3-74ad43a192f8",
   "metadata": {},
   "outputs": [
    {
     "name": "stdout",
     "output_type": "stream",
     "text": [
      "<class 'pandas.core.frame.DataFrame'>\n",
      "RangeIndex: 8607 entries, 0 to 8606\n",
      "Data columns (total 34 columns):\n",
      " #   Column                                Non-Null Count  Dtype  \n",
      "---  ------                                --------------  -----  \n",
      " 0   postcode_half1_BR1                    8607 non-null   uint8  \n",
      " 1   postcode_half1_BR2                    8607 non-null   uint8  \n",
      " 2   postcode_half1_BR3                    8607 non-null   uint8  \n",
      " 3   postcode_half1_BR4                    8607 non-null   uint8  \n",
      " 4   postcode_half1_BR5                    8607 non-null   uint8  \n",
      " 5   postcode_half1_BR6                    8607 non-null   uint8  \n",
      " 6   postcode_half1_BR7                    8607 non-null   uint8  \n",
      " 7   postcode_half1_CR0                    8607 non-null   uint8  \n",
      " 8   postcode_half1_CR2                    8607 non-null   uint8  \n",
      " 9   postcode_half1_CR4                    8607 non-null   uint8  \n",
      " 10  postcode_half1_CR5                    8607 non-null   uint8  \n",
      " 11  postcode_half1_CR7                    8607 non-null   uint8  \n",
      " 12  postcode_half1_CR8                    8607 non-null   uint8  \n",
      " 13  property_type_bungalow property       8607 non-null   uint8  \n",
      " 14  property_type_converted flat          8607 non-null   uint8  \n",
      " 15  property_type_detached bungalow       8607 non-null   uint8  \n",
      " 16  property_type_detached house          8607 non-null   uint8  \n",
      " 17  property_type_detached property       8607 non-null   uint8  \n",
      " 18  property_type_end terrace bungalow    8607 non-null   uint8  \n",
      " 19  property_type_end terrace house       8607 non-null   uint8  \n",
      " 20  property_type_end terrace property    8607 non-null   uint8  \n",
      " 21  property_type_flat/maisonette         8607 non-null   uint8  \n",
      " 22  property_type_mid terrace bungalow    8607 non-null   uint8  \n",
      " 23  property_type_mid terrace house       8607 non-null   uint8  \n",
      " 24  property_type_purpose built flat      8607 non-null   uint8  \n",
      " 25  property_type_semi-detached bungalow  8607 non-null   uint8  \n",
      " 26  property_type_semi-detached house     8607 non-null   uint8  \n",
      " 27  property_type_semi-detached property  8607 non-null   uint8  \n",
      " 28  property_type_terrace property        8607 non-null   uint8  \n",
      " 29  property_type_terraced                8607 non-null   uint8  \n",
      " 30  property_type_terraced bungalow       8607 non-null   uint8  \n",
      " 31  bedrooms                              8607 non-null   float64\n",
      " 32  bathrooms                             8607 non-null   float64\n",
      " 33  lounges                               8607 non-null   int64  \n",
      "dtypes: float64(2), int64(1), uint8(31)\n",
      "memory usage: 462.4 KB\n"
     ]
    }
   ],
   "source": [
    "dum_df.info()"
   ]
  },
  {
   "cell_type": "code",
   "execution_count": 196,
   "id": "fe552e09-7565-4fbf-8a3f-0a3fd3bb142a",
   "metadata": {},
   "outputs": [],
   "source": [
    "#sparse_df = scipy.sparse.csr_matrix(dum_df.values)"
   ]
  },
  {
   "cell_type": "code",
   "execution_count": 55,
   "id": "96bdac2f-83e7-41c4-af17-e21bf188623d",
   "metadata": {},
   "outputs": [],
   "source": [
    "X = dum_df\n",
    "y = df[pred]\n",
    "\n",
    "#Sparse Version\n",
    "#X = sparse_df\n"
   ]
  },
  {
   "cell_type": "markdown",
   "id": "be54ba65-31d5-4d93-989e-e32ec828693e",
   "metadata": {},
   "source": [
    "#### Train Test Split"
   ]
  },
  {
   "cell_type": "code",
   "execution_count": 109,
   "id": "152c8348-b186-47d1-a187-871ba09cab63",
   "metadata": {},
   "outputs": [],
   "source": [
    "train_test_tuple = X_train, X_test, y_train, y_test = train_test_split(X,y,test_size=0.2,shuffle=True)"
   ]
  },
  {
   "cell_type": "code",
   "execution_count": 65,
   "id": "7930f7cd-f13d-4470-9dc9-1a6c123064e0",
   "metadata": {},
   "outputs": [],
   "source": [
    "kf = 5 #KFold(n_splits=5, shuffle=True, random_state=10)"
   ]
  },
  {
   "cell_type": "markdown",
   "id": "03f6da2d-5604-4010-87b9-2e38da4ebf4e",
   "metadata": {},
   "source": [
    "#### Standardisation"
   ]
  },
  {
   "cell_type": "code",
   "execution_count": 110,
   "id": "5b3ea2e7-f840-467c-80be-9984ed781653",
   "metadata": {},
   "outputs": [],
   "source": [
    "sc = StandardScaler()\n",
    "X_train = sc.fit_transform(X_train)\n",
    "X_test = sc.transform(X_test)"
   ]
  },
  {
   "cell_type": "code",
   "execution_count": 67,
   "id": "b5713ee1-0caa-46c3-954a-259003f28bd6",
   "metadata": {},
   "outputs": [],
   "source": [
    "X_train = scipy.sparse.csr_matrix(X_train)\n",
    "X_test = scipy.sparse.csr_matrix(X_test)"
   ]
  },
  {
   "cell_type": "markdown",
   "id": "af4c9b95-5b13-4da4-8fe5-705c5961a5cd",
   "metadata": {},
   "source": [
    "#### Creating a Model Scoring Function"
   ]
  },
  {
   "cell_type": "code",
   "execution_count": 68,
   "id": "9012368a-b37f-4aca-9e00-c4cd3ab4d1f6",
   "metadata": {},
   "outputs": [],
   "source": [
    "def model_scorer(model, X_tr, X_ts, y_tr, y_ts):\n",
    "    \"\"\"Convenience function to print model scores and return \"\"\"\n",
    "    train_score = model.score(X_tr, y_tr)\n",
    "    print('Train score:', train_score)\n",
    "    \n",
    "    cv = cross_val_score(model, X_tr, y_tr, cv=kf)\n",
    "    print('CV scores:', cv)\n",
    "    print('CV standard deviation:', cv.std() )\n",
    "    print('Mean CV score:', cv.mean())\n",
    "    \n",
    "    test_score = model.score(X_ts, y_ts)\n",
    "    print('Test score:', model.score(X_ts, y_ts))\n",
    "     \n",
    "    return {\"train_score\":train_score,\n",
    "            \"cv_scores\":cv,\n",
    "            \"test_score\":test_score}"
   ]
  },
  {
   "cell_type": "markdown",
   "id": "6ed6f45b-0561-4dae-8513-b5ba4778a356",
   "metadata": {},
   "source": [
    "#### Linear Regression"
   ]
  },
  {
   "cell_type": "code",
   "execution_count": 69,
   "id": "f6ff22c0-0f7b-4bb4-9f5c-5a2b5bde812b",
   "metadata": {},
   "outputs": [
    {
     "data": {
      "text/plain": [
       "LinearRegression()"
      ]
     },
     "execution_count": 69,
     "metadata": {},
     "output_type": "execute_result"
    }
   ],
   "source": [
    "lin_model_1 = LinearRegression()\n",
    "lin_model_1.fit(X_train, y_train)\n"
   ]
  },
  {
   "cell_type": "code",
   "execution_count": 70,
   "id": "eef9c0b6-f7cd-4e15-8930-f9836ee52afc",
   "metadata": {},
   "outputs": [
    {
     "name": "stdout",
     "output_type": "stream",
     "text": [
      "Train score: 0.5208370718960034\n",
      "CV scores: [0.56356795 0.46042765 0.4865006  0.57756103 0.50179974]\n",
      "CV standard deviation: 0.04515127248320018\n",
      "Mean CV score: 0.5179713954262055\n",
      "Test score: 0.4478764681358799\n"
     ]
    }
   ],
   "source": [
    "model_scorer(lin_model_1, X_train, X_test, y_train, y_test);"
   ]
  },
  {
   "cell_type": "markdown",
   "id": "4a3f98b2-b4ec-4b83-8f9b-873ec12abfb4",
   "metadata": {},
   "source": [
    "#### Decision Tree"
   ]
  },
  {
   "cell_type": "code",
   "execution_count": 71,
   "id": "57b5afab-504e-4197-aac6-1338aae9fe2f",
   "metadata": {},
   "outputs": [
    {
     "data": {
      "text/plain": [
       "DecisionTreeRegressor()"
      ]
     },
     "execution_count": 71,
     "metadata": {},
     "output_type": "execute_result"
    }
   ],
   "source": [
    "dt_model_1 = DecisionTreeRegressor()\n",
    "dt_model_1.fit(X_train, y_train)"
   ]
  },
  {
   "cell_type": "code",
   "execution_count": 72,
   "id": "d0153464-7f7e-43bf-891b-261b87b212e2",
   "metadata": {},
   "outputs": [
    {
     "name": "stdout",
     "output_type": "stream",
     "text": [
      "Train score: -0.7211696255349958\n",
      "CV scores: [0.61567374 0.53576068 0.56827073 0.20723418 0.61540318]\n",
      "CV standard deviation: 0.15361723708372335\n",
      "Mean CV score: 0.5084685020169315\n",
      "Test score: -0.5509558301414188\n"
     ]
    }
   ],
   "source": [
    "model_scorer(dt_model_1, *train_test_tuple);"
   ]
  },
  {
   "cell_type": "markdown",
   "id": "25875e18-2850-4549-a235-82c5b98cc5a2",
   "metadata": {
    "tags": []
   },
   "source": [
    "#### Random Forest"
   ]
  },
  {
   "cell_type": "code",
   "execution_count": 73,
   "id": "e630f49e-351e-4a71-9b91-439bb5c622ab",
   "metadata": {
    "tags": []
   },
   "outputs": [
    {
     "data": {
      "text/plain": [
       "RandomForestRegressor()"
      ]
     },
     "execution_count": 73,
     "metadata": {},
     "output_type": "execute_result"
    }
   ],
   "source": [
    "rf_model_1 = RandomForestRegressor()\n",
    "rf_model_1.fit(X_train, y_train.values.flatten())"
   ]
  },
  {
   "cell_type": "code",
   "execution_count": 75,
   "id": "c3a58739-938f-4388-a6f3-879ea025d320",
   "metadata": {},
   "outputs": [
    {
     "name": "stdout",
     "output_type": "stream",
     "text": [
      "Train score: 0.8066766889494361\n",
      "CV scores: [0.61648212 0.51450599 0.58061463 0.41661264 0.65683523]\n",
      "CV standard deviation: 0.08435306536047958\n",
      "Mean CV score: 0.5570101204228122\n",
      "Test score: 0.4768095085316163\n"
     ]
    }
   ],
   "source": [
    "model_scorer(rf_model_1, X_train, X_test, y_train.values.flatten(), y_test.values.flatten());"
   ]
  },
  {
   "cell_type": "markdown",
   "id": "e1b19af0-8916-47bb-aca2-92fe4e28f45b",
   "metadata": {},
   "source": [
    "### Modellling with Regularisation"
   ]
  },
  {
   "cell_type": "code",
   "execution_count": 76,
   "id": "82b5243d-ffd6-4cfb-af91-2a636da58f79",
   "metadata": {},
   "outputs": [],
   "source": [
    "from sklearn.linear_model import RidgeCV, LassoCV, ElasticNetCV, Ridge, Lasso, ElasticNet"
   ]
  },
  {
   "cell_type": "markdown",
   "id": "2d61a550-00d4-4935-ae7e-dce93952c055",
   "metadata": {},
   "source": [
    "#### Ridge"
   ]
  },
  {
   "cell_type": "code",
   "execution_count": 77,
   "id": "2f9c3356-3b42-48f4-9110-6c709d11b873",
   "metadata": {},
   "outputs": [
    {
     "data": {
      "text/plain": [
       "array([1.e-10, 1.e-08, 1.e-06, 1.e-04, 1.e-02, 1.e+00, 1.e+02, 1.e+04,\n",
       "       1.e+06, 1.e+08, 1.e+10])"
      ]
     },
     "execution_count": 77,
     "metadata": {},
     "output_type": "execute_result"
    }
   ],
   "source": [
    "np.logspace(-10,10,11)"
   ]
  },
  {
   "cell_type": "code",
   "execution_count": 78,
   "id": "d0f93455-d265-453f-aba2-c86e7492d177",
   "metadata": {},
   "outputs": [
    {
     "data": {
      "text/plain": [
       "RidgeCV(alphas=array([1.e-10, 1.e-08, 1.e-06, 1.e-04, 1.e-02, 1.e+00, 1.e+02, 1.e+04,\n",
       "       1.e+06, 1.e+08, 1.e+10]))"
      ]
     },
     "execution_count": 78,
     "metadata": {},
     "output_type": "execute_result"
    }
   ],
   "source": [
    "ridge_cv_1 = RidgeCV(alphas=np.logspace(-10,10,11))\n",
    "ridge_cv_1.fit(X_train,y_train)"
   ]
  },
  {
   "cell_type": "code",
   "execution_count": 79,
   "id": "769e092f-c752-409d-84a2-80eb1aa0a17c",
   "metadata": {},
   "outputs": [
    {
     "data": {
      "text/plain": [
       "100.0"
      ]
     },
     "execution_count": 79,
     "metadata": {},
     "output_type": "execute_result"
    }
   ],
   "source": [
    "ridge_cv_1.alpha_"
   ]
  },
  {
   "cell_type": "code",
   "execution_count": 80,
   "id": "710edf1b-21eb-42a9-829b-26f2ed903f65",
   "metadata": {},
   "outputs": [
    {
     "data": {
      "text/plain": [
       "RidgeCV(alphas=array([1.00000000e-02, 2.51188643e-02, 6.30957344e-02, 1.58489319e-01,\n",
       "       3.98107171e-01, 1.00000000e+00, 2.51188643e+00, 6.30957344e+00,\n",
       "       1.58489319e+01, 3.98107171e+01, 1.00000000e+02]))"
      ]
     },
     "execution_count": 80,
     "metadata": {},
     "output_type": "execute_result"
    }
   ],
   "source": [
    "ridge_cv_2 = RidgeCV(alphas=np.logspace(-2,2,11))\n",
    "ridge_cv_2.fit(X_train,y_train)"
   ]
  },
  {
   "cell_type": "code",
   "execution_count": 81,
   "id": "bbe86c7b-b659-485a-9a2f-1617bdd1461b",
   "metadata": {},
   "outputs": [
    {
     "data": {
      "text/plain": [
       "100.0"
      ]
     },
     "execution_count": 81,
     "metadata": {},
     "output_type": "execute_result"
    }
   ],
   "source": [
    "ridge_cv_2.alpha_"
   ]
  },
  {
   "cell_type": "code",
   "execution_count": 82,
   "id": "6b4988b3-83dd-4d66-89d5-fe0808542ce1",
   "metadata": {},
   "outputs": [
    {
     "data": {
      "text/plain": [
       "RidgeCV(alphas=array([0.15848932, 0.20056485, 0.24264039, 0.28471592, 0.32679146,\n",
       "       0.36886699, 0.41094252, 0.45301806, 0.49509359, 0.53716913,\n",
       "       0.57924466, 0.62132019, 0.66339573, 0.70547126, 0.7475468 ,\n",
       "       0.78962233, 0.83169786, 0.8737734 , 0.91584893, 0.95792447,\n",
       "       1.        ]))"
      ]
     },
     "execution_count": 82,
     "metadata": {},
     "output_type": "execute_result"
    }
   ],
   "source": [
    "ridge_cv_3 = RidgeCV(alphas=np.linspace(1.58489319e-01,1.00000000e+00, 21))\n",
    "ridge_cv_3.fit(X_train,y_train)"
   ]
  },
  {
   "cell_type": "code",
   "execution_count": 83,
   "id": "8475caac-9f93-454e-b136-0480beeff1a6",
   "metadata": {},
   "outputs": [
    {
     "data": {
      "text/plain": [
       "1.0"
      ]
     },
     "execution_count": 83,
     "metadata": {},
     "output_type": "execute_result"
    }
   ],
   "source": [
    "ridge_cv_3.alpha_"
   ]
  },
  {
   "cell_type": "code",
   "execution_count": null,
   "id": "f93662bd-affa-43e8-be72-5ca20e50e00a",
   "metadata": {},
   "outputs": [],
   "source": []
  },
  {
   "cell_type": "code",
   "execution_count": 84,
   "id": "ad25ee06-34c3-4101-9885-22b852a30cb7",
   "metadata": {},
   "outputs": [
    {
     "data": {
      "text/plain": [
       "RidgeCV(alphas=array([0.36886699, 0.37097077, 0.37307454, 0.37517832, 0.3772821 ,\n",
       "       0.37938587, 0.38148965, 0.38359343, 0.3856972 , 0.38780098,\n",
       "       0.38990475, 0.39200853, 0.39411231, 0.39621608, 0.39831986,\n",
       "       0.40042364, 0.40252741, 0.40463119, 0.40673497, 0.40883874,\n",
       "       0.41094252]))"
      ]
     },
     "execution_count": 84,
     "metadata": {},
     "output_type": "execute_result"
    }
   ],
   "source": [
    "ridge_cv_4 = RidgeCV(alphas=np.linspace(0.36886699,0.41094252, 21))\n",
    "ridge_cv_4.fit(X_train,y_train)"
   ]
  },
  {
   "cell_type": "code",
   "execution_count": 85,
   "id": "94908842-8cfa-4841-9ad9-6d41c692468f",
   "metadata": {},
   "outputs": [
    {
     "data": {
      "text/plain": [
       "0.41094252"
      ]
     },
     "execution_count": 85,
     "metadata": {},
     "output_type": "execute_result"
    }
   ],
   "source": [
    "ridge_cv_4.alpha_"
   ]
  },
  {
   "cell_type": "code",
   "execution_count": 86,
   "id": "6ae70479-7754-4720-b603-e592e8e7ad00",
   "metadata": {},
   "outputs": [
    {
     "data": {
      "text/plain": [
       "Ridge(alpha=100.0)"
      ]
     },
     "execution_count": 86,
     "metadata": {},
     "output_type": "execute_result"
    }
   ],
   "source": [
    "ridge_alpha_1 = ridge_cv_1.alpha_\n",
    "ridge_model_1 = Ridge(alpha=ridge_alpha_1)\n",
    "ridge_model_1.fit(X_train, y_train)"
   ]
  },
  {
   "cell_type": "code",
   "execution_count": 87,
   "id": "9f9a4570-f0d3-47c4-8dc0-ca4788c81058",
   "metadata": {},
   "outputs": [
    {
     "name": "stdout",
     "output_type": "stream",
     "text": [
      "Train score: -1.2456316000611927\n",
      "CV scores: [0.56258594 0.45889924 0.48050167 0.56702585 0.49926867]\n",
      "CV standard deviation: 0.043696652077294895\n",
      "Mean CV score: 0.5136562755598664\n",
      "Test score: -0.7391503649989981\n"
     ]
    }
   ],
   "source": [
    "model_scorer(ridge_model_1, *train_test_tuple);"
   ]
  },
  {
   "cell_type": "code",
   "execution_count": 88,
   "id": "f7e3c8a1-f0ee-4d17-8efe-06156d88b2b6",
   "metadata": {},
   "outputs": [
    {
     "data": {
      "text/plain": [
       "100.0"
      ]
     },
     "execution_count": 88,
     "metadata": {},
     "output_type": "execute_result"
    }
   ],
   "source": [
    "ridge_model_1.alpha"
   ]
  },
  {
   "cell_type": "code",
   "execution_count": 89,
   "id": "f3b8e5a8-6738-4cbe-ae02-497c13311111",
   "metadata": {},
   "outputs": [
    {
     "data": {
      "text/plain": [
       "Ridge(alpha=100.0)"
      ]
     },
     "execution_count": 89,
     "metadata": {},
     "output_type": "execute_result"
    }
   ],
   "source": [
    "ridge_alpha_2 = ridge_cv_2.alpha_\n",
    "ridge_model_2 = Ridge(alpha=ridge_alpha_2)\n",
    "ridge_model_2.fit(X_train, y_train)"
   ]
  },
  {
   "cell_type": "code",
   "execution_count": 90,
   "id": "b50e7356-778e-4d04-8610-17b707cd5abf",
   "metadata": {},
   "outputs": [
    {
     "name": "stdout",
     "output_type": "stream",
     "text": [
      "Train score: -1.2456316000611927\n",
      "CV scores: [0.56258594 0.45889924 0.48050167 0.56702585 0.49926867]\n",
      "CV standard deviation: 0.043696652077294895\n",
      "Mean CV score: 0.5136562755598664\n",
      "Test score: -0.7391503649989981\n"
     ]
    }
   ],
   "source": [
    "model_scorer(ridge_model_2, *train_test_tuple);"
   ]
  },
  {
   "cell_type": "code",
   "execution_count": 91,
   "id": "dab7536c-d656-48c8-8624-c557a6020589",
   "metadata": {},
   "outputs": [
    {
     "data": {
      "text/plain": [
       "100.0"
      ]
     },
     "execution_count": 91,
     "metadata": {},
     "output_type": "execute_result"
    }
   ],
   "source": [
    "ridge_model_2.alpha"
   ]
  },
  {
   "cell_type": "code",
   "execution_count": 92,
   "id": "431e42f7-bc7e-47cf-b07d-3c063b1191bc",
   "metadata": {},
   "outputs": [
    {
     "data": {
      "text/plain": [
       "Ridge()"
      ]
     },
     "execution_count": 92,
     "metadata": {},
     "output_type": "execute_result"
    }
   ],
   "source": [
    "ridge_alpha_3 = ridge_cv_3.alpha_\n",
    "ridge_model_3 = Ridge(alpha=ridge_alpha_3)\n",
    "ridge_model_3.fit(X_train, y_train)"
   ]
  },
  {
   "cell_type": "code",
   "execution_count": 93,
   "id": "3ec7c1ac-c1d1-40cf-84ae-31d976bb3e34",
   "metadata": {},
   "outputs": [
    {
     "name": "stdout",
     "output_type": "stream",
     "text": [
      "Train score: -1.262947377327671\n",
      "CV scores: [0.56430201 0.46053871 0.48648763 0.57716501 0.50214704]\n",
      "CV standard deviation: 0.04514518329124995\n",
      "Mean CV score: 0.5181280791446058\n",
      "Test score: -0.7508245844841348\n"
     ]
    }
   ],
   "source": [
    "model_scorer(ridge_model_3, *train_test_tuple);"
   ]
  },
  {
   "cell_type": "code",
   "execution_count": null,
   "id": "a8bb49e6-470b-4d78-8e31-dc2035e91913",
   "metadata": {},
   "outputs": [],
   "source": []
  },
  {
   "cell_type": "markdown",
   "id": "759b21e7-c295-4c0c-8a97-285e80e3c431",
   "metadata": {},
   "source": [
    "#### Lasso"
   ]
  },
  {
   "cell_type": "code",
   "execution_count": 94,
   "id": "cd48f844-6f28-4d14-8f57-e574533d96cb",
   "metadata": {},
   "outputs": [
    {
     "data": {
      "text/plain": [
       "LassoCV()"
      ]
     },
     "execution_count": 94,
     "metadata": {},
     "output_type": "execute_result"
    }
   ],
   "source": [
    "lasso_cv_1 = LassoCV()\n",
    "lasso_cv_1.fit(X_train, y_train.values.flatten())\n"
   ]
  },
  {
   "cell_type": "code",
   "execution_count": 95,
   "id": "b8cd9af2-d4c3-406b-9384-4f054080dd14",
   "metadata": {},
   "outputs": [
    {
     "data": {
      "text/plain": [
       "Lasso(alpha=224.38193797982797)"
      ]
     },
     "execution_count": 95,
     "metadata": {},
     "output_type": "execute_result"
    }
   ],
   "source": [
    "lasso_alpha = lasso_cv_1.alpha_\n",
    "lasso_model_1 = Lasso(alpha=lasso_alpha)\n",
    "lasso_model_1.fit(X_train, y_train.values.flatten())"
   ]
  },
  {
   "cell_type": "code",
   "execution_count": 96,
   "id": "c159a952-2da0-4a30-9bc9-0752c3d6ebbe",
   "metadata": {},
   "outputs": [
    {
     "name": "stdout",
     "output_type": "stream",
     "text": [
      "Train score: 0.5208219097507876\n",
      "CV scores: [0.56373137 0.46044145 0.48654931 0.57763973 0.50179147]\n",
      "CV standard deviation: 0.04519535534986167\n",
      "Mean CV score: 0.5180306674511377\n",
      "Test score: 0.4477543470737657\n"
     ]
    }
   ],
   "source": [
    "model_scorer(lasso_model_1, X_train, X_test, y_train.values.flatten(), y_test.values.flatten());"
   ]
  },
  {
   "cell_type": "markdown",
   "id": "a9df1411-5546-4fd7-9d01-d1d8ec9454a2",
   "metadata": {},
   "source": [
    "#### ElasticNet"
   ]
  },
  {
   "cell_type": "code",
   "execution_count": 97,
   "id": "71a3e354-1fd0-4c77-8465-ce477b5f016b",
   "metadata": {},
   "outputs": [
    {
     "data": {
      "text/plain": [
       "ElasticNetCV()"
      ]
     },
     "execution_count": 97,
     "metadata": {},
     "output_type": "execute_result"
    }
   ],
   "source": [
    "alpha_list=np.logspace(-10, 10, 21), \n",
    "l1_list=np.array([.1, .5, .7, .9, .95, .99, 1]),\n",
    "\n",
    "\n",
    "elasticnet_cv_1 = ElasticNetCV(l1_ratio=l1_list,\n",
    "                               alphas=alpha_list,\n",
    "                               cv=5, max_iter=100000\n",
    "                              )\n",
    "elasticnet_cv_1.fit(X_train,y_train.values.flatten())"
   ]
  },
  {
   "cell_type": "code",
   "execution_count": 98,
   "id": "eb3a92f7-a1ae-459c-a1f9-3391747ac532",
   "metadata": {},
   "outputs": [
    {
     "data": {
      "text/plain": [
       "0.5"
      ]
     },
     "execution_count": 98,
     "metadata": {},
     "output_type": "execute_result"
    }
   ],
   "source": [
    "elasticnet_cv_1.l1_ratio_"
   ]
  },
  {
   "cell_type": "code",
   "execution_count": 99,
   "id": "5adf1068-fe4c-4833-ad01-c2f0271a2d99",
   "metadata": {},
   "outputs": [
    {
     "data": {
      "text/plain": [
       "339.47341489475417"
      ]
     },
     "execution_count": 99,
     "metadata": {},
     "output_type": "execute_result"
    }
   ],
   "source": [
    "elasticnet_cv_1.alpha_"
   ]
  },
  {
   "cell_type": "code",
   "execution_count": 100,
   "id": "a40a1078-3846-433e-8f9b-b82398057082",
   "metadata": {},
   "outputs": [
    {
     "data": {
      "text/plain": [
       "ElasticNet(alpha=339.47341489475417)"
      ]
     },
     "execution_count": 100,
     "metadata": {},
     "output_type": "execute_result"
    }
   ],
   "source": [
    "elasticnet_alpha = elasticnet_cv_1.alpha_\n",
    "elasticnet_l1 = elasticnet_cv_1.l1_ratio_\n",
    "elasticnet_model_1 = ElasticNet(alpha=elasticnet_alpha, l1_ratio=elasticnet_l1)\n",
    "elasticnet_model_1.fit(X_train, y_train.values.flatten())\n"
   ]
  },
  {
   "cell_type": "code",
   "execution_count": 101,
   "id": "9e637dc0-7fd5-4e54-8554-1dbd3e21c545",
   "metadata": {},
   "outputs": [
    {
     "name": "stdout",
     "output_type": "stream",
     "text": [
      "Train score: 0.013986573604935493\n",
      "CV scores: [0.01474226 0.01191389 0.0133408  0.01476399 0.01062408]\n",
      "CV standard deviation: 0.0016160570128014203\n",
      "Mean CV score: 0.01307700303709769\n",
      "Test score: 0.007684954017192602\n"
     ]
    }
   ],
   "source": [
    "model_scorer(elasticnet_model_1, X_train, X_test, y_train.values.flatten(), y_test.values.flatten());"
   ]
  },
  {
   "cell_type": "markdown",
   "id": "0d71faf3-cd7f-49fa-8208-5ec91a075c8f",
   "metadata": {},
   "source": [
    "### BOOSTING"
   ]
  },
  {
   "cell_type": "code",
   "execution_count": 102,
   "id": "ed321abd-20b5-4912-ab49-0cf75270d37b",
   "metadata": {},
   "outputs": [],
   "source": [
    "from sklearn.ensemble import AdaBoostRegressor, BaggingRegressor, GradientBoostingRegressor"
   ]
  },
  {
   "cell_type": "markdown",
   "id": "6b583971-7f9b-4f7b-8d6a-e0efc3f9d415",
   "metadata": {},
   "source": [
    "#### AdaBoost"
   ]
  },
  {
   "cell_type": "code",
   "execution_count": 103,
   "id": "706c0112-5735-435a-b984-7836af09d06a",
   "metadata": {},
   "outputs": [
    {
     "data": {
      "text/plain": [
       "AdaBoostRegressor(base_estimator=DecisionTreeRegressor(), n_estimators=100,\n",
       "                  random_state=1)"
      ]
     },
     "execution_count": 103,
     "metadata": {},
     "output_type": "execute_result"
    }
   ],
   "source": [
    "base_estimator = DecisionTreeRegressor()\n",
    "ada_model_1 = AdaBoostRegressor(base_estimator=base_estimator,\n",
    "                          n_estimators=100,\n",
    "                          random_state=1)\n",
    "ada_model_1.fit(X_train, y_train.values.flatten())\n"
   ]
  },
  {
   "cell_type": "code",
   "execution_count": 104,
   "id": "5bfa869f-c90d-4928-b435-dfde31bc3cc5",
   "metadata": {},
   "outputs": [
    {
     "name": "stdout",
     "output_type": "stream",
     "text": [
      "Train score: 0.8007393584362816\n",
      "CV scores: [0.64199428 0.47289913 0.51700534 0.17997371 0.68586648]\n",
      "CV standard deviation: 0.17784721895048408\n",
      "Mean CV score: 0.4995477874678211\n",
      "Test score: 0.4254380003357764\n"
     ]
    }
   ],
   "source": [
    "model_scorer(ada_model_1, X_train, X_test, y_train.values.flatten(), y_test.values.flatten());"
   ]
  },
  {
   "cell_type": "markdown",
   "id": "f22d613b-6d90-4a43-8bf7-03b6ac850fa0",
   "metadata": {},
   "source": [
    "#### Gradient Boost"
   ]
  },
  {
   "cell_type": "code",
   "execution_count": 105,
   "id": "80a73c81-dcfc-465c-afe7-fce5b9d86b66",
   "metadata": {},
   "outputs": [
    {
     "data": {
      "text/plain": [
       "GradientBoostingRegressor(random_state=1)"
      ]
     },
     "execution_count": 105,
     "metadata": {},
     "output_type": "execute_result"
    }
   ],
   "source": [
    "gradientBoost_model_1 = GradientBoostingRegressor(\n",
    "    n_estimators=100,\n",
    "    max_depth=3,\n",
    "    learning_rate=0.1,\n",
    "    random_state=1)\n",
    "\n",
    "gradientBoost_model_1.fit(X_train, y_train.values.flatten())\n"
   ]
  },
  {
   "cell_type": "code",
   "execution_count": 131,
   "id": "1d9d1edf-8871-424d-bfe7-b0966f1d0160",
   "metadata": {},
   "outputs": [
    {
     "name": "stdout",
     "output_type": "stream",
     "text": [
      "Train score: 0.624548719469147\n",
      "CV scores: [0.52508176 0.54476302 0.61108977 0.66398594 0.44504253]\n",
      "CV standard deviation: 0.07492631255071426\n",
      "Mean CV score: 0.5579926017246082\n",
      "Test score: 0.6998743799512508\n"
     ]
    }
   ],
   "source": [
    "model_scorer(gradientBoost_model_1, X_train, X_test, y_train.values.flatten(), y_test.values.flatten());"
   ]
  },
  {
   "cell_type": "markdown",
   "id": "240baa38-3622-46dc-928e-3e60f1c09ebc",
   "metadata": {},
   "source": [
    "#### Neural Net Model"
   ]
  },
  {
   "cell_type": "code",
   "execution_count": 133,
   "id": "c3df6578-7445-4d65-a806-4294d4a862b8",
   "metadata": {},
   "outputs": [],
   "source": [
    "from sklearn.neural_network import MLPRegressor"
   ]
  },
  {
   "cell_type": "code",
   "execution_count": 135,
   "id": "fc4dadeb-9fb5-4cfe-acc4-d4ca64779eb1",
   "metadata": {},
   "outputs": [
    {
     "data": {
      "text/plain": [
       "MLPRegressor(alpha=1, hidden_layer_sizes=(4, 3), max_iter=10000, random_state=1)"
      ]
     },
     "execution_count": 135,
     "metadata": {},
     "output_type": "execute_result"
    }
   ],
   "source": [
    "nnet = MLPRegressor(hidden_layer_sizes=(4,3),\n",
    "                    solver='adam', activation='relu', alpha=1,\n",
    "                    max_iter = 10000, random_state=1\n",
    "                   )\n",
    "nnet.fit(X_train, y_train.values.flatten())\n"
   ]
  },
  {
   "cell_type": "code",
   "execution_count": 136,
   "id": "c77eecc7-21b5-46db-accd-12341131964c",
   "metadata": {},
   "outputs": [
    {
     "data": {
      "text/plain": [
       "0.584965049993089"
      ]
     },
     "execution_count": 136,
     "metadata": {},
     "output_type": "execute_result"
    }
   ],
   "source": [
    "nnet.score(X_test, y_test)"
   ]
  },
  {
   "cell_type": "code",
   "execution_count": null,
   "id": "d99aebb1-51a9-4b46-958f-2e7ee92d88b0",
   "metadata": {},
   "outputs": [],
   "source": []
  },
  {
   "cell_type": "markdown",
   "id": "cc6fc2d0-7b1e-4016-90e7-81d97700ba49",
   "metadata": {
    "tags": []
   },
   "source": [
    "# SCIPY.STATSMODEL REGRESSION MODEL"
   ]
  },
  {
   "cell_type": "code",
   "execution_count": 114,
   "id": "101bc9cf-14ae-471b-91c7-a42478941862",
   "metadata": {
    "tags": []
   },
   "outputs": [
    {
     "data": {
      "text/plain": [
       "array([[ 1.        , -0.36335786,  2.38421182, ..., -1.31524101,\n",
       "        -0.59785212, -1.02319532],\n",
       "       [ 1.        ,  2.75210776, -0.41942582, ..., -1.31524101,\n",
       "        -0.59785212, -1.02319532],\n",
       "       [ 1.        , -0.36335786,  2.38421182, ...,  1.98604749,\n",
       "         0.75084115,  0.37567278],\n",
       "       ...,\n",
       "       [ 1.        , -0.36335786, -0.41942582, ..., -0.21481151,\n",
       "         0.75084115,  0.37567278],\n",
       "       [ 1.        , -0.36335786, -0.41942582, ..., -0.21481151,\n",
       "        -0.59785212, -1.02319532],\n",
       "       [ 1.        ,  2.75210776, -0.41942582, ..., -0.21481151,\n",
       "        -0.59785212, -1.02319532]])"
      ]
     },
     "execution_count": 114,
     "metadata": {},
     "output_type": "execute_result"
    }
   ],
   "source": [
    "sm.add_constant(X_train)"
   ]
  },
  {
   "cell_type": "code",
   "execution_count": 115,
   "id": "363bbfeb-c20e-4470-8220-baf5a32f67b6",
   "metadata": {},
   "outputs": [],
   "source": [
    "model = sm.OLS(y_train, sm.add_constant(X_train))\n",
    "results = model.fit()"
   ]
  },
  {
   "cell_type": "code",
   "execution_count": 116,
   "id": "7921ba08-2076-4b4f-aecd-f8db5198305e",
   "metadata": {},
   "outputs": [
    {
     "name": "stdout",
     "output_type": "stream",
     "text": [
      "R2-score:  0.48505971545522963\n",
      "RMSE: 1.6139107893080346e+17\n"
     ]
    }
   ],
   "source": [
    "predictions = results.predict(sm.add_constant(X))\n",
    "print(\"R2-score: \", results.rsquared)\n",
    "print(\"RMSE:\", np.sqrt(mean_squared_error(y, predictions)))"
   ]
  },
  {
   "cell_type": "markdown",
   "id": "ad9aff44-ef21-4857-b113-ad361261aa0f",
   "metadata": {},
   "source": [
    "## Statsmodel Results"
   ]
  },
  {
   "cell_type": "code",
   "execution_count": 130,
   "id": "106b2673-0bb1-4923-8241-8ebc38e32548",
   "metadata": {},
   "outputs": [
    {
     "data": {
      "text/html": [
       "<table class=\"simpletable\">\n",
       "<caption>OLS Regression Results</caption>\n",
       "<tr>\n",
       "  <th>Dep. Variable:</th>    <td>last_sold_price_gbp</td> <th>  R-squared:         </th> <td>   0.485</td> \n",
       "</tr>\n",
       "<tr>\n",
       "  <th>Model:</th>                    <td>OLS</td>         <th>  Adj. R-squared:    </th> <td>   0.483</td> \n",
       "</tr>\n",
       "<tr>\n",
       "  <th>Method:</th>              <td>Least Squares</td>    <th>  F-statistic:       </th> <td>   201.7</td> \n",
       "</tr>\n",
       "<tr>\n",
       "  <th>Date:</th>              <td>Mon, 20 Jun 2022</td>   <th>  Prob (F-statistic):</th>  <td>  0.00</td>  \n",
       "</tr>\n",
       "<tr>\n",
       "  <th>Time:</th>                  <td>11:08:29</td>       <th>  Log-Likelihood:    </th> <td> -94915.</td> \n",
       "</tr>\n",
       "<tr>\n",
       "  <th>No. Observations:</th>       <td>  6885</td>        <th>  AIC:               </th> <td>1.899e+05</td>\n",
       "</tr>\n",
       "<tr>\n",
       "  <th>Df Residuals:</th>           <td>  6852</td>        <th>  BIC:               </th> <td>1.901e+05</td>\n",
       "</tr>\n",
       "<tr>\n",
       "  <th>Df Model:</th>               <td>    32</td>        <th>                     </th>     <td> </td>    \n",
       "</tr>\n",
       "<tr>\n",
       "  <th>Covariance Type:</th>       <td>nonrobust</td>      <th>                     </th>     <td> </td>    \n",
       "</tr>\n",
       "</table>\n",
       "<table class=\"simpletable\">\n",
       "<tr>\n",
       "                    <td></td>                      <th>coef</th>     <th>std err</th>      <th>t</th>      <th>P>|t|</th>  <th>[0.025</th>    <th>0.975]</th>  \n",
       "</tr>\n",
       "<tr>\n",
       "  <th>const.</th>                               <td> 5.857e+05</td> <td> 2837.968</td> <td>  206.378</td> <td> 0.000</td> <td>  5.8e+05</td> <td> 5.91e+05</td>\n",
       "</tr>\n",
       "<tr>\n",
       "  <th>postcode_half1_BR1</th>                   <td> 1.991e+17</td> <td> 5.21e+17</td> <td>    0.382</td> <td> 0.703</td> <td>-8.23e+17</td> <td> 1.22e+18</td>\n",
       "</tr>\n",
       "<tr>\n",
       "  <th>postcode_half1_BR2</th>                   <td> 2.213e+17</td> <td> 5.79e+17</td> <td>    0.382</td> <td> 0.703</td> <td>-9.15e+17</td> <td> 1.36e+18</td>\n",
       "</tr>\n",
       "<tr>\n",
       "  <th>postcode_half1_BR3</th>                   <td>  1.46e+17</td> <td> 3.82e+17</td> <td>    0.382</td> <td> 0.703</td> <td>-6.03e+17</td> <td> 8.95e+17</td>\n",
       "</tr>\n",
       "<tr>\n",
       "  <th>postcode_half1_BR4</th>                   <td> 1.052e+17</td> <td> 2.75e+17</td> <td>    0.382</td> <td> 0.703</td> <td>-4.35e+17</td> <td> 6.45e+17</td>\n",
       "</tr>\n",
       "<tr>\n",
       "  <th>postcode_half1_BR5</th>                   <td> 1.664e+17</td> <td> 4.36e+17</td> <td>    0.382</td> <td> 0.703</td> <td>-6.88e+17</td> <td> 1.02e+18</td>\n",
       "</tr>\n",
       "<tr>\n",
       "  <th>postcode_half1_BR6</th>                   <td> 1.784e+17</td> <td> 4.67e+17</td> <td>    0.382</td> <td> 0.703</td> <td>-7.37e+17</td> <td> 1.09e+18</td>\n",
       "</tr>\n",
       "<tr>\n",
       "  <th>postcode_half1_BR7</th>                   <td> 1.131e+17</td> <td> 2.96e+17</td> <td>    0.382</td> <td> 0.703</td> <td>-4.67e+17</td> <td> 6.94e+17</td>\n",
       "</tr>\n",
       "<tr>\n",
       "  <th>postcode_half1_CR0</th>                   <td> 2.256e+17</td> <td> 5.91e+17</td> <td>    0.382</td> <td> 0.703</td> <td>-9.32e+17</td> <td> 1.38e+18</td>\n",
       "</tr>\n",
       "<tr>\n",
       "  <th>postcode_half1_CR2</th>                   <td> 1.622e+17</td> <td> 4.25e+17</td> <td>    0.382</td> <td> 0.703</td> <td> -6.7e+17</td> <td> 9.95e+17</td>\n",
       "</tr>\n",
       "<tr>\n",
       "  <th>postcode_half1_CR4</th>                   <td> 1.399e+17</td> <td> 3.66e+17</td> <td>    0.382</td> <td> 0.703</td> <td>-5.78e+17</td> <td> 8.58e+17</td>\n",
       "</tr>\n",
       "<tr>\n",
       "  <th>postcode_half1_CR5</th>                   <td>   1.5e+17</td> <td> 3.93e+17</td> <td>    0.382</td> <td> 0.703</td> <td> -6.2e+17</td> <td>  9.2e+17</td>\n",
       "</tr>\n",
       "<tr>\n",
       "  <th>postcode_half1_CR7</th>                   <td> 1.221e+17</td> <td>  3.2e+17</td> <td>    0.382</td> <td> 0.703</td> <td>-5.05e+17</td> <td> 7.49e+17</td>\n",
       "</tr>\n",
       "<tr>\n",
       "  <th>postcode_half1_CR8</th>                   <td> 1.415e+17</td> <td> 3.71e+17</td> <td>    0.382</td> <td> 0.703</td> <td>-5.85e+17</td> <td> 8.68e+17</td>\n",
       "</tr>\n",
       "<tr>\n",
       "  <th>property_type_bungalow property</th>      <td> -4.75e+15</td> <td> 1.24e+16</td> <td>   -0.382</td> <td> 0.703</td> <td>-2.91e+16</td> <td> 1.96e+16</td>\n",
       "</tr>\n",
       "<tr>\n",
       "  <th>property_type_converted flat</th>         <td>-1.134e+15</td> <td> 2.97e+15</td> <td>   -0.382</td> <td> 0.703</td> <td>-6.96e+15</td> <td> 4.69e+15</td>\n",
       "</tr>\n",
       "<tr>\n",
       "  <th>property_type_detached bungalow</th>      <td> -8.41e+15</td> <td>  2.2e+16</td> <td>   -0.382</td> <td> 0.703</td> <td>-5.16e+16</td> <td> 3.48e+16</td>\n",
       "</tr>\n",
       "<tr>\n",
       "  <th>property_type_detached house</th>         <td> -2.08e+16</td> <td> 5.45e+16</td> <td>   -0.382</td> <td> 0.703</td> <td>-1.28e+17</td> <td>  8.6e+16</td>\n",
       "</tr>\n",
       "<tr>\n",
       "  <th>property_type_detached property</th>      <td>-3.459e+15</td> <td> 9.06e+15</td> <td>   -0.382</td> <td> 0.703</td> <td>-2.12e+16</td> <td> 1.43e+16</td>\n",
       "</tr>\n",
       "<tr>\n",
       "  <th>property_type_end terrace bungalow</th>   <td>-6.549e+14</td> <td> 1.71e+15</td> <td>   -0.382</td> <td> 0.703</td> <td>-4.02e+15</td> <td> 2.71e+15</td>\n",
       "</tr>\n",
       "<tr>\n",
       "  <th>property_type_end terrace house</th>      <td>-1.794e+16</td> <td>  4.7e+16</td> <td>   -0.382</td> <td> 0.703</td> <td> -1.1e+17</td> <td> 7.42e+16</td>\n",
       "</tr>\n",
       "<tr>\n",
       "  <th>property_type_end terrace property</th>   <td>-1.732e+15</td> <td> 4.54e+15</td> <td>   -0.382</td> <td> 0.703</td> <td>-1.06e+16</td> <td> 7.16e+15</td>\n",
       "</tr>\n",
       "<tr>\n",
       "  <th>property_type_flat/maisonette</th>        <td>-2.617e+15</td> <td> 6.85e+15</td> <td>   -0.382</td> <td> 0.703</td> <td> -1.6e+16</td> <td> 1.08e+16</td>\n",
       "</tr>\n",
       "<tr>\n",
       "  <th>property_type_mid terrace bungalow</th>   <td>-1.134e+15</td> <td> 2.97e+15</td> <td>   -0.382</td> <td> 0.703</td> <td>-6.96e+15</td> <td> 4.69e+15</td>\n",
       "</tr>\n",
       "<tr>\n",
       "  <th>property_type_mid terrace house</th>      <td>-2.144e+16</td> <td> 5.61e+16</td> <td>   -0.382</td> <td> 0.703</td> <td>-1.31e+17</td> <td> 8.86e+16</td>\n",
       "</tr>\n",
       "<tr>\n",
       "  <th>property_type_purpose built flat</th>     <td>-1.851e+15</td> <td> 4.85e+15</td> <td>   -0.382</td> <td> 0.703</td> <td>-1.14e+16</td> <td> 7.65e+15</td>\n",
       "</tr>\n",
       "<tr>\n",
       "  <th>property_type_semi-detached bungalow</th> <td>-7.751e+15</td> <td> 2.03e+16</td> <td>   -0.382</td> <td> 0.703</td> <td>-4.75e+16</td> <td>  3.2e+16</td>\n",
       "</tr>\n",
       "<tr>\n",
       "  <th>property_type_semi-detached house</th>    <td>-2.586e+16</td> <td> 6.77e+16</td> <td>   -0.382</td> <td> 0.703</td> <td>-1.59e+17</td> <td> 1.07e+17</td>\n",
       "</tr>\n",
       "<tr>\n",
       "  <th>property_type_semi-detached property</th> <td>-3.639e+15</td> <td> 9.53e+15</td> <td>   -0.382</td> <td> 0.703</td> <td>-2.23e+16</td> <td>  1.5e+16</td>\n",
       "</tr>\n",
       "<tr>\n",
       "  <th>property_type_terrace property</th>       <td>-1.533e+16</td> <td> 4.01e+16</td> <td>   -0.382</td> <td> 0.703</td> <td> -9.4e+16</td> <td> 6.34e+16</td>\n",
       "</tr>\n",
       "<tr>\n",
       "  <th>property_type_terraced</th>               <td>-3.136e+15</td> <td> 8.21e+15</td> <td>   -0.382</td> <td> 0.703</td> <td>-1.92e+16</td> <td>  1.3e+16</td>\n",
       "</tr>\n",
       "<tr>\n",
       "  <th>property_type_terraced bungalow</th>      <td> -1.31e+15</td> <td> 3.43e+15</td> <td>   -0.382</td> <td> 0.703</td> <td>-8.03e+15</td> <td> 5.41e+15</td>\n",
       "</tr>\n",
       "<tr>\n",
       "  <th>bedrooms</th>                             <td> 7.599e+04</td> <td> 3624.420</td> <td>   20.967</td> <td> 0.000</td> <td> 6.89e+04</td> <td> 8.31e+04</td>\n",
       "</tr>\n",
       "<tr>\n",
       "  <th>bathrooms</th>                            <td> 5.626e+04</td> <td> 3360.903</td> <td>   16.739</td> <td> 0.000</td> <td> 4.97e+04</td> <td> 6.28e+04</td>\n",
       "</tr>\n",
       "<tr>\n",
       "  <th>lounges</th>                              <td> 4.973e+04</td> <td> 3251.666</td> <td>   15.295</td> <td> 0.000</td> <td> 4.34e+04</td> <td> 5.61e+04</td>\n",
       "</tr>\n",
       "</table>\n",
       "<table class=\"simpletable\">\n",
       "<tr>\n",
       "  <th>Omnibus:</th>       <td>10448.620</td> <th>  Durbin-Watson:     </th>  <td>   2.040</td>  \n",
       "</tr>\n",
       "<tr>\n",
       "  <th>Prob(Omnibus):</th>  <td> 0.000</td>   <th>  Jarque-Bera (JB):  </th> <td>7465197.000</td>\n",
       "</tr>\n",
       "<tr>\n",
       "  <th>Skew:</th>           <td> 9.253</td>   <th>  Prob(JB):          </th>  <td>    0.00</td>  \n",
       "</tr>\n",
       "<tr>\n",
       "  <th>Kurtosis:</th>       <td>163.250</td>  <th>  Cond. No.          </th>  <td>3.42e+15</td>  \n",
       "</tr>\n",
       "</table><br/><br/>Notes:<br/>[1] Standard Errors assume that the covariance matrix of the errors is correctly specified.<br/>[2] The smallest eigenvalue is 1.46e-27. This might indicate that there are<br/>strong multicollinearity problems or that the design matrix is singular."
      ],
      "text/plain": [
       "<class 'statsmodels.iolib.summary.Summary'>\n",
       "\"\"\"\n",
       "                             OLS Regression Results                            \n",
       "===============================================================================\n",
       "Dep. Variable:     last_sold_price_gbp   R-squared:                       0.485\n",
       "Model:                             OLS   Adj. R-squared:                  0.483\n",
       "Method:                  Least Squares   F-statistic:                     201.7\n",
       "Date:                 Mon, 20 Jun 2022   Prob (F-statistic):               0.00\n",
       "Time:                         11:08:29   Log-Likelihood:                -94915.\n",
       "No. Observations:                 6885   AIC:                         1.899e+05\n",
       "Df Residuals:                     6852   BIC:                         1.901e+05\n",
       "Df Model:                           32                                         \n",
       "Covariance Type:             nonrobust                                         \n",
       "========================================================================================================\n",
       "                                           coef    std err          t      P>|t|      [0.025      0.975]\n",
       "--------------------------------------------------------------------------------------------------------\n",
       "const.                                5.857e+05   2837.968    206.378      0.000     5.8e+05    5.91e+05\n",
       "postcode_half1_BR1                    1.991e+17   5.21e+17      0.382      0.703   -8.23e+17    1.22e+18\n",
       "postcode_half1_BR2                    2.213e+17   5.79e+17      0.382      0.703   -9.15e+17    1.36e+18\n",
       "postcode_half1_BR3                     1.46e+17   3.82e+17      0.382      0.703   -6.03e+17    8.95e+17\n",
       "postcode_half1_BR4                    1.052e+17   2.75e+17      0.382      0.703   -4.35e+17    6.45e+17\n",
       "postcode_half1_BR5                    1.664e+17   4.36e+17      0.382      0.703   -6.88e+17    1.02e+18\n",
       "postcode_half1_BR6                    1.784e+17   4.67e+17      0.382      0.703   -7.37e+17    1.09e+18\n",
       "postcode_half1_BR7                    1.131e+17   2.96e+17      0.382      0.703   -4.67e+17    6.94e+17\n",
       "postcode_half1_CR0                    2.256e+17   5.91e+17      0.382      0.703   -9.32e+17    1.38e+18\n",
       "postcode_half1_CR2                    1.622e+17   4.25e+17      0.382      0.703    -6.7e+17    9.95e+17\n",
       "postcode_half1_CR4                    1.399e+17   3.66e+17      0.382      0.703   -5.78e+17    8.58e+17\n",
       "postcode_half1_CR5                      1.5e+17   3.93e+17      0.382      0.703    -6.2e+17     9.2e+17\n",
       "postcode_half1_CR7                    1.221e+17    3.2e+17      0.382      0.703   -5.05e+17    7.49e+17\n",
       "postcode_half1_CR8                    1.415e+17   3.71e+17      0.382      0.703   -5.85e+17    8.68e+17\n",
       "property_type_bungalow property       -4.75e+15   1.24e+16     -0.382      0.703   -2.91e+16    1.96e+16\n",
       "property_type_converted flat         -1.134e+15   2.97e+15     -0.382      0.703   -6.96e+15    4.69e+15\n",
       "property_type_detached bungalow       -8.41e+15    2.2e+16     -0.382      0.703   -5.16e+16    3.48e+16\n",
       "property_type_detached house          -2.08e+16   5.45e+16     -0.382      0.703   -1.28e+17     8.6e+16\n",
       "property_type_detached property      -3.459e+15   9.06e+15     -0.382      0.703   -2.12e+16    1.43e+16\n",
       "property_type_end terrace bungalow   -6.549e+14   1.71e+15     -0.382      0.703   -4.02e+15    2.71e+15\n",
       "property_type_end terrace house      -1.794e+16    4.7e+16     -0.382      0.703    -1.1e+17    7.42e+16\n",
       "property_type_end terrace property   -1.732e+15   4.54e+15     -0.382      0.703   -1.06e+16    7.16e+15\n",
       "property_type_flat/maisonette        -2.617e+15   6.85e+15     -0.382      0.703    -1.6e+16    1.08e+16\n",
       "property_type_mid terrace bungalow   -1.134e+15   2.97e+15     -0.382      0.703   -6.96e+15    4.69e+15\n",
       "property_type_mid terrace house      -2.144e+16   5.61e+16     -0.382      0.703   -1.31e+17    8.86e+16\n",
       "property_type_purpose built flat     -1.851e+15   4.85e+15     -0.382      0.703   -1.14e+16    7.65e+15\n",
       "property_type_semi-detached bungalow -7.751e+15   2.03e+16     -0.382      0.703   -4.75e+16     3.2e+16\n",
       "property_type_semi-detached house    -2.586e+16   6.77e+16     -0.382      0.703   -1.59e+17    1.07e+17\n",
       "property_type_semi-detached property -3.639e+15   9.53e+15     -0.382      0.703   -2.23e+16     1.5e+16\n",
       "property_type_terrace property       -1.533e+16   4.01e+16     -0.382      0.703    -9.4e+16    6.34e+16\n",
       "property_type_terraced               -3.136e+15   8.21e+15     -0.382      0.703   -1.92e+16     1.3e+16\n",
       "property_type_terraced bungalow       -1.31e+15   3.43e+15     -0.382      0.703   -8.03e+15    5.41e+15\n",
       "bedrooms                              7.599e+04   3624.420     20.967      0.000    6.89e+04    8.31e+04\n",
       "bathrooms                             5.626e+04   3360.903     16.739      0.000    4.97e+04    6.28e+04\n",
       "lounges                               4.973e+04   3251.666     15.295      0.000    4.34e+04    5.61e+04\n",
       "==============================================================================\n",
       "Omnibus:                    10448.620   Durbin-Watson:                   2.040\n",
       "Prob(Omnibus):                  0.000   Jarque-Bera (JB):          7465197.000\n",
       "Skew:                           9.253   Prob(JB):                         0.00\n",
       "Kurtosis:                     163.250   Cond. No.                     3.42e+15\n",
       "==============================================================================\n",
       "\n",
       "Notes:\n",
       "[1] Standard Errors assume that the covariance matrix of the errors is correctly specified.\n",
       "[2] The smallest eigenvalue is 1.46e-27. This might indicate that there are\n",
       "strong multicollinearity problems or that the design matrix is singular.\n",
       "\"\"\""
      ]
     },
     "execution_count": 130,
     "metadata": {},
     "output_type": "execute_result"
    }
   ],
   "source": [
    "results.summary(xname=[\"const.\"]+[each for each in X.columns])"
   ]
  },
  {
   "cell_type": "markdown",
   "id": "181ade60-9415-4c16-9626-5cd21316931f",
   "metadata": {},
   "source": [
    "# COEFFICIENT ANALYSIS"
   ]
  },
  {
   "cell_type": "code",
   "execution_count": 53,
   "id": "0bcefc16-a987-4154-b68b-03c77f60e4f9",
   "metadata": {},
   "outputs": [],
   "source": [
    "# collect the model coefficients in a dataframe\n",
    "lin_model_1_coefs = pd.DataFrame(lin_model_1.coef_.flatten(), index=X.columns,\n",
    "                       columns=['coefficients'])\n",
    "# calculate the absolute values of the coefficients\n",
    "lin_model_1_coefs['coef_abs'] = lin_model_1_coefs.coefficients.abs()\n",
    "#lin_model_1_coefs.sort_values('coef_abs', ascending=False).head(20)"
   ]
  },
  {
   "cell_type": "code",
   "execution_count": 54,
   "id": "05ccc79f-4850-4079-bbf1-347e5997c672",
   "metadata": {},
   "outputs": [
    {
     "data": {
      "image/png": "[encoded data removed]",
      "text/plain": [
       "<Figure size 576x720 with 1 Axes>"
      ]
     },
     "metadata": {
      "needs_background": "light"
     },
     "output_type": "display_data"
    }
   ],
   "source": [
    "# plot the magnitude of the coefficients\n",
    "fig, ax = plt.subplots(figsize=(8,10))\n",
    "n_values_to_display = 50\n",
    "plt_x = lin_model_1_coefs['coef_abs'].sort_values( ascending=False)[:n_values_to_display][::-1]\n",
    "plt_y = lin_model_1_coefs[['coef_abs']].sort_values('coef_abs', ascending=False)[:n_values_to_display].index[::-1]\n",
    "\n",
    "ax.barh(y=plt_y, width=plt_x, height=0.4, color='aquamarine', align='edge', zorder=3)\n",
    "plt.yticks(fontsize=12) #fontdict={\"fontsize\":10})\n",
    "#lin_model_1_coefs['coef_abs'].sort_values(ascending=False)[:20].plot(kind='barh', figsize=(10,20), color='purple')\n",
    "ax.set_title(f\"Linear Regression Model - Coefficient Strength\\nTop {n_values_to_display} by absolute value \", fontweight='bold')#fontdict={'fontweight':\"b\"})\n",
    "\n",
    "ax.set_facecolor('black')\n",
    "ax.grid(axis='x', zorder=0)\n",
    "ax.tick_params(labeltop=True)\n",
    "plt.tight_layout();"
   ]
  },
  {
   "cell_type": "code",
   "execution_count": null,
   "id": "aa3808a8-8dc1-40ea-b52d-094c7c5b9a04",
   "metadata": {},
   "outputs": [],
   "source": []
  },
  {
   "cell_type": "code",
   "execution_count": 132,
   "id": "9712a7d6-ef84-478f-9da7-51b33ea5a560",
   "metadata": {},
   "outputs": [
    {
     "data": {
      "image/png": "[encoded data removed]",
      "text/plain": [
       "<Figure size 576x720 with 1 Axes>"
      ]
     },
     "metadata": {
      "needs_background": "light"
     },
     "output_type": "display_data"
    }
   ],
   "source": [
    "# collect the model coefficients in a dataframe\n",
    "lasso_model_1_coefs = pd.DataFrame(lasso_model_1.coef_.flatten(), index=X.columns,\n",
    "                       columns=['coefficients'])\n",
    "# calculate the absolute values of the coefficients\n",
    "lasso_model_1_coefs['coef_abs'] = lasso_model_1_coefs.coefficients.abs()\n",
    "#lasso_model_1_coefs.sort_values('coef_abs', ascending=False).head(20)\n",
    "\n",
    "\n",
    "# plot the magnitude of the coefficients\n",
    "fig, ax = plt.subplots(figsize=(8,10))\n",
    "n_values_to_display = 50\n",
    "plt_x = lasso_model_1_coefs['coef_abs'].sort_values( ascending=False)[:n_values_to_display][::-1]\n",
    "plt_y = lasso_model_1_coefs[['coef_abs']].sort_values('coef_abs', ascending=False)[:n_values_to_display].index[::-1]\n",
    "\n",
    "ax.barh(y=plt_y, width=plt_x, height=0.4, color='aquamarine', align='edge', zorder=3)\n",
    "plt.yticks(fontsize=12) #fontdict={\"fontsize\":10})\n",
    "#lasso_model_1_coefs['coef_abs'].sort_values(ascending=False)[:20].plot(kind='barh', figsize=(10,20), color='purple')\n",
    "ax.set_title(f\"Linear Regression Model - Coefficient Strength\\nTop {n_values_to_display} by absolute value \", fontweight='bold')#fontdict={'fontweight':\"b\"})\n",
    "\n",
    "ax.set_facecolor('black')\n",
    "ax.grid(axis='x', zorder=0)\n",
    "ax.tick_params(labeltop=True)\n",
    "plt.tight_layout();"
   ]
  },
  {
   "cell_type": "markdown",
   "id": "60c92dfc-5076-4c03-93e0-39d03f2cf286",
   "metadata": {},
   "source": [
    "### Visually looking at residuals \n",
    "Minus the predictions from the true to get residuals. Plot a histogram to see if normally distributed. Find some measure of normality to confirm"
   ]
  },
  {
   "cell_type": "markdown",
   "id": "9164a32e-36c7-4de0-b119-3c2a2f0719e0",
   "metadata": {
    "jp-MarkdownHeadingCollapsed": true,
    "tags": []
   },
   "source": [
    "### Visually testing predictions\n"
   ]
  },
  {
   "cell_type": "code",
   "execution_count": 175,
   "id": "a7dae5ce-34cc-4c4f-93a5-2131a2bb4461",
   "metadata": {},
   "outputs": [
    {
     "data": {
      "text/plain": [
       "last_sold_price_gbp    532500.0\n",
       "Name: 70352, dtype: float64"
      ]
     },
     "execution_count": 175,
     "metadata": {},
     "output_type": "execute_result"
    }
   ],
   "source": [
    "y_test.iloc[25]"
   ]
  },
  {
   "cell_type": "code",
   "execution_count": 176,
   "id": "0023a698-45c5-4226-83b1-bb86abce500a",
   "metadata": {},
   "outputs": [
    {
     "data": {
      "text/plain": [
       "array([[573118.31715066]])"
      ]
     },
     "execution_count": 176,
     "metadata": {},
     "output_type": "execute_result"
    }
   ],
   "source": [
    "lin_model_1.predict(X_test[25])"
   ]
  },
  {
   "cell_type": "code",
   "execution_count": 177,
   "id": "791515c9-03ed-4a8c-8827-18ddcb600ec6",
   "metadata": {},
   "outputs": [
    {
     "data": {
      "text/plain": [
       "array([548880.])"
      ]
     },
     "execution_count": 177,
     "metadata": {},
     "output_type": "execute_result"
    }
   ],
   "source": [
    "rf_model_1.predict(X_test[25])"
   ]
  },
  {
   "cell_type": "code",
   "execution_count": 178,
   "id": "29e0b460-ad92-4589-9a42-bb1188a52657",
   "metadata": {},
   "outputs": [
    {
     "data": {
      "text/plain": [
       "array([575000.])"
      ]
     },
     "execution_count": 178,
     "metadata": {},
     "output_type": "execute_result"
    }
   ],
   "source": [
    "dt_model_1.predict(X_test[25])"
   ]
  },
  {
   "cell_type": "markdown",
   "id": "c23b1354-e0e4-4f9e-b3ee-866cc0b7ec50",
   "metadata": {},
   "source": [
    "# CONCLUSIONS"
   ]
  },
  {
   "cell_type": "markdown",
   "id": "96ff1582-3b51-4080-8e6d-fde5df87a063",
   "metadata": {},
   "source": [
    "\n",
    "The best score achieved was using a ________ model. This means we can predict the true value of properties in the given areas of London with an accuracy of __% using our best model. \n",
    "\n",
    "The coefficients which had the largest affect on our score were:\n",
    "-\n",
    "-\n",
    "-\n",
    "-\n",
    "\n"
   ]
  },
  {
   "cell_type": "markdown",
   "id": "eb8748b6-35f8-4b8a-96f7-a5cfea62a0c8",
   "metadata": {},
   "source": [
    "# NEXT STEPS\n"
   ]
  },
  {
   "cell_type": "markdown",
   "id": "012b7a5c-e297-4deb-a4fd-bd7a3cb74ebb",
   "metadata": {},
   "source": [
    "Our model should be improved in a number of ways. \n",
    "\n",
    "Next goals of the model are to scrape all available properties in London (circa 3.5 Million). "
   ]
  },
  {
   "cell_type": "code",
   "execution_count": null,
   "id": "283f83fe-4493-4598-a75d-eea67f5c9c72",
   "metadata": {},
   "outputs": [],
   "source": []
  }
 ],
 "metadata": {
  "kernelspec": {
   "display_name": "Python 3 (ipykernel)",
   "language": "python",
   "name": "python3"
  },
  "language_info": {
   "codemirror_mode": {
    "name": "ipython",
    "version": 3
   },
   "file_extension": ".py",
   "mimetype": "text/x-python",
   "name": "python",
   "nbconvert_exporter": "python",
   "pygments_lexer": "ipython3",
   "version": "3.9.7"
  }
 },
 "nbformat": 4,
 "nbformat_minor": 5
}
