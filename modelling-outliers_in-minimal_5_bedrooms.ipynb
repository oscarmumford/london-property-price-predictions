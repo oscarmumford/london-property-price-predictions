{
 "cells": [
  {
   "cell_type": "markdown",
   "id": "2940211f-8b8d-43e1-991e-97252212a9e6",
   "metadata": {},
   "source": [
    "## IMPORTS"
   ]
  },
  {
   "cell_type": "code",
   "execution_count": 3,
   "id": "20848267-abc4-447d-be99-e132a01198d1",
   "metadata": {
    "tags": []
   },
   "outputs": [],
   "source": [
    "import pandas as pd\n",
    "import matplotlib.pyplot as plt\n",
    "import numpy as np\n",
    "import seaborn as sns\n",
    "import plotly.express as px"
   ]
  },
  {
   "cell_type": "code",
   "execution_count": 4,
   "id": "7a028c45-328f-4755-bbb9-38cdbb4b7207",
   "metadata": {},
   "outputs": [],
   "source": [
    "from sklearn.model_selection import cross_val_score, KFold, train_test_split, GridSearchCV\n",
    "from sklearn.linear_model import LinearRegression\n",
    "from sklearn.preprocessing import StandardScaler, PolynomialFeatures\n",
    "from sklearn.ensemble import RandomForestRegressor\n",
    "from sklearn.pipeline import Pipeline\n",
    "from sklearn.tree import DecisionTreeRegressor\n",
    "from sklearn import datasets\n",
    "from sklearn.metrics import mean_squared_error, r2_score\n",
    "\n",
    "import scipy\n",
    "import scipy.stats as stats\n",
    "import statsmodels.api as sm"
   ]
  },
  {
   "cell_type": "markdown",
   "id": "7837ea39-b789-4448-89e8-a00d40b7625d",
   "metadata": {
    "toc-hr-collapsed": true
   },
   "source": [
    "# MODELLING - WITHOUT STANDARDISATION AND WITHOUT REMOVING OUTLIERS"
   ]
  },
  {
   "cell_type": "markdown",
   "id": "0b8839d4-9bc5-4a01-85fc-4895262c49df",
   "metadata": {},
   "source": [
    "- Outliers have been left in\n",
    "- Standardisation not applied\n",
    "- Feature count: 4661\n",
    "- Sparse Matrix Applied"
   ]
  },
  {
   "cell_type": "code",
   "execution_count": 5,
   "id": "dab504f5-a606-49bc-ba33-911ab89b5f6c",
   "metadata": {},
   "outputs": [],
   "source": [
    "modelling_dataset = \"./data/bromley_croydon_clean/brom_croy_2021_2022_freehold_5_bed_cutoff.csv\""
   ]
  },
  {
   "cell_type": "code",
   "execution_count": 13,
   "id": "a7c3eda5-70bf-4cde-b96a-559426e65fb8",
   "metadata": {},
   "outputs": [],
   "source": [
    "df = pd.read_csv(modelling_dataset) "
   ]
  },
  {
   "cell_type": "code",
   "execution_count": 7,
   "id": "b68cd129-732c-4b37-b4a2-ce6f4f099bc8",
   "metadata": {},
   "outputs": [],
   "source": [
    "#geocode_df = pd.read_csv('./data/bromley_croydon_clean/brom_croy_2021_2022_freehold_geocode_full.csv')"
   ]
  },
  {
   "cell_type": "code",
   "execution_count": 8,
   "id": "8440f6ca-dc3e-4e3a-b26d-408cdac6d059",
   "metadata": {},
   "outputs": [],
   "source": [
    "#geocode_dataset[geocode_dataset.result == 0].index"
   ]
  },
  {
   "cell_type": "code",
   "execution_count": 9,
   "id": "9f0b4c19-221d-4f2d-99bb-b7a1e46e38fb",
   "metadata": {},
   "outputs": [],
   "source": [
    "#[59, 807, 1796, 2846, 4055, 4539, 6224]"
   ]
  },
  {
   "cell_type": "code",
   "execution_count": 14,
   "id": "5bd1b86f-0538-4aea-8ae0-76122ab43df1",
   "metadata": {},
   "outputs": [],
   "source": [
    "#textual = ['postcode', 'postcode_half1', 'property_type']\n",
    "numerical = ['bedrooms','bathrooms','lounges']\n",
    "pred = ['last_sold_price_gbp']\n",
    "\n"
   ]
  },
  {
   "cell_type": "markdown",
   "id": "83c7d260-9d0e-457e-bcb9-75e218ef810b",
   "metadata": {},
   "source": [
    "#### Dummification"
   ]
  },
  {
   "cell_type": "markdown",
   "id": "82a8f2dd-0882-452c-86cf-969854510a06",
   "metadata": {},
   "source": [
    "Minimal Features - Just bedrooms bathrooms and lounges"
   ]
  },
  {
   "cell_type": "code",
   "execution_count": null,
   "id": "2290698c-a942-4159-a919-b1c02b791b38",
   "metadata": {},
   "outputs": [],
   "source": []
  },
  {
   "cell_type": "code",
   "execution_count": 15,
   "id": "59eb20c2-f465-4050-b8ef-76646c4e4b92",
   "metadata": {
    "tags": []
   },
   "outputs": [],
   "source": [
    "dum_df = pd.concat([pd.get_dummies(df[numerical])], axis=1)"
   ]
  },
  {
   "cell_type": "code",
   "execution_count": 16,
   "id": "85749ef5-0d71-40cf-aff3-74ad43a192f8",
   "metadata": {},
   "outputs": [
    {
     "name": "stdout",
     "output_type": "stream",
     "text": [
      "<class 'pandas.core.frame.DataFrame'>\n",
      "RangeIndex: 7903 entries, 0 to 7902\n",
      "Data columns (total 3 columns):\n",
      " #   Column     Non-Null Count  Dtype  \n",
      "---  ------     --------------  -----  \n",
      " 0   bedrooms   7903 non-null   float64\n",
      " 1   bathrooms  7903 non-null   float64\n",
      " 2   lounges    7903 non-null   int64  \n",
      "dtypes: float64(2), int64(1)\n",
      "memory usage: 185.4 KB\n"
     ]
    }
   ],
   "source": [
    "dum_df.info()"
   ]
  },
  {
   "cell_type": "code",
   "execution_count": 17,
   "id": "fe552e09-7565-4fbf-8a3f-0a3fd3bb142a",
   "metadata": {},
   "outputs": [],
   "source": [
    "sparse_df = scipy.sparse.csr_matrix(dum_df.values)"
   ]
  },
  {
   "cell_type": "code",
   "execution_count": null,
   "id": "0d1803dc-7776-484b-b2b7-343eafd07387",
   "metadata": {},
   "outputs": [],
   "source": []
  },
  {
   "cell_type": "code",
   "execution_count": 34,
   "id": "96bdac2f-83e7-41c4-af17-e21bf188623d",
   "metadata": {},
   "outputs": [],
   "source": [
    "#X = dum_df\n",
    "#y = df[pred]\n",
    "y = np.log10(df[pred])\n",
    "\n",
    "#Sparse Version\n",
    "X = sparse_df\n"
   ]
  },
  {
   "cell_type": "code",
   "execution_count": null,
   "id": "a6d69a7f-2d13-4cf0-a6a9-76d5db2fceed",
   "metadata": {},
   "outputs": [],
   "source": []
  },
  {
   "cell_type": "markdown",
   "id": "be54ba65-31d5-4d93-989e-e32ec828693e",
   "metadata": {},
   "source": [
    "#### Train Test Split"
   ]
  },
  {
   "cell_type": "code",
   "execution_count": 35,
   "id": "152c8348-b186-47d1-a187-871ba09cab63",
   "metadata": {},
   "outputs": [],
   "source": [
    "train_test_tuple = X_train, X_test, y_train, y_test = train_test_split(X,y,test_size=0.2,shuffle=True)"
   ]
  },
  {
   "cell_type": "code",
   "execution_count": 36,
   "id": "7930f7cd-f13d-4470-9dc9-1a6c123064e0",
   "metadata": {},
   "outputs": [],
   "source": [
    "kf = 5 # KFold(n_splits=5, shuffle=True, random_state=10)"
   ]
  },
  {
   "cell_type": "markdown",
   "id": "03f6da2d-5604-4010-87b9-2e38da4ebf4e",
   "metadata": {},
   "source": [
    "#### Standardisation"
   ]
  },
  {
   "cell_type": "code",
   "execution_count": 37,
   "id": "5b3ea2e7-f840-467c-80be-9984ed781653",
   "metadata": {},
   "outputs": [],
   "source": [
    "# sc = StandardScaler()\n",
    "# X_train = sc.fit_transform(X_train)\n",
    "# X_test = sc.transform(X_test)"
   ]
  },
  {
   "cell_type": "code",
   "execution_count": 38,
   "id": "b5713ee1-0caa-46c3-954a-259003f28bd6",
   "metadata": {},
   "outputs": [],
   "source": [
    "#X_train = scipy.sparse.csr_matrix(X_train)\n",
    "#X_test = scipy.sparse.csr_matrix(X_test)"
   ]
  },
  {
   "cell_type": "markdown",
   "id": "af4c9b95-5b13-4da4-8fe5-705c5961a5cd",
   "metadata": {},
   "source": [
    "#### Creating a Model Scoring Function"
   ]
  },
  {
   "cell_type": "code",
   "execution_count": 39,
   "id": "9012368a-b37f-4aca-9e00-c4cd3ab4d1f6",
   "metadata": {},
   "outputs": [],
   "source": [
    "def model_scorer(model, X_tr, X_ts, y_tr, y_ts):\n",
    "    \"\"\"Convenience function to print model scores and return \"\"\"\n",
    "    train_score = model.score(X_tr, y_tr)\n",
    "    print('Train score:', train_score)\n",
    "    \n",
    "    cv = cross_val_score(model, X_tr, y_tr, cv=kf)\n",
    "    print('CV scores:', cv)\n",
    "    print('CV standard deviation:', cv.std() )\n",
    "    print('Mean CV score:', cv.mean())\n",
    "    \n",
    "    test_score = model.score(X_ts, y_ts)\n",
    "    print('Test score:', model.score(X_ts, y_ts))\n",
    "     \n",
    "    return {\"train_score\":train_score,\n",
    "            \"cv_scores\":cv,\n",
    "            \"test_score\":test_score}"
   ]
  },
  {
   "cell_type": "markdown",
   "id": "6ed6f45b-0561-4dae-8513-b5ba4778a356",
   "metadata": {},
   "source": [
    "#### Linear Regression - Good Score"
   ]
  },
  {
   "cell_type": "code",
   "execution_count": 40,
   "id": "f6ff22c0-0f7b-4bb4-9f5c-5a2b5bde812b",
   "metadata": {},
   "outputs": [
    {
     "data": {
      "text/plain": [
       "LinearRegression()"
      ]
     },
     "execution_count": 40,
     "metadata": {},
     "output_type": "execute_result"
    }
   ],
   "source": [
    "lin_model_1 = LinearRegression()\n",
    "lin_model_1.fit(X_train, y_train)\n"
   ]
  },
  {
   "cell_type": "code",
   "execution_count": 41,
   "id": "eef9c0b6-f7cd-4e15-8930-f9836ee52afc",
   "metadata": {},
   "outputs": [
    {
     "name": "stdout",
     "output_type": "stream",
     "text": [
      "Train score: 0.3596228604758258\n",
      "CV scores: [0.34179357 0.34721746 0.38026469 0.34462907 0.38087901]\n",
      "CV standard deviation: 0.017732916982732914\n",
      "Mean CV score: 0.3589567581925656\n",
      "Test score: 0.3411022207267468\n"
     ]
    }
   ],
   "source": [
    "model_scorer(lin_model_1, X_train, X_test, y_train, y_test);"
   ]
  },
  {
   "cell_type": "markdown",
   "id": "4a3f98b2-b4ec-4b83-8f9b-873ec12abfb4",
   "metadata": {},
   "source": [
    "#### Decision Tree - Good Score"
   ]
  },
  {
   "cell_type": "code",
   "execution_count": 42,
   "id": "57b5afab-504e-4197-aac6-1338aae9fe2f",
   "metadata": {},
   "outputs": [
    {
     "data": {
      "text/plain": [
       "DecisionTreeRegressor()"
      ]
     },
     "execution_count": 42,
     "metadata": {},
     "output_type": "execute_result"
    }
   ],
   "source": [
    "dt_model_1 = DecisionTreeRegressor()\n",
    "dt_model_1.fit(X_train, y_train)"
   ]
  },
  {
   "cell_type": "code",
   "execution_count": 204,
   "id": "d0153464-7f7e-43bf-891b-261b87b212e2",
   "metadata": {},
   "outputs": [
    {
     "name": "stdout",
     "output_type": "stream",
     "text": [
      "Train score: 0.5096969656388473\n",
      "CV scores: [0.51526451 0.40624587 0.5253415  0.46919159 0.43739607]\n",
      "CV standard deviation: 0.045249198565527775\n",
      "Mean CV score: 0.47068791002174015\n",
      "Test score: 0.5009746653343444\n"
     ]
    }
   ],
   "source": [
    "model_scorer(dt_model_1, *train_test_tuple);"
   ]
  },
  {
   "cell_type": "markdown",
   "id": "25875e18-2850-4549-a235-82c5b98cc5a2",
   "metadata": {
    "tags": []
   },
   "source": [
    "#### Random Forest - Best Mean CV Score"
   ]
  },
  {
   "cell_type": "code",
   "execution_count": 205,
   "id": "e630f49e-351e-4a71-9b91-439bb5c622ab",
   "metadata": {
    "tags": []
   },
   "outputs": [
    {
     "data": {
      "text/plain": [
       "RandomForestRegressor()"
      ]
     },
     "execution_count": 205,
     "metadata": {},
     "output_type": "execute_result"
    }
   ],
   "source": [
    "rf_model_1 = RandomForestRegressor()\n",
    "rf_model_1.fit(X_train, y_train.values.flatten())"
   ]
  },
  {
   "cell_type": "code",
   "execution_count": 206,
   "id": "420ace40-c4b7-44eb-9cac-8ef8b38c9c90",
   "metadata": {},
   "outputs": [
    {
     "data": {
      "text/plain": [
       "{'bootstrap': True,\n",
       " 'ccp_alpha': 0.0,\n",
       " 'criterion': 'mse',\n",
       " 'max_depth': None,\n",
       " 'max_features': 'auto',\n",
       " 'max_leaf_nodes': None,\n",
       " 'max_samples': None,\n",
       " 'min_impurity_decrease': 0.0,\n",
       " 'min_impurity_split': None,\n",
       " 'min_samples_leaf': 1,\n",
       " 'min_samples_split': 2,\n",
       " 'min_weight_fraction_leaf': 0.0,\n",
       " 'n_estimators': 100,\n",
       " 'n_jobs': None,\n",
       " 'oob_score': False,\n",
       " 'random_state': None,\n",
       " 'verbose': 0,\n",
       " 'warm_start': False}"
      ]
     },
     "execution_count": 206,
     "metadata": {},
     "output_type": "execute_result"
    }
   ],
   "source": [
    "rf_model_1.get_params()"
   ]
  },
  {
   "cell_type": "code",
   "execution_count": 207,
   "id": "c3a58739-938f-4388-a6f3-879ea025d320",
   "metadata": {},
   "outputs": [
    {
     "name": "stdout",
     "output_type": "stream",
     "text": [
      "Train score: 0.5085532609037084\n",
      "CV scores: [0.51930986 0.41171138 0.52496049 0.48371805 0.44387103]\n",
      "CV standard deviation: 0.04357795122872237\n",
      "Mean CV score: 0.4767141628857602\n",
      "Test score: 0.5015461987327532\n"
     ]
    }
   ],
   "source": [
    "model_scorer(rf_model_1, X_train, X_test, y_train.values.flatten(), y_test.values.flatten());"
   ]
  },
  {
   "cell_type": "markdown",
   "id": "3fd3af1e-ab53-493f-aeb4-54be737735b0",
   "metadata": {},
   "source": [
    "##### GridSearching Random Forest"
   ]
  },
  {
   "cell_type": "code",
   "execution_count": 102,
   "id": "08d903c9-8b72-4d40-802d-3409bd8720ce",
   "metadata": {},
   "outputs": [],
   "source": [
    "params = {'n_estimators': [100, 500, 700, 1000],\n",
    "          'max_depth': [None, 1, 2, 3],\n",
    "          'min_samples_split': [2, 3, 4]\n",
    "         } \n",
    "\n",
    "gs = GridSearchCV( \n",
    "             RandomForestRegressor(),\n",
    "             param_grid=params,\n",
    "             n_jobs=2,\n",
    "             cv = 3,\n",
    "             verbose=2\n",
    "            )\n"
   ]
  },
  {
   "cell_type": "code",
   "execution_count": 104,
   "id": "5d7678ab-b5eb-4ca8-b089-cdb8be6465b6",
   "metadata": {
    "collapsed": true,
    "jupyter": {
     "outputs_hidden": true
    },
    "tags": []
   },
   "outputs": [
    {
     "name": "stdout",
     "output_type": "stream",
     "text": [
      "Fitting 3 folds for each of 48 candidates, totalling 144 fits\n"
     ]
    },
    {
     "name": "stderr",
     "output_type": "stream",
     "text": [
      "/Users/oscarmumford/opt/anaconda3/lib/python3.9/site-packages/sklearn/model_selection/_validation.py:615: FitFailedWarning: Estimator fit failed. The score on this train-test partition for these parameters will be set to nan. Details: \n",
      "Traceback (most recent call last):\n",
      "  File \"/Users/oscarmumford/opt/anaconda3/lib/python3.9/site-packages/sklearn/model_selection/_validation.py\", line 598, in _fit_and_score\n",
      "    estimator.fit(X_train, y_train, **fit_params)\n",
      "  File \"/Users/oscarmumford/opt/anaconda3/lib/python3.9/site-packages/sklearn/ensemble/_forest.py\", line 387, in fit\n",
      "    trees = Parallel(n_jobs=self.n_jobs, verbose=self.verbose,\n",
      "  File \"/Users/oscarmumford/opt/anaconda3/lib/python3.9/site-packages/joblib/parallel.py\", line 1043, in __call__\n",
      "    if self.dispatch_one_batch(iterator):\n",
      "  File \"/Users/oscarmumford/opt/anaconda3/lib/python3.9/site-packages/joblib/parallel.py\", line 861, in dispatch_one_batch\n",
      "    self._dispatch(tasks)\n",
      "  File \"/Users/oscarmumford/opt/anaconda3/lib/python3.9/site-packages/joblib/parallel.py\", line 779, in _dispatch\n",
      "    job = self._backend.apply_async(batch, callback=cb)\n",
      "  File \"/Users/oscarmumford/opt/anaconda3/lib/python3.9/site-packages/joblib/_parallel_backends.py\", line 208, in apply_async\n",
      "    result = ImmediateResult(func)\n",
      "  File \"/Users/oscarmumford/opt/anaconda3/lib/python3.9/site-packages/joblib/_parallel_backends.py\", line 572, in __init__\n",
      "    self.results = batch()\n",
      "  File \"/Users/oscarmumford/opt/anaconda3/lib/python3.9/site-packages/joblib/parallel.py\", line 262, in __call__\n",
      "    return [func(*args, **kwargs)\n",
      "  File \"/Users/oscarmumford/opt/anaconda3/lib/python3.9/site-packages/joblib/parallel.py\", line 262, in <listcomp>\n",
      "    return [func(*args, **kwargs)\n",
      "  File \"/Users/oscarmumford/opt/anaconda3/lib/python3.9/site-packages/sklearn/utils/fixes.py\", line 222, in __call__\n",
      "    return self.function(*args, **kwargs)\n",
      "  File \"/Users/oscarmumford/opt/anaconda3/lib/python3.9/site-packages/sklearn/ensemble/_forest.py\", line 169, in _parallel_build_trees\n",
      "    tree.fit(X, y, sample_weight=curr_sample_weight, check_input=False)\n",
      "  File \"/Users/oscarmumford/opt/anaconda3/lib/python3.9/site-packages/sklearn/tree/_classes.py\", line 1252, in fit\n",
      "    super().fit(\n",
      "  File \"/Users/oscarmumford/opt/anaconda3/lib/python3.9/site-packages/sklearn/tree/_classes.py\", line 238, in fit\n",
      "    raise ValueError(\"min_samples_split must be an integer \"\n",
      "ValueError: min_samples_split must be an integer greater than 1 or a float in (0.0, 1.0]; got the integer 1\n",
      "\n",
      "  warnings.warn(\"Estimator fit failed. The score on this train-test\"\n",
      "/Users/oscarmumford/opt/anaconda3/lib/python3.9/site-packages/sklearn/model_selection/_validation.py:615: FitFailedWarning: Estimator fit failed. The score on this train-test partition for these parameters will be set to nan. Details: \n",
      "Traceback (most recent call last):\n",
      "  File \"/Users/oscarmumford/opt/anaconda3/lib/python3.9/site-packages/sklearn/model_selection/_validation.py\", line 598, in _fit_and_score\n",
      "    estimator.fit(X_train, y_train, **fit_params)\n",
      "  File \"/Users/oscarmumford/opt/anaconda3/lib/python3.9/site-packages/sklearn/ensemble/_forest.py\", line 387, in fit\n",
      "    trees = Parallel(n_jobs=self.n_jobs, verbose=self.verbose,\n",
      "  File \"/Users/oscarmumford/opt/anaconda3/lib/python3.9/site-packages/joblib/parallel.py\", line 1043, in __call__\n",
      "    if self.dispatch_one_batch(iterator):\n",
      "  File \"/Users/oscarmumford/opt/anaconda3/lib/python3.9/site-packages/joblib/parallel.py\", line 861, in dispatch_one_batch\n",
      "    self._dispatch(tasks)\n",
      "  File \"/Users/oscarmumford/opt/anaconda3/lib/python3.9/site-packages/joblib/parallel.py\", line 779, in _dispatch\n",
      "    job = self._backend.apply_async(batch, callback=cb)\n",
      "  File \"/Users/oscarmumford/opt/anaconda3/lib/python3.9/site-packages/joblib/_parallel_backends.py\", line 208, in apply_async\n",
      "    result = ImmediateResult(func)\n",
      "  File \"/Users/oscarmumford/opt/anaconda3/lib/python3.9/site-packages/joblib/_parallel_backends.py\", line 572, in __init__\n",
      "    self.results = batch()\n",
      "  File \"/Users/oscarmumford/opt/anaconda3/lib/python3.9/site-packages/joblib/parallel.py\", line 262, in __call__\n",
      "    return [func(*args, **kwargs)\n",
      "  File \"/Users/oscarmumford/opt/anaconda3/lib/python3.9/site-packages/joblib/parallel.py\", line 262, in <listcomp>\n",
      "    return [func(*args, **kwargs)\n",
      "  File \"/Users/oscarmumford/opt/anaconda3/lib/python3.9/site-packages/sklearn/utils/fixes.py\", line 222, in __call__\n",
      "    return self.function(*args, **kwargs)\n",
      "  File \"/Users/oscarmumford/opt/anaconda3/lib/python3.9/site-packages/sklearn/ensemble/_forest.py\", line 169, in _parallel_build_trees\n",
      "    tree.fit(X, y, sample_weight=curr_sample_weight, check_input=False)\n",
      "  File \"/Users/oscarmumford/opt/anaconda3/lib/python3.9/site-packages/sklearn/tree/_classes.py\", line 1252, in fit\n",
      "    super().fit(\n",
      "  File \"/Users/oscarmumford/opt/anaconda3/lib/python3.9/site-packages/sklearn/tree/_classes.py\", line 238, in fit\n",
      "    raise ValueError(\"min_samples_split must be an integer \"\n",
      "ValueError: min_samples_split must be an integer greater than 1 or a float in (0.0, 1.0]; got the integer 1\n",
      "\n",
      "  warnings.warn(\"Estimator fit failed. The score on this train-test\"\n",
      "/Users/oscarmumford/opt/anaconda3/lib/python3.9/site-packages/sklearn/model_selection/_validation.py:615: FitFailedWarning: Estimator fit failed. The score on this train-test partition for these parameters will be set to nan. Details: \n",
      "Traceback (most recent call last):\n",
      "  File \"/Users/oscarmumford/opt/anaconda3/lib/python3.9/site-packages/sklearn/model_selection/_validation.py\", line 598, in _fit_and_score\n",
      "    estimator.fit(X_train, y_train, **fit_params)\n",
      "  File \"/Users/oscarmumford/opt/anaconda3/lib/python3.9/site-packages/sklearn/ensemble/_forest.py\", line 387, in fit\n",
      "    trees = Parallel(n_jobs=self.n_jobs, verbose=self.verbose,\n",
      "  File \"/Users/oscarmumford/opt/anaconda3/lib/python3.9/site-packages/joblib/parallel.py\", line 1043, in __call__\n",
      "    if self.dispatch_one_batch(iterator):\n",
      "  File \"/Users/oscarmumford/opt/anaconda3/lib/python3.9/site-packages/joblib/parallel.py\", line 861, in dispatch_one_batch\n",
      "    self._dispatch(tasks)\n",
      "  File \"/Users/oscarmumford/opt/anaconda3/lib/python3.9/site-packages/joblib/parallel.py\", line 779, in _dispatch\n",
      "    job = self._backend.apply_async(batch, callback=cb)\n",
      "  File \"/Users/oscarmumford/opt/anaconda3/lib/python3.9/site-packages/joblib/_parallel_backends.py\", line 208, in apply_async\n",
      "    result = ImmediateResult(func)\n",
      "  File \"/Users/oscarmumford/opt/anaconda3/lib/python3.9/site-packages/joblib/_parallel_backends.py\", line 572, in __init__\n",
      "    self.results = batch()\n",
      "  File \"/Users/oscarmumford/opt/anaconda3/lib/python3.9/site-packages/joblib/parallel.py\", line 262, in __call__\n",
      "    return [func(*args, **kwargs)\n",
      "  File \"/Users/oscarmumford/opt/anaconda3/lib/python3.9/site-packages/joblib/parallel.py\", line 262, in <listcomp>\n",
      "    return [func(*args, **kwargs)\n",
      "  File \"/Users/oscarmumford/opt/anaconda3/lib/python3.9/site-packages/sklearn/utils/fixes.py\", line 222, in __call__\n",
      "    return self.function(*args, **kwargs)\n",
      "  File \"/Users/oscarmumford/opt/anaconda3/lib/python3.9/site-packages/sklearn/ensemble/_forest.py\", line 169, in _parallel_build_trees\n",
      "    tree.fit(X, y, sample_weight=curr_sample_weight, check_input=False)\n",
      "  File \"/Users/oscarmumford/opt/anaconda3/lib/python3.9/site-packages/sklearn/tree/_classes.py\", line 1252, in fit\n",
      "    super().fit(\n",
      "  File \"/Users/oscarmumford/opt/anaconda3/lib/python3.9/site-packages/sklearn/tree/_classes.py\", line 238, in fit\n",
      "    raise ValueError(\"min_samples_split must be an integer \"\n",
      "ValueError: min_samples_split must be an integer greater than 1 or a float in (0.0, 1.0]; got the integer 1\n",
      "\n",
      "  warnings.warn(\"Estimator fit failed. The score on this train-test\"\n",
      "/Users/oscarmumford/opt/anaconda3/lib/python3.9/site-packages/sklearn/model_selection/_validation.py:615: FitFailedWarning: Estimator fit failed. The score on this train-test partition for these parameters will be set to nan. Details: \n",
      "Traceback (most recent call last):\n",
      "  File \"/Users/oscarmumford/opt/anaconda3/lib/python3.9/site-packages/sklearn/model_selection/_validation.py\", line 598, in _fit_and_score\n",
      "    estimator.fit(X_train, y_train, **fit_params)\n",
      "  File \"/Users/oscarmumford/opt/anaconda3/lib/python3.9/site-packages/sklearn/ensemble/_forest.py\", line 387, in fit\n",
      "    trees = Parallel(n_jobs=self.n_jobs, verbose=self.verbose,\n",
      "  File \"/Users/oscarmumford/opt/anaconda3/lib/python3.9/site-packages/joblib/parallel.py\", line 1043, in __call__\n",
      "    if self.dispatch_one_batch(iterator):\n",
      "  File \"/Users/oscarmumford/opt/anaconda3/lib/python3.9/site-packages/joblib/parallel.py\", line 861, in dispatch_one_batch\n",
      "    self._dispatch(tasks)\n",
      "  File \"/Users/oscarmumford/opt/anaconda3/lib/python3.9/site-packages/joblib/parallel.py\", line 779, in _dispatch\n",
      "    job = self._backend.apply_async(batch, callback=cb)\n",
      "  File \"/Users/oscarmumford/opt/anaconda3/lib/python3.9/site-packages/joblib/_parallel_backends.py\", line 208, in apply_async\n",
      "    result = ImmediateResult(func)\n",
      "  File \"/Users/oscarmumford/opt/anaconda3/lib/python3.9/site-packages/joblib/_parallel_backends.py\", line 572, in __init__\n",
      "    self.results = batch()\n",
      "  File \"/Users/oscarmumford/opt/anaconda3/lib/python3.9/site-packages/joblib/parallel.py\", line 262, in __call__\n",
      "    return [func(*args, **kwargs)\n",
      "  File \"/Users/oscarmumford/opt/anaconda3/lib/python3.9/site-packages/joblib/parallel.py\", line 262, in <listcomp>\n",
      "    return [func(*args, **kwargs)\n",
      "  File \"/Users/oscarmumford/opt/anaconda3/lib/python3.9/site-packages/sklearn/utils/fixes.py\", line 222, in __call__\n",
      "    return self.function(*args, **kwargs)\n",
      "  File \"/Users/oscarmumford/opt/anaconda3/lib/python3.9/site-packages/sklearn/ensemble/_forest.py\", line 169, in _parallel_build_trees\n",
      "    tree.fit(X, y, sample_weight=curr_sample_weight, check_input=False)\n",
      "  File \"/Users/oscarmumford/opt/anaconda3/lib/python3.9/site-packages/sklearn/tree/_classes.py\", line 1252, in fit\n",
      "    super().fit(\n",
      "  File \"/Users/oscarmumford/opt/anaconda3/lib/python3.9/site-packages/sklearn/tree/_classes.py\", line 238, in fit\n",
      "    raise ValueError(\"min_samples_split must be an integer \"\n",
      "ValueError: min_samples_split must be an integer greater than 1 or a float in (0.0, 1.0]; got the integer 1\n",
      "\n",
      "  warnings.warn(\"Estimator fit failed. The score on this train-test\"\n",
      "/Users/oscarmumford/opt/anaconda3/lib/python3.9/site-packages/sklearn/model_selection/_validation.py:615: FitFailedWarning: Estimator fit failed. The score on this train-test partition for these parameters will be set to nan. Details: \n",
      "Traceback (most recent call last):\n",
      "  File \"/Users/oscarmumford/opt/anaconda3/lib/python3.9/site-packages/sklearn/model_selection/_validation.py\", line 598, in _fit_and_score\n",
      "    estimator.fit(X_train, y_train, **fit_params)\n",
      "  File \"/Users/oscarmumford/opt/anaconda3/lib/python3.9/site-packages/sklearn/ensemble/_forest.py\", line 387, in fit\n",
      "    trees = Parallel(n_jobs=self.n_jobs, verbose=self.verbose,\n",
      "  File \"/Users/oscarmumford/opt/anaconda3/lib/python3.9/site-packages/joblib/parallel.py\", line 1043, in __call__\n",
      "    if self.dispatch_one_batch(iterator):\n",
      "  File \"/Users/oscarmumford/opt/anaconda3/lib/python3.9/site-packages/joblib/parallel.py\", line 861, in dispatch_one_batch\n",
      "    self._dispatch(tasks)\n",
      "  File \"/Users/oscarmumford/opt/anaconda3/lib/python3.9/site-packages/joblib/parallel.py\", line 779, in _dispatch\n",
      "    job = self._backend.apply_async(batch, callback=cb)\n",
      "  File \"/Users/oscarmumford/opt/anaconda3/lib/python3.9/site-packages/joblib/_parallel_backends.py\", line 208, in apply_async\n",
      "    result = ImmediateResult(func)\n",
      "  File \"/Users/oscarmumford/opt/anaconda3/lib/python3.9/site-packages/joblib/_parallel_backends.py\", line 572, in __init__\n",
      "    self.results = batch()\n",
      "  File \"/Users/oscarmumford/opt/anaconda3/lib/python3.9/site-packages/joblib/parallel.py\", line 262, in __call__\n",
      "    return [func(*args, **kwargs)\n",
      "  File \"/Users/oscarmumford/opt/anaconda3/lib/python3.9/site-packages/joblib/parallel.py\", line 262, in <listcomp>\n",
      "    return [func(*args, **kwargs)\n",
      "  File \"/Users/oscarmumford/opt/anaconda3/lib/python3.9/site-packages/sklearn/utils/fixes.py\", line 222, in __call__\n",
      "    return self.function(*args, **kwargs)\n",
      "  File \"/Users/oscarmumford/opt/anaconda3/lib/python3.9/site-packages/sklearn/ensemble/_forest.py\", line 169, in _parallel_build_trees\n",
      "    tree.fit(X, y, sample_weight=curr_sample_weight, check_input=False)\n",
      "  File \"/Users/oscarmumford/opt/anaconda3/lib/python3.9/site-packages/sklearn/tree/_classes.py\", line 1252, in fit\n",
      "    super().fit(\n",
      "  File \"/Users/oscarmumford/opt/anaconda3/lib/python3.9/site-packages/sklearn/tree/_classes.py\", line 238, in fit\n",
      "    raise ValueError(\"min_samples_split must be an integer \"\n",
      "ValueError: min_samples_split must be an integer greater than 1 or a float in (0.0, 1.0]; got the integer 1\n",
      "\n",
      "  warnings.warn(\"Estimator fit failed. The score on this train-test\"\n",
      "/Users/oscarmumford/opt/anaconda3/lib/python3.9/site-packages/sklearn/model_selection/_validation.py:615: FitFailedWarning: Estimator fit failed. The score on this train-test partition for these parameters will be set to nan. Details: \n",
      "Traceback (most recent call last):\n",
      "  File \"/Users/oscarmumford/opt/anaconda3/lib/python3.9/site-packages/sklearn/model_selection/_validation.py\", line 598, in _fit_and_score\n",
      "    estimator.fit(X_train, y_train, **fit_params)\n",
      "  File \"/Users/oscarmumford/opt/anaconda3/lib/python3.9/site-packages/sklearn/ensemble/_forest.py\", line 387, in fit\n",
      "    trees = Parallel(n_jobs=self.n_jobs, verbose=self.verbose,\n",
      "  File \"/Users/oscarmumford/opt/anaconda3/lib/python3.9/site-packages/joblib/parallel.py\", line 1043, in __call__\n",
      "    if self.dispatch_one_batch(iterator):\n",
      "  File \"/Users/oscarmumford/opt/anaconda3/lib/python3.9/site-packages/joblib/parallel.py\", line 861, in dispatch_one_batch\n",
      "    self._dispatch(tasks)\n",
      "  File \"/Users/oscarmumford/opt/anaconda3/lib/python3.9/site-packages/joblib/parallel.py\", line 779, in _dispatch\n",
      "    job = self._backend.apply_async(batch, callback=cb)\n",
      "  File \"/Users/oscarmumford/opt/anaconda3/lib/python3.9/site-packages/joblib/_parallel_backends.py\", line 208, in apply_async\n",
      "    result = ImmediateResult(func)\n",
      "  File \"/Users/oscarmumford/opt/anaconda3/lib/python3.9/site-packages/joblib/_parallel_backends.py\", line 572, in __init__\n",
      "    self.results = batch()\n",
      "  File \"/Users/oscarmumford/opt/anaconda3/lib/python3.9/site-packages/joblib/parallel.py\", line 262, in __call__\n",
      "    return [func(*args, **kwargs)\n",
      "  File \"/Users/oscarmumford/opt/anaconda3/lib/python3.9/site-packages/joblib/parallel.py\", line 262, in <listcomp>\n",
      "    return [func(*args, **kwargs)\n",
      "  File \"/Users/oscarmumford/opt/anaconda3/lib/python3.9/site-packages/sklearn/utils/fixes.py\", line 222, in __call__\n",
      "    return self.function(*args, **kwargs)\n",
      "  File \"/Users/oscarmumford/opt/anaconda3/lib/python3.9/site-packages/sklearn/ensemble/_forest.py\", line 169, in _parallel_build_trees\n",
      "    tree.fit(X, y, sample_weight=curr_sample_weight, check_input=False)\n",
      "  File \"/Users/oscarmumford/opt/anaconda3/lib/python3.9/site-packages/sklearn/tree/_classes.py\", line 1252, in fit\n",
      "    super().fit(\n",
      "  File \"/Users/oscarmumford/opt/anaconda3/lib/python3.9/site-packages/sklearn/tree/_classes.py\", line 238, in fit\n",
      "    raise ValueError(\"min_samples_split must be an integer \"\n",
      "ValueError: min_samples_split must be an integer greater than 1 or a float in (0.0, 1.0]; got the integer 1\n",
      "\n",
      "  warnings.warn(\"Estimator fit failed. The score on this train-test\"\n",
      "/Users/oscarmumford/opt/anaconda3/lib/python3.9/site-packages/sklearn/model_selection/_validation.py:615: FitFailedWarning: Estimator fit failed. The score on this train-test partition for these parameters will be set to nan. Details: \n",
      "Traceback (most recent call last):\n",
      "  File \"/Users/oscarmumford/opt/anaconda3/lib/python3.9/site-packages/sklearn/model_selection/_validation.py\", line 598, in _fit_and_score\n",
      "    estimator.fit(X_train, y_train, **fit_params)\n",
      "  File \"/Users/oscarmumford/opt/anaconda3/lib/python3.9/site-packages/sklearn/ensemble/_forest.py\", line 387, in fit\n",
      "    trees = Parallel(n_jobs=self.n_jobs, verbose=self.verbose,\n",
      "  File \"/Users/oscarmumford/opt/anaconda3/lib/python3.9/site-packages/joblib/parallel.py\", line 1043, in __call__\n",
      "    if self.dispatch_one_batch(iterator):\n",
      "  File \"/Users/oscarmumford/opt/anaconda3/lib/python3.9/site-packages/joblib/parallel.py\", line 861, in dispatch_one_batch\n",
      "    self._dispatch(tasks)\n",
      "  File \"/Users/oscarmumford/opt/anaconda3/lib/python3.9/site-packages/joblib/parallel.py\", line 779, in _dispatch\n",
      "    job = self._backend.apply_async(batch, callback=cb)\n",
      "  File \"/Users/oscarmumford/opt/anaconda3/lib/python3.9/site-packages/joblib/_parallel_backends.py\", line 208, in apply_async\n",
      "    result = ImmediateResult(func)\n",
      "  File \"/Users/oscarmumford/opt/anaconda3/lib/python3.9/site-packages/joblib/_parallel_backends.py\", line 572, in __init__\n",
      "    self.results = batch()\n",
      "  File \"/Users/oscarmumford/opt/anaconda3/lib/python3.9/site-packages/joblib/parallel.py\", line 262, in __call__\n",
      "    return [func(*args, **kwargs)\n",
      "  File \"/Users/oscarmumford/opt/anaconda3/lib/python3.9/site-packages/joblib/parallel.py\", line 262, in <listcomp>\n",
      "    return [func(*args, **kwargs)\n",
      "  File \"/Users/oscarmumford/opt/anaconda3/lib/python3.9/site-packages/sklearn/utils/fixes.py\", line 222, in __call__\n",
      "    return self.function(*args, **kwargs)\n",
      "  File \"/Users/oscarmumford/opt/anaconda3/lib/python3.9/site-packages/sklearn/ensemble/_forest.py\", line 169, in _parallel_build_trees\n",
      "    tree.fit(X, y, sample_weight=curr_sample_weight, check_input=False)\n",
      "  File \"/Users/oscarmumford/opt/anaconda3/lib/python3.9/site-packages/sklearn/tree/_classes.py\", line 1252, in fit\n",
      "    super().fit(\n",
      "  File \"/Users/oscarmumford/opt/anaconda3/lib/python3.9/site-packages/sklearn/tree/_classes.py\", line 238, in fit\n",
      "    raise ValueError(\"min_samples_split must be an integer \"\n",
      "ValueError: min_samples_split must be an integer greater than 1 or a float in (0.0, 1.0]; got the integer 1\n",
      "\n",
      "  warnings.warn(\"Estimator fit failed. The score on this train-test\"\n",
      "/Users/oscarmumford/opt/anaconda3/lib/python3.9/site-packages/sklearn/model_selection/_validation.py:615: FitFailedWarning: Estimator fit failed. The score on this train-test partition for these parameters will be set to nan. Details: \n",
      "Traceback (most recent call last):\n",
      "  File \"/Users/oscarmumford/opt/anaconda3/lib/python3.9/site-packages/sklearn/model_selection/_validation.py\", line 598, in _fit_and_score\n",
      "    estimator.fit(X_train, y_train, **fit_params)\n",
      "  File \"/Users/oscarmumford/opt/anaconda3/lib/python3.9/site-packages/sklearn/ensemble/_forest.py\", line 387, in fit\n",
      "    trees = Parallel(n_jobs=self.n_jobs, verbose=self.verbose,\n",
      "  File \"/Users/oscarmumford/opt/anaconda3/lib/python3.9/site-packages/joblib/parallel.py\", line 1043, in __call__\n",
      "    if self.dispatch_one_batch(iterator):\n",
      "  File \"/Users/oscarmumford/opt/anaconda3/lib/python3.9/site-packages/joblib/parallel.py\", line 861, in dispatch_one_batch\n",
      "    self._dispatch(tasks)\n",
      "  File \"/Users/oscarmumford/opt/anaconda3/lib/python3.9/site-packages/joblib/parallel.py\", line 779, in _dispatch\n",
      "    job = self._backend.apply_async(batch, callback=cb)\n",
      "  File \"/Users/oscarmumford/opt/anaconda3/lib/python3.9/site-packages/joblib/_parallel_backends.py\", line 208, in apply_async\n",
      "    result = ImmediateResult(func)\n",
      "  File \"/Users/oscarmumford/opt/anaconda3/lib/python3.9/site-packages/joblib/_parallel_backends.py\", line 572, in __init__\n",
      "    self.results = batch()\n",
      "  File \"/Users/oscarmumford/opt/anaconda3/lib/python3.9/site-packages/joblib/parallel.py\", line 262, in __call__\n",
      "    return [func(*args, **kwargs)\n",
      "  File \"/Users/oscarmumford/opt/anaconda3/lib/python3.9/site-packages/joblib/parallel.py\", line 262, in <listcomp>\n",
      "    return [func(*args, **kwargs)\n",
      "  File \"/Users/oscarmumford/opt/anaconda3/lib/python3.9/site-packages/sklearn/utils/fixes.py\", line 222, in __call__\n",
      "    return self.function(*args, **kwargs)\n",
      "  File \"/Users/oscarmumford/opt/anaconda3/lib/python3.9/site-packages/sklearn/ensemble/_forest.py\", line 169, in _parallel_build_trees\n",
      "    tree.fit(X, y, sample_weight=curr_sample_weight, check_input=False)\n",
      "  File \"/Users/oscarmumford/opt/anaconda3/lib/python3.9/site-packages/sklearn/tree/_classes.py\", line 1252, in fit\n",
      "    super().fit(\n",
      "  File \"/Users/oscarmumford/opt/anaconda3/lib/python3.9/site-packages/sklearn/tree/_classes.py\", line 238, in fit\n",
      "    raise ValueError(\"min_samples_split must be an integer \"\n",
      "ValueError: min_samples_split must be an integer greater than 1 or a float in (0.0, 1.0]; got the integer 1\n",
      "\n",
      "  warnings.warn(\"Estimator fit failed. The score on this train-test\"\n",
      "/Users/oscarmumford/opt/anaconda3/lib/python3.9/site-packages/sklearn/model_selection/_validation.py:615: FitFailedWarning: Estimator fit failed. The score on this train-test partition for these parameters will be set to nan. Details: \n",
      "Traceback (most recent call last):\n",
      "  File \"/Users/oscarmumford/opt/anaconda3/lib/python3.9/site-packages/sklearn/model_selection/_validation.py\", line 598, in _fit_and_score\n",
      "    estimator.fit(X_train, y_train, **fit_params)\n",
      "  File \"/Users/oscarmumford/opt/anaconda3/lib/python3.9/site-packages/sklearn/ensemble/_forest.py\", line 387, in fit\n",
      "    trees = Parallel(n_jobs=self.n_jobs, verbose=self.verbose,\n",
      "  File \"/Users/oscarmumford/opt/anaconda3/lib/python3.9/site-packages/joblib/parallel.py\", line 1043, in __call__\n",
      "    if self.dispatch_one_batch(iterator):\n",
      "  File \"/Users/oscarmumford/opt/anaconda3/lib/python3.9/site-packages/joblib/parallel.py\", line 861, in dispatch_one_batch\n",
      "    self._dispatch(tasks)\n",
      "  File \"/Users/oscarmumford/opt/anaconda3/lib/python3.9/site-packages/joblib/parallel.py\", line 779, in _dispatch\n",
      "    job = self._backend.apply_async(batch, callback=cb)\n",
      "  File \"/Users/oscarmumford/opt/anaconda3/lib/python3.9/site-packages/joblib/_parallel_backends.py\", line 208, in apply_async\n",
      "    result = ImmediateResult(func)\n",
      "  File \"/Users/oscarmumford/opt/anaconda3/lib/python3.9/site-packages/joblib/_parallel_backends.py\", line 572, in __init__\n",
      "    self.results = batch()\n",
      "  File \"/Users/oscarmumford/opt/anaconda3/lib/python3.9/site-packages/joblib/parallel.py\", line 262, in __call__\n",
      "    return [func(*args, **kwargs)\n",
      "  File \"/Users/oscarmumford/opt/anaconda3/lib/python3.9/site-packages/joblib/parallel.py\", line 262, in <listcomp>\n",
      "    return [func(*args, **kwargs)\n",
      "  File \"/Users/oscarmumford/opt/anaconda3/lib/python3.9/site-packages/sklearn/utils/fixes.py\", line 222, in __call__\n",
      "    return self.function(*args, **kwargs)\n",
      "  File \"/Users/oscarmumford/opt/anaconda3/lib/python3.9/site-packages/sklearn/ensemble/_forest.py\", line 169, in _parallel_build_trees\n",
      "    tree.fit(X, y, sample_weight=curr_sample_weight, check_input=False)\n",
      "  File \"/Users/oscarmumford/opt/anaconda3/lib/python3.9/site-packages/sklearn/tree/_classes.py\", line 1252, in fit\n",
      "    super().fit(\n",
      "  File \"/Users/oscarmumford/opt/anaconda3/lib/python3.9/site-packages/sklearn/tree/_classes.py\", line 238, in fit\n",
      "    raise ValueError(\"min_samples_split must be an integer \"\n",
      "ValueError: min_samples_split must be an integer greater than 1 or a float in (0.0, 1.0]; got the integer 1\n",
      "\n",
      "  warnings.warn(\"Estimator fit failed. The score on this train-test\"\n",
      "/Users/oscarmumford/opt/anaconda3/lib/python3.9/site-packages/sklearn/model_selection/_validation.py:615: FitFailedWarning: Estimator fit failed. The score on this train-test partition for these parameters will be set to nan. Details: \n",
      "Traceback (most recent call last):\n",
      "  File \"/Users/oscarmumford/opt/anaconda3/lib/python3.9/site-packages/sklearn/model_selection/_validation.py\", line 598, in _fit_and_score\n",
      "    estimator.fit(X_train, y_train, **fit_params)\n",
      "  File \"/Users/oscarmumford/opt/anaconda3/lib/python3.9/site-packages/sklearn/ensemble/_forest.py\", line 387, in fit\n",
      "    trees = Parallel(n_jobs=self.n_jobs, verbose=self.verbose,\n",
      "  File \"/Users/oscarmumford/opt/anaconda3/lib/python3.9/site-packages/joblib/parallel.py\", line 1043, in __call__\n",
      "    if self.dispatch_one_batch(iterator):\n",
      "  File \"/Users/oscarmumford/opt/anaconda3/lib/python3.9/site-packages/joblib/parallel.py\", line 861, in dispatch_one_batch\n",
      "    self._dispatch(tasks)\n",
      "  File \"/Users/oscarmumford/opt/anaconda3/lib/python3.9/site-packages/joblib/parallel.py\", line 779, in _dispatch\n",
      "    job = self._backend.apply_async(batch, callback=cb)\n",
      "  File \"/Users/oscarmumford/opt/anaconda3/lib/python3.9/site-packages/joblib/_parallel_backends.py\", line 208, in apply_async\n",
      "    result = ImmediateResult(func)\n",
      "  File \"/Users/oscarmumford/opt/anaconda3/lib/python3.9/site-packages/joblib/_parallel_backends.py\", line 572, in __init__\n",
      "    self.results = batch()\n",
      "  File \"/Users/oscarmumford/opt/anaconda3/lib/python3.9/site-packages/joblib/parallel.py\", line 262, in __call__\n",
      "    return [func(*args, **kwargs)\n",
      "  File \"/Users/oscarmumford/opt/anaconda3/lib/python3.9/site-packages/joblib/parallel.py\", line 262, in <listcomp>\n",
      "    return [func(*args, **kwargs)\n",
      "  File \"/Users/oscarmumford/opt/anaconda3/lib/python3.9/site-packages/sklearn/utils/fixes.py\", line 222, in __call__\n",
      "    return self.function(*args, **kwargs)\n",
      "  File \"/Users/oscarmumford/opt/anaconda3/lib/python3.9/site-packages/sklearn/ensemble/_forest.py\", line 169, in _parallel_build_trees\n",
      "    tree.fit(X, y, sample_weight=curr_sample_weight, check_input=False)\n",
      "  File \"/Users/oscarmumford/opt/anaconda3/lib/python3.9/site-packages/sklearn/tree/_classes.py\", line 1252, in fit\n",
      "    super().fit(\n",
      "  File \"/Users/oscarmumford/opt/anaconda3/lib/python3.9/site-packages/sklearn/tree/_classes.py\", line 238, in fit\n",
      "    raise ValueError(\"min_samples_split must be an integer \"\n",
      "ValueError: min_samples_split must be an integer greater than 1 or a float in (0.0, 1.0]; got the integer 1\n",
      "\n",
      "  warnings.warn(\"Estimator fit failed. The score on this train-test\"\n",
      "/Users/oscarmumford/opt/anaconda3/lib/python3.9/site-packages/sklearn/model_selection/_validation.py:615: FitFailedWarning: Estimator fit failed. The score on this train-test partition for these parameters will be set to nan. Details: \n",
      "Traceback (most recent call last):\n",
      "  File \"/Users/oscarmumford/opt/anaconda3/lib/python3.9/site-packages/sklearn/model_selection/_validation.py\", line 598, in _fit_and_score\n",
      "    estimator.fit(X_train, y_train, **fit_params)\n",
      "  File \"/Users/oscarmumford/opt/anaconda3/lib/python3.9/site-packages/sklearn/ensemble/_forest.py\", line 387, in fit\n",
      "    trees = Parallel(n_jobs=self.n_jobs, verbose=self.verbose,\n",
      "  File \"/Users/oscarmumford/opt/anaconda3/lib/python3.9/site-packages/joblib/parallel.py\", line 1043, in __call__\n",
      "    if self.dispatch_one_batch(iterator):\n",
      "  File \"/Users/oscarmumford/opt/anaconda3/lib/python3.9/site-packages/joblib/parallel.py\", line 861, in dispatch_one_batch\n",
      "    self._dispatch(tasks)\n",
      "  File \"/Users/oscarmumford/opt/anaconda3/lib/python3.9/site-packages/joblib/parallel.py\", line 779, in _dispatch\n",
      "    job = self._backend.apply_async(batch, callback=cb)\n",
      "  File \"/Users/oscarmumford/opt/anaconda3/lib/python3.9/site-packages/joblib/_parallel_backends.py\", line 208, in apply_async\n",
      "    result = ImmediateResult(func)\n",
      "  File \"/Users/oscarmumford/opt/anaconda3/lib/python3.9/site-packages/joblib/_parallel_backends.py\", line 572, in __init__\n",
      "    self.results = batch()\n",
      "  File \"/Users/oscarmumford/opt/anaconda3/lib/python3.9/site-packages/joblib/parallel.py\", line 262, in __call__\n",
      "    return [func(*args, **kwargs)\n",
      "  File \"/Users/oscarmumford/opt/anaconda3/lib/python3.9/site-packages/joblib/parallel.py\", line 262, in <listcomp>\n",
      "    return [func(*args, **kwargs)\n",
      "  File \"/Users/oscarmumford/opt/anaconda3/lib/python3.9/site-packages/sklearn/utils/fixes.py\", line 222, in __call__\n",
      "    return self.function(*args, **kwargs)\n",
      "  File \"/Users/oscarmumford/opt/anaconda3/lib/python3.9/site-packages/sklearn/ensemble/_forest.py\", line 169, in _parallel_build_trees\n",
      "    tree.fit(X, y, sample_weight=curr_sample_weight, check_input=False)\n",
      "  File \"/Users/oscarmumford/opt/anaconda3/lib/python3.9/site-packages/sklearn/tree/_classes.py\", line 1252, in fit\n",
      "    super().fit(\n",
      "  File \"/Users/oscarmumford/opt/anaconda3/lib/python3.9/site-packages/sklearn/tree/_classes.py\", line 238, in fit\n",
      "    raise ValueError(\"min_samples_split must be an integer \"\n",
      "ValueError: min_samples_split must be an integer greater than 1 or a float in (0.0, 1.0]; got the integer 1\n",
      "\n",
      "  warnings.warn(\"Estimator fit failed. The score on this train-test\"\n",
      "/Users/oscarmumford/opt/anaconda3/lib/python3.9/site-packages/sklearn/model_selection/_validation.py:615: FitFailedWarning: Estimator fit failed. The score on this train-test partition for these parameters will be set to nan. Details: \n",
      "Traceback (most recent call last):\n",
      "  File \"/Users/oscarmumford/opt/anaconda3/lib/python3.9/site-packages/sklearn/model_selection/_validation.py\", line 598, in _fit_and_score\n",
      "    estimator.fit(X_train, y_train, **fit_params)\n",
      "  File \"/Users/oscarmumford/opt/anaconda3/lib/python3.9/site-packages/sklearn/ensemble/_forest.py\", line 387, in fit\n",
      "    trees = Parallel(n_jobs=self.n_jobs, verbose=self.verbose,\n",
      "  File \"/Users/oscarmumford/opt/anaconda3/lib/python3.9/site-packages/joblib/parallel.py\", line 1043, in __call__\n",
      "    if self.dispatch_one_batch(iterator):\n",
      "  File \"/Users/oscarmumford/opt/anaconda3/lib/python3.9/site-packages/joblib/parallel.py\", line 861, in dispatch_one_batch\n",
      "    self._dispatch(tasks)\n",
      "  File \"/Users/oscarmumford/opt/anaconda3/lib/python3.9/site-packages/joblib/parallel.py\", line 779, in _dispatch\n",
      "    job = self._backend.apply_async(batch, callback=cb)\n",
      "  File \"/Users/oscarmumford/opt/anaconda3/lib/python3.9/site-packages/joblib/_parallel_backends.py\", line 208, in apply_async\n",
      "    result = ImmediateResult(func)\n",
      "  File \"/Users/oscarmumford/opt/anaconda3/lib/python3.9/site-packages/joblib/_parallel_backends.py\", line 572, in __init__\n",
      "    self.results = batch()\n",
      "  File \"/Users/oscarmumford/opt/anaconda3/lib/python3.9/site-packages/joblib/parallel.py\", line 262, in __call__\n",
      "    return [func(*args, **kwargs)\n",
      "  File \"/Users/oscarmumford/opt/anaconda3/lib/python3.9/site-packages/joblib/parallel.py\", line 262, in <listcomp>\n",
      "    return [func(*args, **kwargs)\n",
      "  File \"/Users/oscarmumford/opt/anaconda3/lib/python3.9/site-packages/sklearn/utils/fixes.py\", line 222, in __call__\n",
      "    return self.function(*args, **kwargs)\n",
      "  File \"/Users/oscarmumford/opt/anaconda3/lib/python3.9/site-packages/sklearn/ensemble/_forest.py\", line 169, in _parallel_build_trees\n",
      "    tree.fit(X, y, sample_weight=curr_sample_weight, check_input=False)\n",
      "  File \"/Users/oscarmumford/opt/anaconda3/lib/python3.9/site-packages/sklearn/tree/_classes.py\", line 1252, in fit\n",
      "    super().fit(\n",
      "  File \"/Users/oscarmumford/opt/anaconda3/lib/python3.9/site-packages/sklearn/tree/_classes.py\", line 238, in fit\n",
      "    raise ValueError(\"min_samples_split must be an integer \"\n",
      "ValueError: min_samples_split must be an integer greater than 1 or a float in (0.0, 1.0]; got the integer 1\n",
      "\n",
      "  warnings.warn(\"Estimator fit failed. The score on this train-test\"\n",
      "/Users/oscarmumford/opt/anaconda3/lib/python3.9/site-packages/sklearn/model_selection/_validation.py:615: FitFailedWarning: Estimator fit failed. The score on this train-test partition for these parameters will be set to nan. Details: \n",
      "Traceback (most recent call last):\n",
      "  File \"/Users/oscarmumford/opt/anaconda3/lib/python3.9/site-packages/sklearn/model_selection/_validation.py\", line 598, in _fit_and_score\n",
      "    estimator.fit(X_train, y_train, **fit_params)\n",
      "  File \"/Users/oscarmumford/opt/anaconda3/lib/python3.9/site-packages/sklearn/ensemble/_forest.py\", line 387, in fit\n",
      "    trees = Parallel(n_jobs=self.n_jobs, verbose=self.verbose,\n",
      "  File \"/Users/oscarmumford/opt/anaconda3/lib/python3.9/site-packages/joblib/parallel.py\", line 1043, in __call__\n",
      "    if self.dispatch_one_batch(iterator):\n",
      "  File \"/Users/oscarmumford/opt/anaconda3/lib/python3.9/site-packages/joblib/parallel.py\", line 861, in dispatch_one_batch\n",
      "    self._dispatch(tasks)\n",
      "  File \"/Users/oscarmumford/opt/anaconda3/lib/python3.9/site-packages/joblib/parallel.py\", line 779, in _dispatch\n",
      "    job = self._backend.apply_async(batch, callback=cb)\n",
      "  File \"/Users/oscarmumford/opt/anaconda3/lib/python3.9/site-packages/joblib/_parallel_backends.py\", line 208, in apply_async\n",
      "    result = ImmediateResult(func)\n",
      "  File \"/Users/oscarmumford/opt/anaconda3/lib/python3.9/site-packages/joblib/_parallel_backends.py\", line 572, in __init__\n",
      "    self.results = batch()\n",
      "  File \"/Users/oscarmumford/opt/anaconda3/lib/python3.9/site-packages/joblib/parallel.py\", line 262, in __call__\n",
      "    return [func(*args, **kwargs)\n",
      "  File \"/Users/oscarmumford/opt/anaconda3/lib/python3.9/site-packages/joblib/parallel.py\", line 262, in <listcomp>\n",
      "    return [func(*args, **kwargs)\n",
      "  File \"/Users/oscarmumford/opt/anaconda3/lib/python3.9/site-packages/sklearn/utils/fixes.py\", line 222, in __call__\n",
      "    return self.function(*args, **kwargs)\n",
      "  File \"/Users/oscarmumford/opt/anaconda3/lib/python3.9/site-packages/sklearn/ensemble/_forest.py\", line 169, in _parallel_build_trees\n",
      "    tree.fit(X, y, sample_weight=curr_sample_weight, check_input=False)\n",
      "  File \"/Users/oscarmumford/opt/anaconda3/lib/python3.9/site-packages/sklearn/tree/_classes.py\", line 1252, in fit\n",
      "    super().fit(\n",
      "  File \"/Users/oscarmumford/opt/anaconda3/lib/python3.9/site-packages/sklearn/tree/_classes.py\", line 238, in fit\n",
      "    raise ValueError(\"min_samples_split must be an integer \"\n",
      "ValueError: min_samples_split must be an integer greater than 1 or a float in (0.0, 1.0]; got the integer 1\n",
      "\n",
      "  warnings.warn(\"Estimator fit failed. The score on this train-test\"\n",
      "/Users/oscarmumford/opt/anaconda3/lib/python3.9/site-packages/sklearn/model_selection/_validation.py:615: FitFailedWarning: Estimator fit failed. The score on this train-test partition for these parameters will be set to nan. Details: \n",
      "Traceback (most recent call last):\n",
      "  File \"/Users/oscarmumford/opt/anaconda3/lib/python3.9/site-packages/sklearn/model_selection/_validation.py\", line 598, in _fit_and_score\n",
      "    estimator.fit(X_train, y_train, **fit_params)\n",
      "  File \"/Users/oscarmumford/opt/anaconda3/lib/python3.9/site-packages/sklearn/ensemble/_forest.py\", line 387, in fit\n",
      "    trees = Parallel(n_jobs=self.n_jobs, verbose=self.verbose,\n",
      "  File \"/Users/oscarmumford/opt/anaconda3/lib/python3.9/site-packages/joblib/parallel.py\", line 1043, in __call__\n",
      "    if self.dispatch_one_batch(iterator):\n",
      "  File \"/Users/oscarmumford/opt/anaconda3/lib/python3.9/site-packages/joblib/parallel.py\", line 861, in dispatch_one_batch\n",
      "    self._dispatch(tasks)\n",
      "  File \"/Users/oscarmumford/opt/anaconda3/lib/python3.9/site-packages/joblib/parallel.py\", line 779, in _dispatch\n",
      "    job = self._backend.apply_async(batch, callback=cb)\n",
      "  File \"/Users/oscarmumford/opt/anaconda3/lib/python3.9/site-packages/joblib/_parallel_backends.py\", line 208, in apply_async\n",
      "    result = ImmediateResult(func)\n",
      "  File \"/Users/oscarmumford/opt/anaconda3/lib/python3.9/site-packages/joblib/_parallel_backends.py\", line 572, in __init__\n",
      "    self.results = batch()\n",
      "  File \"/Users/oscarmumford/opt/anaconda3/lib/python3.9/site-packages/joblib/parallel.py\", line 262, in __call__\n",
      "    return [func(*args, **kwargs)\n",
      "  File \"/Users/oscarmumford/opt/anaconda3/lib/python3.9/site-packages/joblib/parallel.py\", line 262, in <listcomp>\n",
      "    return [func(*args, **kwargs)\n",
      "  File \"/Users/oscarmumford/opt/anaconda3/lib/python3.9/site-packages/sklearn/utils/fixes.py\", line 222, in __call__\n",
      "    return self.function(*args, **kwargs)\n",
      "  File \"/Users/oscarmumford/opt/anaconda3/lib/python3.9/site-packages/sklearn/ensemble/_forest.py\", line 169, in _parallel_build_trees\n",
      "    tree.fit(X, y, sample_weight=curr_sample_weight, check_input=False)\n",
      "  File \"/Users/oscarmumford/opt/anaconda3/lib/python3.9/site-packages/sklearn/tree/_classes.py\", line 1252, in fit\n",
      "    super().fit(\n",
      "  File \"/Users/oscarmumford/opt/anaconda3/lib/python3.9/site-packages/sklearn/tree/_classes.py\", line 238, in fit\n",
      "    raise ValueError(\"min_samples_split must be an integer \"\n",
      "ValueError: min_samples_split must be an integer greater than 1 or a float in (0.0, 1.0]; got the integer 1\n",
      "\n",
      "  warnings.warn(\"Estimator fit failed. The score on this train-test\"\n",
      "/Users/oscarmumford/opt/anaconda3/lib/python3.9/site-packages/sklearn/model_selection/_validation.py:615: FitFailedWarning: Estimator fit failed. The score on this train-test partition for these parameters will be set to nan. Details: \n",
      "Traceback (most recent call last):\n",
      "  File \"/Users/oscarmumford/opt/anaconda3/lib/python3.9/site-packages/sklearn/model_selection/_validation.py\", line 598, in _fit_and_score\n",
      "    estimator.fit(X_train, y_train, **fit_params)\n",
      "  File \"/Users/oscarmumford/opt/anaconda3/lib/python3.9/site-packages/sklearn/ensemble/_forest.py\", line 387, in fit\n",
      "    trees = Parallel(n_jobs=self.n_jobs, verbose=self.verbose,\n",
      "  File \"/Users/oscarmumford/opt/anaconda3/lib/python3.9/site-packages/joblib/parallel.py\", line 1043, in __call__\n",
      "    if self.dispatch_one_batch(iterator):\n",
      "  File \"/Users/oscarmumford/opt/anaconda3/lib/python3.9/site-packages/joblib/parallel.py\", line 861, in dispatch_one_batch\n",
      "    self._dispatch(tasks)\n",
      "  File \"/Users/oscarmumford/opt/anaconda3/lib/python3.9/site-packages/joblib/parallel.py\", line 779, in _dispatch\n",
      "    job = self._backend.apply_async(batch, callback=cb)\n",
      "  File \"/Users/oscarmumford/opt/anaconda3/lib/python3.9/site-packages/joblib/_parallel_backends.py\", line 208, in apply_async\n",
      "    result = ImmediateResult(func)\n",
      "  File \"/Users/oscarmumford/opt/anaconda3/lib/python3.9/site-packages/joblib/_parallel_backends.py\", line 572, in __init__\n",
      "    self.results = batch()\n",
      "  File \"/Users/oscarmumford/opt/anaconda3/lib/python3.9/site-packages/joblib/parallel.py\", line 262, in __call__\n",
      "    return [func(*args, **kwargs)\n",
      "  File \"/Users/oscarmumford/opt/anaconda3/lib/python3.9/site-packages/joblib/parallel.py\", line 262, in <listcomp>\n",
      "    return [func(*args, **kwargs)\n",
      "  File \"/Users/oscarmumford/opt/anaconda3/lib/python3.9/site-packages/sklearn/utils/fixes.py\", line 222, in __call__\n",
      "    return self.function(*args, **kwargs)\n",
      "  File \"/Users/oscarmumford/opt/anaconda3/lib/python3.9/site-packages/sklearn/ensemble/_forest.py\", line 169, in _parallel_build_trees\n",
      "    tree.fit(X, y, sample_weight=curr_sample_weight, check_input=False)\n",
      "  File \"/Users/oscarmumford/opt/anaconda3/lib/python3.9/site-packages/sklearn/tree/_classes.py\", line 1252, in fit\n",
      "    super().fit(\n",
      "  File \"/Users/oscarmumford/opt/anaconda3/lib/python3.9/site-packages/sklearn/tree/_classes.py\", line 238, in fit\n",
      "    raise ValueError(\"min_samples_split must be an integer \"\n",
      "ValueError: min_samples_split must be an integer greater than 1 or a float in (0.0, 1.0]; got the integer 1\n",
      "\n",
      "  warnings.warn(\"Estimator fit failed. The score on this train-test\"\n",
      "/Users/oscarmumford/opt/anaconda3/lib/python3.9/site-packages/sklearn/model_selection/_validation.py:615: FitFailedWarning: Estimator fit failed. The score on this train-test partition for these parameters will be set to nan. Details: \n",
      "Traceback (most recent call last):\n",
      "  File \"/Users/oscarmumford/opt/anaconda3/lib/python3.9/site-packages/sklearn/model_selection/_validation.py\", line 598, in _fit_and_score\n",
      "    estimator.fit(X_train, y_train, **fit_params)\n",
      "  File \"/Users/oscarmumford/opt/anaconda3/lib/python3.9/site-packages/sklearn/ensemble/_forest.py\", line 387, in fit\n",
      "    trees = Parallel(n_jobs=self.n_jobs, verbose=self.verbose,\n",
      "  File \"/Users/oscarmumford/opt/anaconda3/lib/python3.9/site-packages/joblib/parallel.py\", line 1043, in __call__\n",
      "    if self.dispatch_one_batch(iterator):\n",
      "  File \"/Users/oscarmumford/opt/anaconda3/lib/python3.9/site-packages/joblib/parallel.py\", line 861, in dispatch_one_batch\n",
      "    self._dispatch(tasks)\n",
      "  File \"/Users/oscarmumford/opt/anaconda3/lib/python3.9/site-packages/joblib/parallel.py\", line 779, in _dispatch\n",
      "    job = self._backend.apply_async(batch, callback=cb)\n",
      "  File \"/Users/oscarmumford/opt/anaconda3/lib/python3.9/site-packages/joblib/_parallel_backends.py\", line 208, in apply_async\n",
      "    result = ImmediateResult(func)\n",
      "  File \"/Users/oscarmumford/opt/anaconda3/lib/python3.9/site-packages/joblib/_parallel_backends.py\", line 572, in __init__\n",
      "    self.results = batch()\n",
      "  File \"/Users/oscarmumford/opt/anaconda3/lib/python3.9/site-packages/joblib/parallel.py\", line 262, in __call__\n",
      "    return [func(*args, **kwargs)\n",
      "  File \"/Users/oscarmumford/opt/anaconda3/lib/python3.9/site-packages/joblib/parallel.py\", line 262, in <listcomp>\n",
      "    return [func(*args, **kwargs)\n",
      "  File \"/Users/oscarmumford/opt/anaconda3/lib/python3.9/site-packages/sklearn/utils/fixes.py\", line 222, in __call__\n",
      "    return self.function(*args, **kwargs)\n",
      "  File \"/Users/oscarmumford/opt/anaconda3/lib/python3.9/site-packages/sklearn/ensemble/_forest.py\", line 169, in _parallel_build_trees\n",
      "    tree.fit(X, y, sample_weight=curr_sample_weight, check_input=False)\n",
      "  File \"/Users/oscarmumford/opt/anaconda3/lib/python3.9/site-packages/sklearn/tree/_classes.py\", line 1252, in fit\n",
      "    super().fit(\n",
      "  File \"/Users/oscarmumford/opt/anaconda3/lib/python3.9/site-packages/sklearn/tree/_classes.py\", line 238, in fit\n",
      "    raise ValueError(\"min_samples_split must be an integer \"\n",
      "ValueError: min_samples_split must be an integer greater than 1 or a float in (0.0, 1.0]; got the integer 1\n",
      "\n",
      "  warnings.warn(\"Estimator fit failed. The score on this train-test\"\n",
      "/Users/oscarmumford/opt/anaconda3/lib/python3.9/site-packages/sklearn/model_selection/_validation.py:615: FitFailedWarning: Estimator fit failed. The score on this train-test partition for these parameters will be set to nan. Details: \n",
      "Traceback (most recent call last):\n",
      "  File \"/Users/oscarmumford/opt/anaconda3/lib/python3.9/site-packages/sklearn/model_selection/_validation.py\", line 598, in _fit_and_score\n",
      "    estimator.fit(X_train, y_train, **fit_params)\n",
      "  File \"/Users/oscarmumford/opt/anaconda3/lib/python3.9/site-packages/sklearn/ensemble/_forest.py\", line 387, in fit\n",
      "    trees = Parallel(n_jobs=self.n_jobs, verbose=self.verbose,\n",
      "  File \"/Users/oscarmumford/opt/anaconda3/lib/python3.9/site-packages/joblib/parallel.py\", line 1043, in __call__\n",
      "    if self.dispatch_one_batch(iterator):\n",
      "  File \"/Users/oscarmumford/opt/anaconda3/lib/python3.9/site-packages/joblib/parallel.py\", line 861, in dispatch_one_batch\n",
      "    self._dispatch(tasks)\n",
      "  File \"/Users/oscarmumford/opt/anaconda3/lib/python3.9/site-packages/joblib/parallel.py\", line 779, in _dispatch\n",
      "    job = self._backend.apply_async(batch, callback=cb)\n",
      "  File \"/Users/oscarmumford/opt/anaconda3/lib/python3.9/site-packages/joblib/_parallel_backends.py\", line 208, in apply_async\n",
      "    result = ImmediateResult(func)\n",
      "  File \"/Users/oscarmumford/opt/anaconda3/lib/python3.9/site-packages/joblib/_parallel_backends.py\", line 572, in __init__\n",
      "    self.results = batch()\n",
      "  File \"/Users/oscarmumford/opt/anaconda3/lib/python3.9/site-packages/joblib/parallel.py\", line 262, in __call__\n",
      "    return [func(*args, **kwargs)\n",
      "  File \"/Users/oscarmumford/opt/anaconda3/lib/python3.9/site-packages/joblib/parallel.py\", line 262, in <listcomp>\n",
      "    return [func(*args, **kwargs)\n",
      "  File \"/Users/oscarmumford/opt/anaconda3/lib/python3.9/site-packages/sklearn/utils/fixes.py\", line 222, in __call__\n",
      "    return self.function(*args, **kwargs)\n",
      "  File \"/Users/oscarmumford/opt/anaconda3/lib/python3.9/site-packages/sklearn/ensemble/_forest.py\", line 169, in _parallel_build_trees\n",
      "    tree.fit(X, y, sample_weight=curr_sample_weight, check_input=False)\n",
      "  File \"/Users/oscarmumford/opt/anaconda3/lib/python3.9/site-packages/sklearn/tree/_classes.py\", line 1252, in fit\n",
      "    super().fit(\n",
      "  File \"/Users/oscarmumford/opt/anaconda3/lib/python3.9/site-packages/sklearn/tree/_classes.py\", line 238, in fit\n",
      "    raise ValueError(\"min_samples_split must be an integer \"\n",
      "ValueError: min_samples_split must be an integer greater than 1 or a float in (0.0, 1.0]; got the integer 1\n",
      "\n",
      "  warnings.warn(\"Estimator fit failed. The score on this train-test\"\n",
      "/Users/oscarmumford/opt/anaconda3/lib/python3.9/site-packages/sklearn/model_selection/_validation.py:615: FitFailedWarning: Estimator fit failed. The score on this train-test partition for these parameters will be set to nan. Details: \n",
      "Traceback (most recent call last):\n",
      "  File \"/Users/oscarmumford/opt/anaconda3/lib/python3.9/site-packages/sklearn/model_selection/_validation.py\", line 598, in _fit_and_score\n",
      "    estimator.fit(X_train, y_train, **fit_params)\n",
      "  File \"/Users/oscarmumford/opt/anaconda3/lib/python3.9/site-packages/sklearn/ensemble/_forest.py\", line 387, in fit\n",
      "    trees = Parallel(n_jobs=self.n_jobs, verbose=self.verbose,\n",
      "  File \"/Users/oscarmumford/opt/anaconda3/lib/python3.9/site-packages/joblib/parallel.py\", line 1043, in __call__\n",
      "    if self.dispatch_one_batch(iterator):\n",
      "  File \"/Users/oscarmumford/opt/anaconda3/lib/python3.9/site-packages/joblib/parallel.py\", line 861, in dispatch_one_batch\n",
      "    self._dispatch(tasks)\n",
      "  File \"/Users/oscarmumford/opt/anaconda3/lib/python3.9/site-packages/joblib/parallel.py\", line 779, in _dispatch\n",
      "    job = self._backend.apply_async(batch, callback=cb)\n",
      "  File \"/Users/oscarmumford/opt/anaconda3/lib/python3.9/site-packages/joblib/_parallel_backends.py\", line 208, in apply_async\n",
      "    result = ImmediateResult(func)\n",
      "  File \"/Users/oscarmumford/opt/anaconda3/lib/python3.9/site-packages/joblib/_parallel_backends.py\", line 572, in __init__\n",
      "    self.results = batch()\n",
      "  File \"/Users/oscarmumford/opt/anaconda3/lib/python3.9/site-packages/joblib/parallel.py\", line 262, in __call__\n",
      "    return [func(*args, **kwargs)\n",
      "  File \"/Users/oscarmumford/opt/anaconda3/lib/python3.9/site-packages/joblib/parallel.py\", line 262, in <listcomp>\n",
      "    return [func(*args, **kwargs)\n",
      "  File \"/Users/oscarmumford/opt/anaconda3/lib/python3.9/site-packages/sklearn/utils/fixes.py\", line 222, in __call__\n",
      "    return self.function(*args, **kwargs)\n",
      "  File \"/Users/oscarmumford/opt/anaconda3/lib/python3.9/site-packages/sklearn/ensemble/_forest.py\", line 169, in _parallel_build_trees\n",
      "    tree.fit(X, y, sample_weight=curr_sample_weight, check_input=False)\n",
      "  File \"/Users/oscarmumford/opt/anaconda3/lib/python3.9/site-packages/sklearn/tree/_classes.py\", line 1252, in fit\n",
      "    super().fit(\n",
      "  File \"/Users/oscarmumford/opt/anaconda3/lib/python3.9/site-packages/sklearn/tree/_classes.py\", line 238, in fit\n",
      "    raise ValueError(\"min_samples_split must be an integer \"\n",
      "ValueError: min_samples_split must be an integer greater than 1 or a float in (0.0, 1.0]; got the integer 1\n",
      "\n",
      "  warnings.warn(\"Estimator fit failed. The score on this train-test\"\n",
      "/Users/oscarmumford/opt/anaconda3/lib/python3.9/site-packages/sklearn/model_selection/_validation.py:615: FitFailedWarning: Estimator fit failed. The score on this train-test partition for these parameters will be set to nan. Details: \n",
      "Traceback (most recent call last):\n",
      "  File \"/Users/oscarmumford/opt/anaconda3/lib/python3.9/site-packages/sklearn/model_selection/_validation.py\", line 598, in _fit_and_score\n",
      "    estimator.fit(X_train, y_train, **fit_params)\n",
      "  File \"/Users/oscarmumford/opt/anaconda3/lib/python3.9/site-packages/sklearn/ensemble/_forest.py\", line 387, in fit\n",
      "    trees = Parallel(n_jobs=self.n_jobs, verbose=self.verbose,\n",
      "  File \"/Users/oscarmumford/opt/anaconda3/lib/python3.9/site-packages/joblib/parallel.py\", line 1043, in __call__\n",
      "    if self.dispatch_one_batch(iterator):\n",
      "  File \"/Users/oscarmumford/opt/anaconda3/lib/python3.9/site-packages/joblib/parallel.py\", line 861, in dispatch_one_batch\n",
      "    self._dispatch(tasks)\n",
      "  File \"/Users/oscarmumford/opt/anaconda3/lib/python3.9/site-packages/joblib/parallel.py\", line 779, in _dispatch\n",
      "    job = self._backend.apply_async(batch, callback=cb)\n",
      "  File \"/Users/oscarmumford/opt/anaconda3/lib/python3.9/site-packages/joblib/_parallel_backends.py\", line 208, in apply_async\n",
      "    result = ImmediateResult(func)\n",
      "  File \"/Users/oscarmumford/opt/anaconda3/lib/python3.9/site-packages/joblib/_parallel_backends.py\", line 572, in __init__\n",
      "    self.results = batch()\n",
      "  File \"/Users/oscarmumford/opt/anaconda3/lib/python3.9/site-packages/joblib/parallel.py\", line 262, in __call__\n",
      "    return [func(*args, **kwargs)\n",
      "  File \"/Users/oscarmumford/opt/anaconda3/lib/python3.9/site-packages/joblib/parallel.py\", line 262, in <listcomp>\n",
      "    return [func(*args, **kwargs)\n",
      "  File \"/Users/oscarmumford/opt/anaconda3/lib/python3.9/site-packages/sklearn/utils/fixes.py\", line 222, in __call__\n",
      "    return self.function(*args, **kwargs)\n",
      "  File \"/Users/oscarmumford/opt/anaconda3/lib/python3.9/site-packages/sklearn/ensemble/_forest.py\", line 169, in _parallel_build_trees\n",
      "    tree.fit(X, y, sample_weight=curr_sample_weight, check_input=False)\n",
      "  File \"/Users/oscarmumford/opt/anaconda3/lib/python3.9/site-packages/sklearn/tree/_classes.py\", line 1252, in fit\n",
      "    super().fit(\n",
      "  File \"/Users/oscarmumford/opt/anaconda3/lib/python3.9/site-packages/sklearn/tree/_classes.py\", line 238, in fit\n",
      "    raise ValueError(\"min_samples_split must be an integer \"\n",
      "ValueError: min_samples_split must be an integer greater than 1 or a float in (0.0, 1.0]; got the integer 1\n",
      "\n",
      "  warnings.warn(\"Estimator fit failed. The score on this train-test\"\n",
      "/Users/oscarmumford/opt/anaconda3/lib/python3.9/site-packages/sklearn/model_selection/_validation.py:615: FitFailedWarning: Estimator fit failed. The score on this train-test partition for these parameters will be set to nan. Details: \n",
      "Traceback (most recent call last):\n",
      "  File \"/Users/oscarmumford/opt/anaconda3/lib/python3.9/site-packages/sklearn/model_selection/_validation.py\", line 598, in _fit_and_score\n",
      "    estimator.fit(X_train, y_train, **fit_params)\n",
      "  File \"/Users/oscarmumford/opt/anaconda3/lib/python3.9/site-packages/sklearn/ensemble/_forest.py\", line 387, in fit\n",
      "    trees = Parallel(n_jobs=self.n_jobs, verbose=self.verbose,\n",
      "  File \"/Users/oscarmumford/opt/anaconda3/lib/python3.9/site-packages/joblib/parallel.py\", line 1043, in __call__\n",
      "    if self.dispatch_one_batch(iterator):\n",
      "  File \"/Users/oscarmumford/opt/anaconda3/lib/python3.9/site-packages/joblib/parallel.py\", line 861, in dispatch_one_batch\n",
      "    self._dispatch(tasks)\n",
      "  File \"/Users/oscarmumford/opt/anaconda3/lib/python3.9/site-packages/joblib/parallel.py\", line 779, in _dispatch\n",
      "    job = self._backend.apply_async(batch, callback=cb)\n",
      "  File \"/Users/oscarmumford/opt/anaconda3/lib/python3.9/site-packages/joblib/_parallel_backends.py\", line 208, in apply_async\n",
      "    result = ImmediateResult(func)\n",
      "  File \"/Users/oscarmumford/opt/anaconda3/lib/python3.9/site-packages/joblib/_parallel_backends.py\", line 572, in __init__\n",
      "    self.results = batch()\n",
      "  File \"/Users/oscarmumford/opt/anaconda3/lib/python3.9/site-packages/joblib/parallel.py\", line 262, in __call__\n",
      "    return [func(*args, **kwargs)\n",
      "  File \"/Users/oscarmumford/opt/anaconda3/lib/python3.9/site-packages/joblib/parallel.py\", line 262, in <listcomp>\n",
      "    return [func(*args, **kwargs)\n",
      "  File \"/Users/oscarmumford/opt/anaconda3/lib/python3.9/site-packages/sklearn/utils/fixes.py\", line 222, in __call__\n",
      "    return self.function(*args, **kwargs)\n",
      "  File \"/Users/oscarmumford/opt/anaconda3/lib/python3.9/site-packages/sklearn/ensemble/_forest.py\", line 169, in _parallel_build_trees\n",
      "    tree.fit(X, y, sample_weight=curr_sample_weight, check_input=False)\n",
      "  File \"/Users/oscarmumford/opt/anaconda3/lib/python3.9/site-packages/sklearn/tree/_classes.py\", line 1252, in fit\n",
      "    super().fit(\n",
      "  File \"/Users/oscarmumford/opt/anaconda3/lib/python3.9/site-packages/sklearn/tree/_classes.py\", line 238, in fit\n",
      "    raise ValueError(\"min_samples_split must be an integer \"\n",
      "ValueError: min_samples_split must be an integer greater than 1 or a float in (0.0, 1.0]; got the integer 1\n",
      "\n",
      "  warnings.warn(\"Estimator fit failed. The score on this train-test\"\n",
      "/Users/oscarmumford/opt/anaconda3/lib/python3.9/site-packages/sklearn/model_selection/_validation.py:615: FitFailedWarning: Estimator fit failed. The score on this train-test partition for these parameters will be set to nan. Details: \n",
      "Traceback (most recent call last):\n",
      "  File \"/Users/oscarmumford/opt/anaconda3/lib/python3.9/site-packages/sklearn/model_selection/_validation.py\", line 598, in _fit_and_score\n",
      "    estimator.fit(X_train, y_train, **fit_params)\n",
      "  File \"/Users/oscarmumford/opt/anaconda3/lib/python3.9/site-packages/sklearn/ensemble/_forest.py\", line 387, in fit\n",
      "    trees = Parallel(n_jobs=self.n_jobs, verbose=self.verbose,\n",
      "  File \"/Users/oscarmumford/opt/anaconda3/lib/python3.9/site-packages/joblib/parallel.py\", line 1043, in __call__\n",
      "    if self.dispatch_one_batch(iterator):\n",
      "  File \"/Users/oscarmumford/opt/anaconda3/lib/python3.9/site-packages/joblib/parallel.py\", line 861, in dispatch_one_batch\n",
      "    self._dispatch(tasks)\n",
      "  File \"/Users/oscarmumford/opt/anaconda3/lib/python3.9/site-packages/joblib/parallel.py\", line 779, in _dispatch\n",
      "    job = self._backend.apply_async(batch, callback=cb)\n",
      "  File \"/Users/oscarmumford/opt/anaconda3/lib/python3.9/site-packages/joblib/_parallel_backends.py\", line 208, in apply_async\n",
      "    result = ImmediateResult(func)\n",
      "  File \"/Users/oscarmumford/opt/anaconda3/lib/python3.9/site-packages/joblib/_parallel_backends.py\", line 572, in __init__\n",
      "    self.results = batch()\n",
      "  File \"/Users/oscarmumford/opt/anaconda3/lib/python3.9/site-packages/joblib/parallel.py\", line 262, in __call__\n",
      "    return [func(*args, **kwargs)\n",
      "  File \"/Users/oscarmumford/opt/anaconda3/lib/python3.9/site-packages/joblib/parallel.py\", line 262, in <listcomp>\n",
      "    return [func(*args, **kwargs)\n",
      "  File \"/Users/oscarmumford/opt/anaconda3/lib/python3.9/site-packages/sklearn/utils/fixes.py\", line 222, in __call__\n",
      "    return self.function(*args, **kwargs)\n",
      "  File \"/Users/oscarmumford/opt/anaconda3/lib/python3.9/site-packages/sklearn/ensemble/_forest.py\", line 169, in _parallel_build_trees\n",
      "    tree.fit(X, y, sample_weight=curr_sample_weight, check_input=False)\n",
      "  File \"/Users/oscarmumford/opt/anaconda3/lib/python3.9/site-packages/sklearn/tree/_classes.py\", line 1252, in fit\n",
      "    super().fit(\n",
      "  File \"/Users/oscarmumford/opt/anaconda3/lib/python3.9/site-packages/sklearn/tree/_classes.py\", line 238, in fit\n",
      "    raise ValueError(\"min_samples_split must be an integer \"\n",
      "ValueError: min_samples_split must be an integer greater than 1 or a float in (0.0, 1.0]; got the integer 1\n",
      "\n",
      "  warnings.warn(\"Estimator fit failed. The score on this train-test\"\n",
      "/Users/oscarmumford/opt/anaconda3/lib/python3.9/site-packages/sklearn/model_selection/_validation.py:615: FitFailedWarning: Estimator fit failed. The score on this train-test partition for these parameters will be set to nan. Details: \n",
      "Traceback (most recent call last):\n",
      "  File \"/Users/oscarmumford/opt/anaconda3/lib/python3.9/site-packages/sklearn/model_selection/_validation.py\", line 598, in _fit_and_score\n",
      "    estimator.fit(X_train, y_train, **fit_params)\n",
      "  File \"/Users/oscarmumford/opt/anaconda3/lib/python3.9/site-packages/sklearn/ensemble/_forest.py\", line 387, in fit\n",
      "    trees = Parallel(n_jobs=self.n_jobs, verbose=self.verbose,\n",
      "  File \"/Users/oscarmumford/opt/anaconda3/lib/python3.9/site-packages/joblib/parallel.py\", line 1043, in __call__\n",
      "    if self.dispatch_one_batch(iterator):\n",
      "  File \"/Users/oscarmumford/opt/anaconda3/lib/python3.9/site-packages/joblib/parallel.py\", line 861, in dispatch_one_batch\n",
      "    self._dispatch(tasks)\n",
      "  File \"/Users/oscarmumford/opt/anaconda3/lib/python3.9/site-packages/joblib/parallel.py\", line 779, in _dispatch\n",
      "    job = self._backend.apply_async(batch, callback=cb)\n",
      "  File \"/Users/oscarmumford/opt/anaconda3/lib/python3.9/site-packages/joblib/_parallel_backends.py\", line 208, in apply_async\n",
      "    result = ImmediateResult(func)\n",
      "  File \"/Users/oscarmumford/opt/anaconda3/lib/python3.9/site-packages/joblib/_parallel_backends.py\", line 572, in __init__\n",
      "    self.results = batch()\n",
      "  File \"/Users/oscarmumford/opt/anaconda3/lib/python3.9/site-packages/joblib/parallel.py\", line 262, in __call__\n",
      "    return [func(*args, **kwargs)\n",
      "  File \"/Users/oscarmumford/opt/anaconda3/lib/python3.9/site-packages/joblib/parallel.py\", line 262, in <listcomp>\n",
      "    return [func(*args, **kwargs)\n",
      "  File \"/Users/oscarmumford/opt/anaconda3/lib/python3.9/site-packages/sklearn/utils/fixes.py\", line 222, in __call__\n",
      "    return self.function(*args, **kwargs)\n",
      "  File \"/Users/oscarmumford/opt/anaconda3/lib/python3.9/site-packages/sklearn/ensemble/_forest.py\", line 169, in _parallel_build_trees\n",
      "    tree.fit(X, y, sample_weight=curr_sample_weight, check_input=False)\n",
      "  File \"/Users/oscarmumford/opt/anaconda3/lib/python3.9/site-packages/sklearn/tree/_classes.py\", line 1252, in fit\n",
      "    super().fit(\n",
      "  File \"/Users/oscarmumford/opt/anaconda3/lib/python3.9/site-packages/sklearn/tree/_classes.py\", line 238, in fit\n",
      "    raise ValueError(\"min_samples_split must be an integer \"\n",
      "ValueError: min_samples_split must be an integer greater than 1 or a float in (0.0, 1.0]; got the integer 1\n",
      "\n",
      "  warnings.warn(\"Estimator fit failed. The score on this train-test\"\n",
      "/Users/oscarmumford/opt/anaconda3/lib/python3.9/site-packages/sklearn/model_selection/_validation.py:615: FitFailedWarning: Estimator fit failed. The score on this train-test partition for these parameters will be set to nan. Details: \n",
      "Traceback (most recent call last):\n",
      "  File \"/Users/oscarmumford/opt/anaconda3/lib/python3.9/site-packages/sklearn/model_selection/_validation.py\", line 598, in _fit_and_score\n",
      "    estimator.fit(X_train, y_train, **fit_params)\n",
      "  File \"/Users/oscarmumford/opt/anaconda3/lib/python3.9/site-packages/sklearn/ensemble/_forest.py\", line 387, in fit\n",
      "    trees = Parallel(n_jobs=self.n_jobs, verbose=self.verbose,\n",
      "  File \"/Users/oscarmumford/opt/anaconda3/lib/python3.9/site-packages/joblib/parallel.py\", line 1043, in __call__\n",
      "    if self.dispatch_one_batch(iterator):\n",
      "  File \"/Users/oscarmumford/opt/anaconda3/lib/python3.9/site-packages/joblib/parallel.py\", line 861, in dispatch_one_batch\n",
      "    self._dispatch(tasks)\n",
      "  File \"/Users/oscarmumford/opt/anaconda3/lib/python3.9/site-packages/joblib/parallel.py\", line 779, in _dispatch\n",
      "    job = self._backend.apply_async(batch, callback=cb)\n",
      "  File \"/Users/oscarmumford/opt/anaconda3/lib/python3.9/site-packages/joblib/_parallel_backends.py\", line 208, in apply_async\n",
      "    result = ImmediateResult(func)\n",
      "  File \"/Users/oscarmumford/opt/anaconda3/lib/python3.9/site-packages/joblib/_parallel_backends.py\", line 572, in __init__\n",
      "    self.results = batch()\n",
      "  File \"/Users/oscarmumford/opt/anaconda3/lib/python3.9/site-packages/joblib/parallel.py\", line 262, in __call__\n",
      "    return [func(*args, **kwargs)\n",
      "  File \"/Users/oscarmumford/opt/anaconda3/lib/python3.9/site-packages/joblib/parallel.py\", line 262, in <listcomp>\n",
      "    return [func(*args, **kwargs)\n",
      "  File \"/Users/oscarmumford/opt/anaconda3/lib/python3.9/site-packages/sklearn/utils/fixes.py\", line 222, in __call__\n",
      "    return self.function(*args, **kwargs)\n",
      "  File \"/Users/oscarmumford/opt/anaconda3/lib/python3.9/site-packages/sklearn/ensemble/_forest.py\", line 169, in _parallel_build_trees\n",
      "    tree.fit(X, y, sample_weight=curr_sample_weight, check_input=False)\n",
      "  File \"/Users/oscarmumford/opt/anaconda3/lib/python3.9/site-packages/sklearn/tree/_classes.py\", line 1252, in fit\n",
      "    super().fit(\n",
      "  File \"/Users/oscarmumford/opt/anaconda3/lib/python3.9/site-packages/sklearn/tree/_classes.py\", line 238, in fit\n",
      "    raise ValueError(\"min_samples_split must be an integer \"\n",
      "ValueError: min_samples_split must be an integer greater than 1 or a float in (0.0, 1.0]; got the integer 1\n",
      "\n",
      "  warnings.warn(\"Estimator fit failed. The score on this train-test\"\n",
      "/Users/oscarmumford/opt/anaconda3/lib/python3.9/site-packages/sklearn/model_selection/_validation.py:615: FitFailedWarning: Estimator fit failed. The score on this train-test partition for these parameters will be set to nan. Details: \n",
      "Traceback (most recent call last):\n",
      "  File \"/Users/oscarmumford/opt/anaconda3/lib/python3.9/site-packages/sklearn/model_selection/_validation.py\", line 598, in _fit_and_score\n",
      "    estimator.fit(X_train, y_train, **fit_params)\n",
      "  File \"/Users/oscarmumford/opt/anaconda3/lib/python3.9/site-packages/sklearn/ensemble/_forest.py\", line 387, in fit\n",
      "    trees = Parallel(n_jobs=self.n_jobs, verbose=self.verbose,\n",
      "  File \"/Users/oscarmumford/opt/anaconda3/lib/python3.9/site-packages/joblib/parallel.py\", line 1043, in __call__\n",
      "    if self.dispatch_one_batch(iterator):\n",
      "  File \"/Users/oscarmumford/opt/anaconda3/lib/python3.9/site-packages/joblib/parallel.py\", line 861, in dispatch_one_batch\n",
      "    self._dispatch(tasks)\n",
      "  File \"/Users/oscarmumford/opt/anaconda3/lib/python3.9/site-packages/joblib/parallel.py\", line 779, in _dispatch\n",
      "    job = self._backend.apply_async(batch, callback=cb)\n",
      "  File \"/Users/oscarmumford/opt/anaconda3/lib/python3.9/site-packages/joblib/_parallel_backends.py\", line 208, in apply_async\n",
      "    result = ImmediateResult(func)\n",
      "  File \"/Users/oscarmumford/opt/anaconda3/lib/python3.9/site-packages/joblib/_parallel_backends.py\", line 572, in __init__\n",
      "    self.results = batch()\n",
      "  File \"/Users/oscarmumford/opt/anaconda3/lib/python3.9/site-packages/joblib/parallel.py\", line 262, in __call__\n",
      "    return [func(*args, **kwargs)\n",
      "  File \"/Users/oscarmumford/opt/anaconda3/lib/python3.9/site-packages/joblib/parallel.py\", line 262, in <listcomp>\n",
      "    return [func(*args, **kwargs)\n",
      "  File \"/Users/oscarmumford/opt/anaconda3/lib/python3.9/site-packages/sklearn/utils/fixes.py\", line 222, in __call__\n",
      "    return self.function(*args, **kwargs)\n",
      "  File \"/Users/oscarmumford/opt/anaconda3/lib/python3.9/site-packages/sklearn/ensemble/_forest.py\", line 169, in _parallel_build_trees\n",
      "    tree.fit(X, y, sample_weight=curr_sample_weight, check_input=False)\n",
      "  File \"/Users/oscarmumford/opt/anaconda3/lib/python3.9/site-packages/sklearn/tree/_classes.py\", line 1252, in fit\n",
      "    super().fit(\n",
      "  File \"/Users/oscarmumford/opt/anaconda3/lib/python3.9/site-packages/sklearn/tree/_classes.py\", line 238, in fit\n",
      "    raise ValueError(\"min_samples_split must be an integer \"\n",
      "ValueError: min_samples_split must be an integer greater than 1 or a float in (0.0, 1.0]; got the integer 1\n",
      "\n",
      "  warnings.warn(\"Estimator fit failed. The score on this train-test\"\n",
      "/Users/oscarmumford/opt/anaconda3/lib/python3.9/site-packages/sklearn/model_selection/_validation.py:615: FitFailedWarning: Estimator fit failed. The score on this train-test partition for these parameters will be set to nan. Details: \n",
      "Traceback (most recent call last):\n",
      "  File \"/Users/oscarmumford/opt/anaconda3/lib/python3.9/site-packages/sklearn/model_selection/_validation.py\", line 598, in _fit_and_score\n",
      "    estimator.fit(X_train, y_train, **fit_params)\n",
      "  File \"/Users/oscarmumford/opt/anaconda3/lib/python3.9/site-packages/sklearn/ensemble/_forest.py\", line 387, in fit\n",
      "    trees = Parallel(n_jobs=self.n_jobs, verbose=self.verbose,\n",
      "  File \"/Users/oscarmumford/opt/anaconda3/lib/python3.9/site-packages/joblib/parallel.py\", line 1043, in __call__\n",
      "    if self.dispatch_one_batch(iterator):\n",
      "  File \"/Users/oscarmumford/opt/anaconda3/lib/python3.9/site-packages/joblib/parallel.py\", line 861, in dispatch_one_batch\n",
      "    self._dispatch(tasks)\n",
      "  File \"/Users/oscarmumford/opt/anaconda3/lib/python3.9/site-packages/joblib/parallel.py\", line 779, in _dispatch\n",
      "    job = self._backend.apply_async(batch, callback=cb)\n",
      "  File \"/Users/oscarmumford/opt/anaconda3/lib/python3.9/site-packages/joblib/_parallel_backends.py\", line 208, in apply_async\n",
      "    result = ImmediateResult(func)\n",
      "  File \"/Users/oscarmumford/opt/anaconda3/lib/python3.9/site-packages/joblib/_parallel_backends.py\", line 572, in __init__\n",
      "    self.results = batch()\n",
      "  File \"/Users/oscarmumford/opt/anaconda3/lib/python3.9/site-packages/joblib/parallel.py\", line 262, in __call__\n",
      "    return [func(*args, **kwargs)\n",
      "  File \"/Users/oscarmumford/opt/anaconda3/lib/python3.9/site-packages/joblib/parallel.py\", line 262, in <listcomp>\n",
      "    return [func(*args, **kwargs)\n",
      "  File \"/Users/oscarmumford/opt/anaconda3/lib/python3.9/site-packages/sklearn/utils/fixes.py\", line 222, in __call__\n",
      "    return self.function(*args, **kwargs)\n",
      "  File \"/Users/oscarmumford/opt/anaconda3/lib/python3.9/site-packages/sklearn/ensemble/_forest.py\", line 169, in _parallel_build_trees\n",
      "    tree.fit(X, y, sample_weight=curr_sample_weight, check_input=False)\n",
      "  File \"/Users/oscarmumford/opt/anaconda3/lib/python3.9/site-packages/sklearn/tree/_classes.py\", line 1252, in fit\n",
      "    super().fit(\n",
      "  File \"/Users/oscarmumford/opt/anaconda3/lib/python3.9/site-packages/sklearn/tree/_classes.py\", line 238, in fit\n",
      "    raise ValueError(\"min_samples_split must be an integer \"\n",
      "ValueError: min_samples_split must be an integer greater than 1 or a float in (0.0, 1.0]; got the integer 1\n",
      "\n",
      "  warnings.warn(\"Estimator fit failed. The score on this train-test\"\n",
      "/Users/oscarmumford/opt/anaconda3/lib/python3.9/site-packages/sklearn/model_selection/_validation.py:615: FitFailedWarning: Estimator fit failed. The score on this train-test partition for these parameters will be set to nan. Details: \n",
      "Traceback (most recent call last):\n",
      "  File \"/Users/oscarmumford/opt/anaconda3/lib/python3.9/site-packages/sklearn/model_selection/_validation.py\", line 598, in _fit_and_score\n",
      "    estimator.fit(X_train, y_train, **fit_params)\n",
      "  File \"/Users/oscarmumford/opt/anaconda3/lib/python3.9/site-packages/sklearn/ensemble/_forest.py\", line 387, in fit\n",
      "    trees = Parallel(n_jobs=self.n_jobs, verbose=self.verbose,\n",
      "  File \"/Users/oscarmumford/opt/anaconda3/lib/python3.9/site-packages/joblib/parallel.py\", line 1043, in __call__\n",
      "    if self.dispatch_one_batch(iterator):\n",
      "  File \"/Users/oscarmumford/opt/anaconda3/lib/python3.9/site-packages/joblib/parallel.py\", line 861, in dispatch_one_batch\n",
      "    self._dispatch(tasks)\n",
      "  File \"/Users/oscarmumford/opt/anaconda3/lib/python3.9/site-packages/joblib/parallel.py\", line 779, in _dispatch\n",
      "    job = self._backend.apply_async(batch, callback=cb)\n",
      "  File \"/Users/oscarmumford/opt/anaconda3/lib/python3.9/site-packages/joblib/_parallel_backends.py\", line 208, in apply_async\n",
      "    result = ImmediateResult(func)\n",
      "  File \"/Users/oscarmumford/opt/anaconda3/lib/python3.9/site-packages/joblib/_parallel_backends.py\", line 572, in __init__\n",
      "    self.results = batch()\n",
      "  File \"/Users/oscarmumford/opt/anaconda3/lib/python3.9/site-packages/joblib/parallel.py\", line 262, in __call__\n",
      "    return [func(*args, **kwargs)\n",
      "  File \"/Users/oscarmumford/opt/anaconda3/lib/python3.9/site-packages/joblib/parallel.py\", line 262, in <listcomp>\n",
      "    return [func(*args, **kwargs)\n",
      "  File \"/Users/oscarmumford/opt/anaconda3/lib/python3.9/site-packages/sklearn/utils/fixes.py\", line 222, in __call__\n",
      "    return self.function(*args, **kwargs)\n",
      "  File \"/Users/oscarmumford/opt/anaconda3/lib/python3.9/site-packages/sklearn/ensemble/_forest.py\", line 169, in _parallel_build_trees\n",
      "    tree.fit(X, y, sample_weight=curr_sample_weight, check_input=False)\n",
      "  File \"/Users/oscarmumford/opt/anaconda3/lib/python3.9/site-packages/sklearn/tree/_classes.py\", line 1252, in fit\n",
      "    super().fit(\n",
      "  File \"/Users/oscarmumford/opt/anaconda3/lib/python3.9/site-packages/sklearn/tree/_classes.py\", line 238, in fit\n",
      "    raise ValueError(\"min_samples_split must be an integer \"\n",
      "ValueError: min_samples_split must be an integer greater than 1 or a float in (0.0, 1.0]; got the integer 1\n",
      "\n",
      "  warnings.warn(\"Estimator fit failed. The score on this train-test\"\n",
      "/Users/oscarmumford/opt/anaconda3/lib/python3.9/site-packages/sklearn/model_selection/_validation.py:615: FitFailedWarning: Estimator fit failed. The score on this train-test partition for these parameters will be set to nan. Details: \n",
      "Traceback (most recent call last):\n",
      "  File \"/Users/oscarmumford/opt/anaconda3/lib/python3.9/site-packages/sklearn/model_selection/_validation.py\", line 598, in _fit_and_score\n",
      "    estimator.fit(X_train, y_train, **fit_params)\n",
      "  File \"/Users/oscarmumford/opt/anaconda3/lib/python3.9/site-packages/sklearn/ensemble/_forest.py\", line 387, in fit\n",
      "    trees = Parallel(n_jobs=self.n_jobs, verbose=self.verbose,\n",
      "  File \"/Users/oscarmumford/opt/anaconda3/lib/python3.9/site-packages/joblib/parallel.py\", line 1043, in __call__\n",
      "    if self.dispatch_one_batch(iterator):\n",
      "  File \"/Users/oscarmumford/opt/anaconda3/lib/python3.9/site-packages/joblib/parallel.py\", line 861, in dispatch_one_batch\n",
      "    self._dispatch(tasks)\n",
      "  File \"/Users/oscarmumford/opt/anaconda3/lib/python3.9/site-packages/joblib/parallel.py\", line 779, in _dispatch\n",
      "    job = self._backend.apply_async(batch, callback=cb)\n",
      "  File \"/Users/oscarmumford/opt/anaconda3/lib/python3.9/site-packages/joblib/_parallel_backends.py\", line 208, in apply_async\n",
      "    result = ImmediateResult(func)\n",
      "  File \"/Users/oscarmumford/opt/anaconda3/lib/python3.9/site-packages/joblib/_parallel_backends.py\", line 572, in __init__\n",
      "    self.results = batch()\n",
      "  File \"/Users/oscarmumford/opt/anaconda3/lib/python3.9/site-packages/joblib/parallel.py\", line 262, in __call__\n",
      "    return [func(*args, **kwargs)\n",
      "  File \"/Users/oscarmumford/opt/anaconda3/lib/python3.9/site-packages/joblib/parallel.py\", line 262, in <listcomp>\n",
      "    return [func(*args, **kwargs)\n",
      "  File \"/Users/oscarmumford/opt/anaconda3/lib/python3.9/site-packages/sklearn/utils/fixes.py\", line 222, in __call__\n",
      "    return self.function(*args, **kwargs)\n",
      "  File \"/Users/oscarmumford/opt/anaconda3/lib/python3.9/site-packages/sklearn/ensemble/_forest.py\", line 169, in _parallel_build_trees\n",
      "    tree.fit(X, y, sample_weight=curr_sample_weight, check_input=False)\n",
      "  File \"/Users/oscarmumford/opt/anaconda3/lib/python3.9/site-packages/sklearn/tree/_classes.py\", line 1252, in fit\n",
      "    super().fit(\n",
      "  File \"/Users/oscarmumford/opt/anaconda3/lib/python3.9/site-packages/sklearn/tree/_classes.py\", line 238, in fit\n",
      "    raise ValueError(\"min_samples_split must be an integer \"\n",
      "ValueError: min_samples_split must be an integer greater than 1 or a float in (0.0, 1.0]; got the integer 1\n",
      "\n",
      "  warnings.warn(\"Estimator fit failed. The score on this train-test\"\n",
      "/Users/oscarmumford/opt/anaconda3/lib/python3.9/site-packages/sklearn/model_selection/_validation.py:615: FitFailedWarning: Estimator fit failed. The score on this train-test partition for these parameters will be set to nan. Details: \n",
      "Traceback (most recent call last):\n",
      "  File \"/Users/oscarmumford/opt/anaconda3/lib/python3.9/site-packages/sklearn/model_selection/_validation.py\", line 598, in _fit_and_score\n",
      "    estimator.fit(X_train, y_train, **fit_params)\n",
      "  File \"/Users/oscarmumford/opt/anaconda3/lib/python3.9/site-packages/sklearn/ensemble/_forest.py\", line 387, in fit\n",
      "    trees = Parallel(n_jobs=self.n_jobs, verbose=self.verbose,\n",
      "  File \"/Users/oscarmumford/opt/anaconda3/lib/python3.9/site-packages/joblib/parallel.py\", line 1043, in __call__\n",
      "    if self.dispatch_one_batch(iterator):\n",
      "  File \"/Users/oscarmumford/opt/anaconda3/lib/python3.9/site-packages/joblib/parallel.py\", line 861, in dispatch_one_batch\n",
      "    self._dispatch(tasks)\n",
      "  File \"/Users/oscarmumford/opt/anaconda3/lib/python3.9/site-packages/joblib/parallel.py\", line 779, in _dispatch\n",
      "    job = self._backend.apply_async(batch, callback=cb)\n",
      "  File \"/Users/oscarmumford/opt/anaconda3/lib/python3.9/site-packages/joblib/_parallel_backends.py\", line 208, in apply_async\n",
      "    result = ImmediateResult(func)\n",
      "  File \"/Users/oscarmumford/opt/anaconda3/lib/python3.9/site-packages/joblib/_parallel_backends.py\", line 572, in __init__\n",
      "    self.results = batch()\n",
      "  File \"/Users/oscarmumford/opt/anaconda3/lib/python3.9/site-packages/joblib/parallel.py\", line 262, in __call__\n",
      "    return [func(*args, **kwargs)\n",
      "  File \"/Users/oscarmumford/opt/anaconda3/lib/python3.9/site-packages/joblib/parallel.py\", line 262, in <listcomp>\n",
      "    return [func(*args, **kwargs)\n",
      "  File \"/Users/oscarmumford/opt/anaconda3/lib/python3.9/site-packages/sklearn/utils/fixes.py\", line 222, in __call__\n",
      "    return self.function(*args, **kwargs)\n",
      "  File \"/Users/oscarmumford/opt/anaconda3/lib/python3.9/site-packages/sklearn/ensemble/_forest.py\", line 169, in _parallel_build_trees\n",
      "    tree.fit(X, y, sample_weight=curr_sample_weight, check_input=False)\n",
      "  File \"/Users/oscarmumford/opt/anaconda3/lib/python3.9/site-packages/sklearn/tree/_classes.py\", line 1252, in fit\n",
      "    super().fit(\n",
      "  File \"/Users/oscarmumford/opt/anaconda3/lib/python3.9/site-packages/sklearn/tree/_classes.py\", line 238, in fit\n",
      "    raise ValueError(\"min_samples_split must be an integer \"\n",
      "ValueError: min_samples_split must be an integer greater than 1 or a float in (0.0, 1.0]; got the integer 1\n",
      "\n",
      "  warnings.warn(\"Estimator fit failed. The score on this train-test\"\n",
      "/Users/oscarmumford/opt/anaconda3/lib/python3.9/site-packages/sklearn/model_selection/_validation.py:615: FitFailedWarning: Estimator fit failed. The score on this train-test partition for these parameters will be set to nan. Details: \n",
      "Traceback (most recent call last):\n",
      "  File \"/Users/oscarmumford/opt/anaconda3/lib/python3.9/site-packages/sklearn/model_selection/_validation.py\", line 598, in _fit_and_score\n",
      "    estimator.fit(X_train, y_train, **fit_params)\n",
      "  File \"/Users/oscarmumford/opt/anaconda3/lib/python3.9/site-packages/sklearn/ensemble/_forest.py\", line 387, in fit\n",
      "    trees = Parallel(n_jobs=self.n_jobs, verbose=self.verbose,\n",
      "  File \"/Users/oscarmumford/opt/anaconda3/lib/python3.9/site-packages/joblib/parallel.py\", line 1043, in __call__\n",
      "    if self.dispatch_one_batch(iterator):\n",
      "  File \"/Users/oscarmumford/opt/anaconda3/lib/python3.9/site-packages/joblib/parallel.py\", line 861, in dispatch_one_batch\n",
      "    self._dispatch(tasks)\n",
      "  File \"/Users/oscarmumford/opt/anaconda3/lib/python3.9/site-packages/joblib/parallel.py\", line 779, in _dispatch\n",
      "    job = self._backend.apply_async(batch, callback=cb)\n",
      "  File \"/Users/oscarmumford/opt/anaconda3/lib/python3.9/site-packages/joblib/_parallel_backends.py\", line 208, in apply_async\n",
      "    result = ImmediateResult(func)\n",
      "  File \"/Users/oscarmumford/opt/anaconda3/lib/python3.9/site-packages/joblib/_parallel_backends.py\", line 572, in __init__\n",
      "    self.results = batch()\n",
      "  File \"/Users/oscarmumford/opt/anaconda3/lib/python3.9/site-packages/joblib/parallel.py\", line 262, in __call__\n",
      "    return [func(*args, **kwargs)\n",
      "  File \"/Users/oscarmumford/opt/anaconda3/lib/python3.9/site-packages/joblib/parallel.py\", line 262, in <listcomp>\n",
      "    return [func(*args, **kwargs)\n",
      "  File \"/Users/oscarmumford/opt/anaconda3/lib/python3.9/site-packages/sklearn/utils/fixes.py\", line 222, in __call__\n",
      "    return self.function(*args, **kwargs)\n",
      "  File \"/Users/oscarmumford/opt/anaconda3/lib/python3.9/site-packages/sklearn/ensemble/_forest.py\", line 169, in _parallel_build_trees\n",
      "    tree.fit(X, y, sample_weight=curr_sample_weight, check_input=False)\n",
      "  File \"/Users/oscarmumford/opt/anaconda3/lib/python3.9/site-packages/sklearn/tree/_classes.py\", line 1252, in fit\n",
      "    super().fit(\n",
      "  File \"/Users/oscarmumford/opt/anaconda3/lib/python3.9/site-packages/sklearn/tree/_classes.py\", line 238, in fit\n",
      "    raise ValueError(\"min_samples_split must be an integer \"\n",
      "ValueError: min_samples_split must be an integer greater than 1 or a float in (0.0, 1.0]; got the integer 1\n",
      "\n",
      "  warnings.warn(\"Estimator fit failed. The score on this train-test\"\n",
      "/Users/oscarmumford/opt/anaconda3/lib/python3.9/site-packages/sklearn/model_selection/_validation.py:615: FitFailedWarning: Estimator fit failed. The score on this train-test partition for these parameters will be set to nan. Details: \n",
      "Traceback (most recent call last):\n",
      "  File \"/Users/oscarmumford/opt/anaconda3/lib/python3.9/site-packages/sklearn/model_selection/_validation.py\", line 598, in _fit_and_score\n",
      "    estimator.fit(X_train, y_train, **fit_params)\n",
      "  File \"/Users/oscarmumford/opt/anaconda3/lib/python3.9/site-packages/sklearn/ensemble/_forest.py\", line 387, in fit\n",
      "    trees = Parallel(n_jobs=self.n_jobs, verbose=self.verbose,\n",
      "  File \"/Users/oscarmumford/opt/anaconda3/lib/python3.9/site-packages/joblib/parallel.py\", line 1043, in __call__\n",
      "    if self.dispatch_one_batch(iterator):\n",
      "  File \"/Users/oscarmumford/opt/anaconda3/lib/python3.9/site-packages/joblib/parallel.py\", line 861, in dispatch_one_batch\n",
      "    self._dispatch(tasks)\n",
      "  File \"/Users/oscarmumford/opt/anaconda3/lib/python3.9/site-packages/joblib/parallel.py\", line 779, in _dispatch\n",
      "    job = self._backend.apply_async(batch, callback=cb)\n",
      "  File \"/Users/oscarmumford/opt/anaconda3/lib/python3.9/site-packages/joblib/_parallel_backends.py\", line 208, in apply_async\n",
      "    result = ImmediateResult(func)\n",
      "  File \"/Users/oscarmumford/opt/anaconda3/lib/python3.9/site-packages/joblib/_parallel_backends.py\", line 572, in __init__\n",
      "    self.results = batch()\n",
      "  File \"/Users/oscarmumford/opt/anaconda3/lib/python3.9/site-packages/joblib/parallel.py\", line 262, in __call__\n",
      "    return [func(*args, **kwargs)\n",
      "  File \"/Users/oscarmumford/opt/anaconda3/lib/python3.9/site-packages/joblib/parallel.py\", line 262, in <listcomp>\n",
      "    return [func(*args, **kwargs)\n",
      "  File \"/Users/oscarmumford/opt/anaconda3/lib/python3.9/site-packages/sklearn/utils/fixes.py\", line 222, in __call__\n",
      "    return self.function(*args, **kwargs)\n",
      "  File \"/Users/oscarmumford/opt/anaconda3/lib/python3.9/site-packages/sklearn/ensemble/_forest.py\", line 169, in _parallel_build_trees\n",
      "    tree.fit(X, y, sample_weight=curr_sample_weight, check_input=False)\n",
      "  File \"/Users/oscarmumford/opt/anaconda3/lib/python3.9/site-packages/sklearn/tree/_classes.py\", line 1252, in fit\n",
      "    super().fit(\n",
      "  File \"/Users/oscarmumford/opt/anaconda3/lib/python3.9/site-packages/sklearn/tree/_classes.py\", line 238, in fit\n",
      "    raise ValueError(\"min_samples_split must be an integer \"\n",
      "ValueError: min_samples_split must be an integer greater than 1 or a float in (0.0, 1.0]; got the integer 1\n",
      "\n",
      "  warnings.warn(\"Estimator fit failed. The score on this train-test\"\n",
      "/Users/oscarmumford/opt/anaconda3/lib/python3.9/site-packages/sklearn/model_selection/_validation.py:615: FitFailedWarning: Estimator fit failed. The score on this train-test partition for these parameters will be set to nan. Details: \n",
      "Traceback (most recent call last):\n",
      "  File \"/Users/oscarmumford/opt/anaconda3/lib/python3.9/site-packages/sklearn/model_selection/_validation.py\", line 598, in _fit_and_score\n",
      "    estimator.fit(X_train, y_train, **fit_params)\n",
      "  File \"/Users/oscarmumford/opt/anaconda3/lib/python3.9/site-packages/sklearn/ensemble/_forest.py\", line 387, in fit\n",
      "    trees = Parallel(n_jobs=self.n_jobs, verbose=self.verbose,\n",
      "  File \"/Users/oscarmumford/opt/anaconda3/lib/python3.9/site-packages/joblib/parallel.py\", line 1043, in __call__\n",
      "    if self.dispatch_one_batch(iterator):\n",
      "  File \"/Users/oscarmumford/opt/anaconda3/lib/python3.9/site-packages/joblib/parallel.py\", line 861, in dispatch_one_batch\n",
      "    self._dispatch(tasks)\n",
      "  File \"/Users/oscarmumford/opt/anaconda3/lib/python3.9/site-packages/joblib/parallel.py\", line 779, in _dispatch\n",
      "    job = self._backend.apply_async(batch, callback=cb)\n",
      "  File \"/Users/oscarmumford/opt/anaconda3/lib/python3.9/site-packages/joblib/_parallel_backends.py\", line 208, in apply_async\n",
      "    result = ImmediateResult(func)\n",
      "  File \"/Users/oscarmumford/opt/anaconda3/lib/python3.9/site-packages/joblib/_parallel_backends.py\", line 572, in __init__\n",
      "    self.results = batch()\n",
      "  File \"/Users/oscarmumford/opt/anaconda3/lib/python3.9/site-packages/joblib/parallel.py\", line 262, in __call__\n",
      "    return [func(*args, **kwargs)\n",
      "  File \"/Users/oscarmumford/opt/anaconda3/lib/python3.9/site-packages/joblib/parallel.py\", line 262, in <listcomp>\n",
      "    return [func(*args, **kwargs)\n",
      "  File \"/Users/oscarmumford/opt/anaconda3/lib/python3.9/site-packages/sklearn/utils/fixes.py\", line 222, in __call__\n",
      "    return self.function(*args, **kwargs)\n",
      "  File \"/Users/oscarmumford/opt/anaconda3/lib/python3.9/site-packages/sklearn/ensemble/_forest.py\", line 169, in _parallel_build_trees\n",
      "    tree.fit(X, y, sample_weight=curr_sample_weight, check_input=False)\n",
      "  File \"/Users/oscarmumford/opt/anaconda3/lib/python3.9/site-packages/sklearn/tree/_classes.py\", line 1252, in fit\n",
      "    super().fit(\n",
      "  File \"/Users/oscarmumford/opt/anaconda3/lib/python3.9/site-packages/sklearn/tree/_classes.py\", line 238, in fit\n",
      "    raise ValueError(\"min_samples_split must be an integer \"\n",
      "ValueError: min_samples_split must be an integer greater than 1 or a float in (0.0, 1.0]; got the integer 1\n",
      "\n",
      "  warnings.warn(\"Estimator fit failed. The score on this train-test\"\n",
      "/Users/oscarmumford/opt/anaconda3/lib/python3.9/site-packages/sklearn/model_selection/_validation.py:615: FitFailedWarning: Estimator fit failed. The score on this train-test partition for these parameters will be set to nan. Details: \n",
      "Traceback (most recent call last):\n",
      "  File \"/Users/oscarmumford/opt/anaconda3/lib/python3.9/site-packages/sklearn/model_selection/_validation.py\", line 598, in _fit_and_score\n",
      "    estimator.fit(X_train, y_train, **fit_params)\n",
      "  File \"/Users/oscarmumford/opt/anaconda3/lib/python3.9/site-packages/sklearn/ensemble/_forest.py\", line 387, in fit\n",
      "    trees = Parallel(n_jobs=self.n_jobs, verbose=self.verbose,\n",
      "  File \"/Users/oscarmumford/opt/anaconda3/lib/python3.9/site-packages/joblib/parallel.py\", line 1043, in __call__\n",
      "    if self.dispatch_one_batch(iterator):\n",
      "  File \"/Users/oscarmumford/opt/anaconda3/lib/python3.9/site-packages/joblib/parallel.py\", line 861, in dispatch_one_batch\n",
      "    self._dispatch(tasks)\n",
      "  File \"/Users/oscarmumford/opt/anaconda3/lib/python3.9/site-packages/joblib/parallel.py\", line 779, in _dispatch\n",
      "    job = self._backend.apply_async(batch, callback=cb)\n",
      "  File \"/Users/oscarmumford/opt/anaconda3/lib/python3.9/site-packages/joblib/_parallel_backends.py\", line 208, in apply_async\n",
      "    result = ImmediateResult(func)\n",
      "  File \"/Users/oscarmumford/opt/anaconda3/lib/python3.9/site-packages/joblib/_parallel_backends.py\", line 572, in __init__\n",
      "    self.results = batch()\n",
      "  File \"/Users/oscarmumford/opt/anaconda3/lib/python3.9/site-packages/joblib/parallel.py\", line 262, in __call__\n",
      "    return [func(*args, **kwargs)\n",
      "  File \"/Users/oscarmumford/opt/anaconda3/lib/python3.9/site-packages/joblib/parallel.py\", line 262, in <listcomp>\n",
      "    return [func(*args, **kwargs)\n",
      "  File \"/Users/oscarmumford/opt/anaconda3/lib/python3.9/site-packages/sklearn/utils/fixes.py\", line 222, in __call__\n",
      "    return self.function(*args, **kwargs)\n",
      "  File \"/Users/oscarmumford/opt/anaconda3/lib/python3.9/site-packages/sklearn/ensemble/_forest.py\", line 169, in _parallel_build_trees\n",
      "    tree.fit(X, y, sample_weight=curr_sample_weight, check_input=False)\n",
      "  File \"/Users/oscarmumford/opt/anaconda3/lib/python3.9/site-packages/sklearn/tree/_classes.py\", line 1252, in fit\n",
      "    super().fit(\n",
      "  File \"/Users/oscarmumford/opt/anaconda3/lib/python3.9/site-packages/sklearn/tree/_classes.py\", line 238, in fit\n",
      "    raise ValueError(\"min_samples_split must be an integer \"\n",
      "ValueError: min_samples_split must be an integer greater than 1 or a float in (0.0, 1.0]; got the integer 1\n",
      "\n",
      "  warnings.warn(\"Estimator fit failed. The score on this train-test\"\n",
      "/Users/oscarmumford/opt/anaconda3/lib/python3.9/site-packages/sklearn/model_selection/_validation.py:615: FitFailedWarning: Estimator fit failed. The score on this train-test partition for these parameters will be set to nan. Details: \n",
      "Traceback (most recent call last):\n",
      "  File \"/Users/oscarmumford/opt/anaconda3/lib/python3.9/site-packages/sklearn/model_selection/_validation.py\", line 598, in _fit_and_score\n",
      "    estimator.fit(X_train, y_train, **fit_params)\n",
      "  File \"/Users/oscarmumford/opt/anaconda3/lib/python3.9/site-packages/sklearn/ensemble/_forest.py\", line 387, in fit\n",
      "    trees = Parallel(n_jobs=self.n_jobs, verbose=self.verbose,\n",
      "  File \"/Users/oscarmumford/opt/anaconda3/lib/python3.9/site-packages/joblib/parallel.py\", line 1043, in __call__\n",
      "    if self.dispatch_one_batch(iterator):\n",
      "  File \"/Users/oscarmumford/opt/anaconda3/lib/python3.9/site-packages/joblib/parallel.py\", line 861, in dispatch_one_batch\n",
      "    self._dispatch(tasks)\n",
      "  File \"/Users/oscarmumford/opt/anaconda3/lib/python3.9/site-packages/joblib/parallel.py\", line 779, in _dispatch\n",
      "    job = self._backend.apply_async(batch, callback=cb)\n",
      "  File \"/Users/oscarmumford/opt/anaconda3/lib/python3.9/site-packages/joblib/_parallel_backends.py\", line 208, in apply_async\n",
      "    result = ImmediateResult(func)\n",
      "  File \"/Users/oscarmumford/opt/anaconda3/lib/python3.9/site-packages/joblib/_parallel_backends.py\", line 572, in __init__\n",
      "    self.results = batch()\n",
      "  File \"/Users/oscarmumford/opt/anaconda3/lib/python3.9/site-packages/joblib/parallel.py\", line 262, in __call__\n",
      "    return [func(*args, **kwargs)\n",
      "  File \"/Users/oscarmumford/opt/anaconda3/lib/python3.9/site-packages/joblib/parallel.py\", line 262, in <listcomp>\n",
      "    return [func(*args, **kwargs)\n",
      "  File \"/Users/oscarmumford/opt/anaconda3/lib/python3.9/site-packages/sklearn/utils/fixes.py\", line 222, in __call__\n",
      "    return self.function(*args, **kwargs)\n",
      "  File \"/Users/oscarmumford/opt/anaconda3/lib/python3.9/site-packages/sklearn/ensemble/_forest.py\", line 169, in _parallel_build_trees\n",
      "    tree.fit(X, y, sample_weight=curr_sample_weight, check_input=False)\n",
      "  File \"/Users/oscarmumford/opt/anaconda3/lib/python3.9/site-packages/sklearn/tree/_classes.py\", line 1252, in fit\n",
      "    super().fit(\n",
      "  File \"/Users/oscarmumford/opt/anaconda3/lib/python3.9/site-packages/sklearn/tree/_classes.py\", line 238, in fit\n",
      "    raise ValueError(\"min_samples_split must be an integer \"\n",
      "ValueError: min_samples_split must be an integer greater than 1 or a float in (0.0, 1.0]; got the integer 1\n",
      "\n",
      "  warnings.warn(\"Estimator fit failed. The score on this train-test\"\n",
      "/Users/oscarmumford/opt/anaconda3/lib/python3.9/site-packages/sklearn/model_selection/_validation.py:615: FitFailedWarning: Estimator fit failed. The score on this train-test partition for these parameters will be set to nan. Details: \n",
      "Traceback (most recent call last):\n",
      "  File \"/Users/oscarmumford/opt/anaconda3/lib/python3.9/site-packages/sklearn/model_selection/_validation.py\", line 598, in _fit_and_score\n",
      "    estimator.fit(X_train, y_train, **fit_params)\n",
      "  File \"/Users/oscarmumford/opt/anaconda3/lib/python3.9/site-packages/sklearn/ensemble/_forest.py\", line 387, in fit\n",
      "    trees = Parallel(n_jobs=self.n_jobs, verbose=self.verbose,\n",
      "  File \"/Users/oscarmumford/opt/anaconda3/lib/python3.9/site-packages/joblib/parallel.py\", line 1043, in __call__\n",
      "    if self.dispatch_one_batch(iterator):\n",
      "  File \"/Users/oscarmumford/opt/anaconda3/lib/python3.9/site-packages/joblib/parallel.py\", line 861, in dispatch_one_batch\n",
      "    self._dispatch(tasks)\n",
      "  File \"/Users/oscarmumford/opt/anaconda3/lib/python3.9/site-packages/joblib/parallel.py\", line 779, in _dispatch\n",
      "    job = self._backend.apply_async(batch, callback=cb)\n",
      "  File \"/Users/oscarmumford/opt/anaconda3/lib/python3.9/site-packages/joblib/_parallel_backends.py\", line 208, in apply_async\n",
      "    result = ImmediateResult(func)\n",
      "  File \"/Users/oscarmumford/opt/anaconda3/lib/python3.9/site-packages/joblib/_parallel_backends.py\", line 572, in __init__\n",
      "    self.results = batch()\n",
      "  File \"/Users/oscarmumford/opt/anaconda3/lib/python3.9/site-packages/joblib/parallel.py\", line 262, in __call__\n",
      "    return [func(*args, **kwargs)\n",
      "  File \"/Users/oscarmumford/opt/anaconda3/lib/python3.9/site-packages/joblib/parallel.py\", line 262, in <listcomp>\n",
      "    return [func(*args, **kwargs)\n",
      "  File \"/Users/oscarmumford/opt/anaconda3/lib/python3.9/site-packages/sklearn/utils/fixes.py\", line 222, in __call__\n",
      "    return self.function(*args, **kwargs)\n",
      "  File \"/Users/oscarmumford/opt/anaconda3/lib/python3.9/site-packages/sklearn/ensemble/_forest.py\", line 169, in _parallel_build_trees\n",
      "    tree.fit(X, y, sample_weight=curr_sample_weight, check_input=False)\n",
      "  File \"/Users/oscarmumford/opt/anaconda3/lib/python3.9/site-packages/sklearn/tree/_classes.py\", line 1252, in fit\n",
      "    super().fit(\n",
      "  File \"/Users/oscarmumford/opt/anaconda3/lib/python3.9/site-packages/sklearn/tree/_classes.py\", line 238, in fit\n",
      "    raise ValueError(\"min_samples_split must be an integer \"\n",
      "ValueError: min_samples_split must be an integer greater than 1 or a float in (0.0, 1.0]; got the integer 1\n",
      "\n",
      "  warnings.warn(\"Estimator fit failed. The score on this train-test\"\n",
      "/Users/oscarmumford/opt/anaconda3/lib/python3.9/site-packages/sklearn/model_selection/_validation.py:615: FitFailedWarning: Estimator fit failed. The score on this train-test partition for these parameters will be set to nan. Details: \n",
      "Traceback (most recent call last):\n",
      "  File \"/Users/oscarmumford/opt/anaconda3/lib/python3.9/site-packages/sklearn/model_selection/_validation.py\", line 598, in _fit_and_score\n",
      "    estimator.fit(X_train, y_train, **fit_params)\n",
      "  File \"/Users/oscarmumford/opt/anaconda3/lib/python3.9/site-packages/sklearn/ensemble/_forest.py\", line 387, in fit\n",
      "    trees = Parallel(n_jobs=self.n_jobs, verbose=self.verbose,\n",
      "  File \"/Users/oscarmumford/opt/anaconda3/lib/python3.9/site-packages/joblib/parallel.py\", line 1043, in __call__\n",
      "    if self.dispatch_one_batch(iterator):\n",
      "  File \"/Users/oscarmumford/opt/anaconda3/lib/python3.9/site-packages/joblib/parallel.py\", line 861, in dispatch_one_batch\n",
      "    self._dispatch(tasks)\n",
      "  File \"/Users/oscarmumford/opt/anaconda3/lib/python3.9/site-packages/joblib/parallel.py\", line 779, in _dispatch\n",
      "    job = self._backend.apply_async(batch, callback=cb)\n",
      "  File \"/Users/oscarmumford/opt/anaconda3/lib/python3.9/site-packages/joblib/_parallel_backends.py\", line 208, in apply_async\n",
      "    result = ImmediateResult(func)\n",
      "  File \"/Users/oscarmumford/opt/anaconda3/lib/python3.9/site-packages/joblib/_parallel_backends.py\", line 572, in __init__\n",
      "    self.results = batch()\n",
      "  File \"/Users/oscarmumford/opt/anaconda3/lib/python3.9/site-packages/joblib/parallel.py\", line 262, in __call__\n",
      "    return [func(*args, **kwargs)\n",
      "  File \"/Users/oscarmumford/opt/anaconda3/lib/python3.9/site-packages/joblib/parallel.py\", line 262, in <listcomp>\n",
      "    return [func(*args, **kwargs)\n",
      "  File \"/Users/oscarmumford/opt/anaconda3/lib/python3.9/site-packages/sklearn/utils/fixes.py\", line 222, in __call__\n",
      "    return self.function(*args, **kwargs)\n",
      "  File \"/Users/oscarmumford/opt/anaconda3/lib/python3.9/site-packages/sklearn/ensemble/_forest.py\", line 169, in _parallel_build_trees\n",
      "    tree.fit(X, y, sample_weight=curr_sample_weight, check_input=False)\n",
      "  File \"/Users/oscarmumford/opt/anaconda3/lib/python3.9/site-packages/sklearn/tree/_classes.py\", line 1252, in fit\n",
      "    super().fit(\n",
      "  File \"/Users/oscarmumford/opt/anaconda3/lib/python3.9/site-packages/sklearn/tree/_classes.py\", line 238, in fit\n",
      "    raise ValueError(\"min_samples_split must be an integer \"\n",
      "ValueError: min_samples_split must be an integer greater than 1 or a float in (0.0, 1.0]; got the integer 1\n",
      "\n",
      "  warnings.warn(\"Estimator fit failed. The score on this train-test\"\n",
      "/Users/oscarmumford/opt/anaconda3/lib/python3.9/site-packages/sklearn/model_selection/_validation.py:615: FitFailedWarning: Estimator fit failed. The score on this train-test partition for these parameters will be set to nan. Details: \n",
      "Traceback (most recent call last):\n",
      "  File \"/Users/oscarmumford/opt/anaconda3/lib/python3.9/site-packages/sklearn/model_selection/_validation.py\", line 598, in _fit_and_score\n",
      "    estimator.fit(X_train, y_train, **fit_params)\n",
      "  File \"/Users/oscarmumford/opt/anaconda3/lib/python3.9/site-packages/sklearn/ensemble/_forest.py\", line 387, in fit\n",
      "    trees = Parallel(n_jobs=self.n_jobs, verbose=self.verbose,\n",
      "  File \"/Users/oscarmumford/opt/anaconda3/lib/python3.9/site-packages/joblib/parallel.py\", line 1043, in __call__\n",
      "    if self.dispatch_one_batch(iterator):\n",
      "  File \"/Users/oscarmumford/opt/anaconda3/lib/python3.9/site-packages/joblib/parallel.py\", line 861, in dispatch_one_batch\n",
      "    self._dispatch(tasks)\n",
      "  File \"/Users/oscarmumford/opt/anaconda3/lib/python3.9/site-packages/joblib/parallel.py\", line 779, in _dispatch\n",
      "    job = self._backend.apply_async(batch, callback=cb)\n",
      "  File \"/Users/oscarmumford/opt/anaconda3/lib/python3.9/site-packages/joblib/_parallel_backends.py\", line 208, in apply_async\n",
      "    result = ImmediateResult(func)\n",
      "  File \"/Users/oscarmumford/opt/anaconda3/lib/python3.9/site-packages/joblib/_parallel_backends.py\", line 572, in __init__\n",
      "    self.results = batch()\n",
      "  File \"/Users/oscarmumford/opt/anaconda3/lib/python3.9/site-packages/joblib/parallel.py\", line 262, in __call__\n",
      "    return [func(*args, **kwargs)\n",
      "  File \"/Users/oscarmumford/opt/anaconda3/lib/python3.9/site-packages/joblib/parallel.py\", line 262, in <listcomp>\n",
      "    return [func(*args, **kwargs)\n",
      "  File \"/Users/oscarmumford/opt/anaconda3/lib/python3.9/site-packages/sklearn/utils/fixes.py\", line 222, in __call__\n",
      "    return self.function(*args, **kwargs)\n",
      "  File \"/Users/oscarmumford/opt/anaconda3/lib/python3.9/site-packages/sklearn/ensemble/_forest.py\", line 169, in _parallel_build_trees\n",
      "    tree.fit(X, y, sample_weight=curr_sample_weight, check_input=False)\n",
      "  File \"/Users/oscarmumford/opt/anaconda3/lib/python3.9/site-packages/sklearn/tree/_classes.py\", line 1252, in fit\n",
      "    super().fit(\n",
      "  File \"/Users/oscarmumford/opt/anaconda3/lib/python3.9/site-packages/sklearn/tree/_classes.py\", line 238, in fit\n",
      "    raise ValueError(\"min_samples_split must be an integer \"\n",
      "ValueError: min_samples_split must be an integer greater than 1 or a float in (0.0, 1.0]; got the integer 1\n",
      "\n",
      "  warnings.warn(\"Estimator fit failed. The score on this train-test\"\n",
      "/Users/oscarmumford/opt/anaconda3/lib/python3.9/site-packages/sklearn/model_selection/_validation.py:615: FitFailedWarning: Estimator fit failed. The score on this train-test partition for these parameters will be set to nan. Details: \n",
      "Traceback (most recent call last):\n",
      "  File \"/Users/oscarmumford/opt/anaconda3/lib/python3.9/site-packages/sklearn/model_selection/_validation.py\", line 598, in _fit_and_score\n",
      "    estimator.fit(X_train, y_train, **fit_params)\n",
      "  File \"/Users/oscarmumford/opt/anaconda3/lib/python3.9/site-packages/sklearn/ensemble/_forest.py\", line 387, in fit\n",
      "    trees = Parallel(n_jobs=self.n_jobs, verbose=self.verbose,\n",
      "  File \"/Users/oscarmumford/opt/anaconda3/lib/python3.9/site-packages/joblib/parallel.py\", line 1043, in __call__\n",
      "    if self.dispatch_one_batch(iterator):\n",
      "  File \"/Users/oscarmumford/opt/anaconda3/lib/python3.9/site-packages/joblib/parallel.py\", line 861, in dispatch_one_batch\n",
      "    self._dispatch(tasks)\n",
      "  File \"/Users/oscarmumford/opt/anaconda3/lib/python3.9/site-packages/joblib/parallel.py\", line 779, in _dispatch\n",
      "    job = self._backend.apply_async(batch, callback=cb)\n",
      "  File \"/Users/oscarmumford/opt/anaconda3/lib/python3.9/site-packages/joblib/_parallel_backends.py\", line 208, in apply_async\n",
      "    result = ImmediateResult(func)\n",
      "  File \"/Users/oscarmumford/opt/anaconda3/lib/python3.9/site-packages/joblib/_parallel_backends.py\", line 572, in __init__\n",
      "    self.results = batch()\n",
      "  File \"/Users/oscarmumford/opt/anaconda3/lib/python3.9/site-packages/joblib/parallel.py\", line 262, in __call__\n",
      "    return [func(*args, **kwargs)\n",
      "  File \"/Users/oscarmumford/opt/anaconda3/lib/python3.9/site-packages/joblib/parallel.py\", line 262, in <listcomp>\n",
      "    return [func(*args, **kwargs)\n",
      "  File \"/Users/oscarmumford/opt/anaconda3/lib/python3.9/site-packages/sklearn/utils/fixes.py\", line 222, in __call__\n",
      "    return self.function(*args, **kwargs)\n",
      "  File \"/Users/oscarmumford/opt/anaconda3/lib/python3.9/site-packages/sklearn/ensemble/_forest.py\", line 169, in _parallel_build_trees\n",
      "    tree.fit(X, y, sample_weight=curr_sample_weight, check_input=False)\n",
      "  File \"/Users/oscarmumford/opt/anaconda3/lib/python3.9/site-packages/sklearn/tree/_classes.py\", line 1252, in fit\n",
      "    super().fit(\n",
      "  File \"/Users/oscarmumford/opt/anaconda3/lib/python3.9/site-packages/sklearn/tree/_classes.py\", line 238, in fit\n",
      "    raise ValueError(\"min_samples_split must be an integer \"\n",
      "ValueError: min_samples_split must be an integer greater than 1 or a float in (0.0, 1.0]; got the integer 1\n",
      "\n",
      "  warnings.warn(\"Estimator fit failed. The score on this train-test\"\n",
      "/Users/oscarmumford/opt/anaconda3/lib/python3.9/site-packages/sklearn/model_selection/_validation.py:615: FitFailedWarning: Estimator fit failed. The score on this train-test partition for these parameters will be set to nan. Details: \n",
      "Traceback (most recent call last):\n",
      "  File \"/Users/oscarmumford/opt/anaconda3/lib/python3.9/site-packages/sklearn/model_selection/_validation.py\", line 598, in _fit_and_score\n",
      "    estimator.fit(X_train, y_train, **fit_params)\n",
      "  File \"/Users/oscarmumford/opt/anaconda3/lib/python3.9/site-packages/sklearn/ensemble/_forest.py\", line 387, in fit\n",
      "    trees = Parallel(n_jobs=self.n_jobs, verbose=self.verbose,\n",
      "  File \"/Users/oscarmumford/opt/anaconda3/lib/python3.9/site-packages/joblib/parallel.py\", line 1043, in __call__\n",
      "    if self.dispatch_one_batch(iterator):\n",
      "  File \"/Users/oscarmumford/opt/anaconda3/lib/python3.9/site-packages/joblib/parallel.py\", line 861, in dispatch_one_batch\n",
      "    self._dispatch(tasks)\n",
      "  File \"/Users/oscarmumford/opt/anaconda3/lib/python3.9/site-packages/joblib/parallel.py\", line 779, in _dispatch\n",
      "    job = self._backend.apply_async(batch, callback=cb)\n",
      "  File \"/Users/oscarmumford/opt/anaconda3/lib/python3.9/site-packages/joblib/_parallel_backends.py\", line 208, in apply_async\n",
      "    result = ImmediateResult(func)\n",
      "  File \"/Users/oscarmumford/opt/anaconda3/lib/python3.9/site-packages/joblib/_parallel_backends.py\", line 572, in __init__\n",
      "    self.results = batch()\n",
      "  File \"/Users/oscarmumford/opt/anaconda3/lib/python3.9/site-packages/joblib/parallel.py\", line 262, in __call__\n",
      "    return [func(*args, **kwargs)\n",
      "  File \"/Users/oscarmumford/opt/anaconda3/lib/python3.9/site-packages/joblib/parallel.py\", line 262, in <listcomp>\n",
      "    return [func(*args, **kwargs)\n",
      "  File \"/Users/oscarmumford/opt/anaconda3/lib/python3.9/site-packages/sklearn/utils/fixes.py\", line 222, in __call__\n",
      "    return self.function(*args, **kwargs)\n",
      "  File \"/Users/oscarmumford/opt/anaconda3/lib/python3.9/site-packages/sklearn/ensemble/_forest.py\", line 169, in _parallel_build_trees\n",
      "    tree.fit(X, y, sample_weight=curr_sample_weight, check_input=False)\n",
      "  File \"/Users/oscarmumford/opt/anaconda3/lib/python3.9/site-packages/sklearn/tree/_classes.py\", line 1252, in fit\n",
      "    super().fit(\n",
      "  File \"/Users/oscarmumford/opt/anaconda3/lib/python3.9/site-packages/sklearn/tree/_classes.py\", line 238, in fit\n",
      "    raise ValueError(\"min_samples_split must be an integer \"\n",
      "ValueError: min_samples_split must be an integer greater than 1 or a float in (0.0, 1.0]; got the integer 1\n",
      "\n",
      "  warnings.warn(\"Estimator fit failed. The score on this train-test\"\n",
      "/Users/oscarmumford/opt/anaconda3/lib/python3.9/site-packages/sklearn/model_selection/_validation.py:615: FitFailedWarning: Estimator fit failed. The score on this train-test partition for these parameters will be set to nan. Details: \n",
      "Traceback (most recent call last):\n",
      "  File \"/Users/oscarmumford/opt/anaconda3/lib/python3.9/site-packages/sklearn/model_selection/_validation.py\", line 598, in _fit_and_score\n",
      "    estimator.fit(X_train, y_train, **fit_params)\n",
      "  File \"/Users/oscarmumford/opt/anaconda3/lib/python3.9/site-packages/sklearn/ensemble/_forest.py\", line 387, in fit\n",
      "    trees = Parallel(n_jobs=self.n_jobs, verbose=self.verbose,\n",
      "  File \"/Users/oscarmumford/opt/anaconda3/lib/python3.9/site-packages/joblib/parallel.py\", line 1043, in __call__\n",
      "    if self.dispatch_one_batch(iterator):\n",
      "  File \"/Users/oscarmumford/opt/anaconda3/lib/python3.9/site-packages/joblib/parallel.py\", line 861, in dispatch_one_batch\n",
      "    self._dispatch(tasks)\n",
      "  File \"/Users/oscarmumford/opt/anaconda3/lib/python3.9/site-packages/joblib/parallel.py\", line 779, in _dispatch\n",
      "    job = self._backend.apply_async(batch, callback=cb)\n",
      "  File \"/Users/oscarmumford/opt/anaconda3/lib/python3.9/site-packages/joblib/_parallel_backends.py\", line 208, in apply_async\n",
      "    result = ImmediateResult(func)\n",
      "  File \"/Users/oscarmumford/opt/anaconda3/lib/python3.9/site-packages/joblib/_parallel_backends.py\", line 572, in __init__\n",
      "    self.results = batch()\n",
      "  File \"/Users/oscarmumford/opt/anaconda3/lib/python3.9/site-packages/joblib/parallel.py\", line 262, in __call__\n",
      "    return [func(*args, **kwargs)\n",
      "  File \"/Users/oscarmumford/opt/anaconda3/lib/python3.9/site-packages/joblib/parallel.py\", line 262, in <listcomp>\n",
      "    return [func(*args, **kwargs)\n",
      "  File \"/Users/oscarmumford/opt/anaconda3/lib/python3.9/site-packages/sklearn/utils/fixes.py\", line 222, in __call__\n",
      "    return self.function(*args, **kwargs)\n",
      "  File \"/Users/oscarmumford/opt/anaconda3/lib/python3.9/site-packages/sklearn/ensemble/_forest.py\", line 169, in _parallel_build_trees\n",
      "    tree.fit(X, y, sample_weight=curr_sample_weight, check_input=False)\n",
      "  File \"/Users/oscarmumford/opt/anaconda3/lib/python3.9/site-packages/sklearn/tree/_classes.py\", line 1252, in fit\n",
      "    super().fit(\n",
      "  File \"/Users/oscarmumford/opt/anaconda3/lib/python3.9/site-packages/sklearn/tree/_classes.py\", line 238, in fit\n",
      "    raise ValueError(\"min_samples_split must be an integer \"\n",
      "ValueError: min_samples_split must be an integer greater than 1 or a float in (0.0, 1.0]; got the integer 1\n",
      "\n",
      "  warnings.warn(\"Estimator fit failed. The score on this train-test\"\n",
      "/Users/oscarmumford/opt/anaconda3/lib/python3.9/site-packages/sklearn/model_selection/_validation.py:615: FitFailedWarning: Estimator fit failed. The score on this train-test partition for these parameters will be set to nan. Details: \n",
      "Traceback (most recent call last):\n",
      "  File \"/Users/oscarmumford/opt/anaconda3/lib/python3.9/site-packages/sklearn/model_selection/_validation.py\", line 598, in _fit_and_score\n",
      "    estimator.fit(X_train, y_train, **fit_params)\n",
      "  File \"/Users/oscarmumford/opt/anaconda3/lib/python3.9/site-packages/sklearn/ensemble/_forest.py\", line 387, in fit\n",
      "    trees = Parallel(n_jobs=self.n_jobs, verbose=self.verbose,\n",
      "  File \"/Users/oscarmumford/opt/anaconda3/lib/python3.9/site-packages/joblib/parallel.py\", line 1043, in __call__\n",
      "    if self.dispatch_one_batch(iterator):\n",
      "  File \"/Users/oscarmumford/opt/anaconda3/lib/python3.9/site-packages/joblib/parallel.py\", line 861, in dispatch_one_batch\n",
      "    self._dispatch(tasks)\n",
      "  File \"/Users/oscarmumford/opt/anaconda3/lib/python3.9/site-packages/joblib/parallel.py\", line 779, in _dispatch\n",
      "    job = self._backend.apply_async(batch, callback=cb)\n",
      "  File \"/Users/oscarmumford/opt/anaconda3/lib/python3.9/site-packages/joblib/_parallel_backends.py\", line 208, in apply_async\n",
      "    result = ImmediateResult(func)\n",
      "  File \"/Users/oscarmumford/opt/anaconda3/lib/python3.9/site-packages/joblib/_parallel_backends.py\", line 572, in __init__\n",
      "    self.results = batch()\n",
      "  File \"/Users/oscarmumford/opt/anaconda3/lib/python3.9/site-packages/joblib/parallel.py\", line 262, in __call__\n",
      "    return [func(*args, **kwargs)\n",
      "  File \"/Users/oscarmumford/opt/anaconda3/lib/python3.9/site-packages/joblib/parallel.py\", line 262, in <listcomp>\n",
      "    return [func(*args, **kwargs)\n",
      "  File \"/Users/oscarmumford/opt/anaconda3/lib/python3.9/site-packages/sklearn/utils/fixes.py\", line 222, in __call__\n",
      "    return self.function(*args, **kwargs)\n",
      "  File \"/Users/oscarmumford/opt/anaconda3/lib/python3.9/site-packages/sklearn/ensemble/_forest.py\", line 169, in _parallel_build_trees\n",
      "    tree.fit(X, y, sample_weight=curr_sample_weight, check_input=False)\n",
      "  File \"/Users/oscarmumford/opt/anaconda3/lib/python3.9/site-packages/sklearn/tree/_classes.py\", line 1252, in fit\n",
      "    super().fit(\n",
      "  File \"/Users/oscarmumford/opt/anaconda3/lib/python3.9/site-packages/sklearn/tree/_classes.py\", line 238, in fit\n",
      "    raise ValueError(\"min_samples_split must be an integer \"\n",
      "ValueError: min_samples_split must be an integer greater than 1 or a float in (0.0, 1.0]; got the integer 1\n",
      "\n",
      "  warnings.warn(\"Estimator fit failed. The score on this train-test\"\n",
      "/Users/oscarmumford/opt/anaconda3/lib/python3.9/site-packages/sklearn/model_selection/_validation.py:615: FitFailedWarning: Estimator fit failed. The score on this train-test partition for these parameters will be set to nan. Details: \n",
      "Traceback (most recent call last):\n",
      "  File \"/Users/oscarmumford/opt/anaconda3/lib/python3.9/site-packages/sklearn/model_selection/_validation.py\", line 598, in _fit_and_score\n",
      "    estimator.fit(X_train, y_train, **fit_params)\n",
      "  File \"/Users/oscarmumford/opt/anaconda3/lib/python3.9/site-packages/sklearn/ensemble/_forest.py\", line 387, in fit\n",
      "    trees = Parallel(n_jobs=self.n_jobs, verbose=self.verbose,\n",
      "  File \"/Users/oscarmumford/opt/anaconda3/lib/python3.9/site-packages/joblib/parallel.py\", line 1043, in __call__\n",
      "    if self.dispatch_one_batch(iterator):\n",
      "  File \"/Users/oscarmumford/opt/anaconda3/lib/python3.9/site-packages/joblib/parallel.py\", line 861, in dispatch_one_batch\n",
      "    self._dispatch(tasks)\n",
      "  File \"/Users/oscarmumford/opt/anaconda3/lib/python3.9/site-packages/joblib/parallel.py\", line 779, in _dispatch\n",
      "    job = self._backend.apply_async(batch, callback=cb)\n",
      "  File \"/Users/oscarmumford/opt/anaconda3/lib/python3.9/site-packages/joblib/_parallel_backends.py\", line 208, in apply_async\n",
      "    result = ImmediateResult(func)\n",
      "  File \"/Users/oscarmumford/opt/anaconda3/lib/python3.9/site-packages/joblib/_parallel_backends.py\", line 572, in __init__\n",
      "    self.results = batch()\n",
      "  File \"/Users/oscarmumford/opt/anaconda3/lib/python3.9/site-packages/joblib/parallel.py\", line 262, in __call__\n",
      "    return [func(*args, **kwargs)\n",
      "  File \"/Users/oscarmumford/opt/anaconda3/lib/python3.9/site-packages/joblib/parallel.py\", line 262, in <listcomp>\n",
      "    return [func(*args, **kwargs)\n",
      "  File \"/Users/oscarmumford/opt/anaconda3/lib/python3.9/site-packages/sklearn/utils/fixes.py\", line 222, in __call__\n",
      "    return self.function(*args, **kwargs)\n",
      "  File \"/Users/oscarmumford/opt/anaconda3/lib/python3.9/site-packages/sklearn/ensemble/_forest.py\", line 169, in _parallel_build_trees\n",
      "    tree.fit(X, y, sample_weight=curr_sample_weight, check_input=False)\n",
      "  File \"/Users/oscarmumford/opt/anaconda3/lib/python3.9/site-packages/sklearn/tree/_classes.py\", line 1252, in fit\n",
      "    super().fit(\n",
      "  File \"/Users/oscarmumford/opt/anaconda3/lib/python3.9/site-packages/sklearn/tree/_classes.py\", line 238, in fit\n",
      "    raise ValueError(\"min_samples_split must be an integer \"\n",
      "ValueError: min_samples_split must be an integer greater than 1 or a float in (0.0, 1.0]; got the integer 1\n",
      "\n",
      "  warnings.warn(\"Estimator fit failed. The score on this train-test\"\n",
      "/Users/oscarmumford/opt/anaconda3/lib/python3.9/site-packages/sklearn/model_selection/_validation.py:615: FitFailedWarning: Estimator fit failed. The score on this train-test partition for these parameters will be set to nan. Details: \n",
      "Traceback (most recent call last):\n",
      "  File \"/Users/oscarmumford/opt/anaconda3/lib/python3.9/site-packages/sklearn/model_selection/_validation.py\", line 598, in _fit_and_score\n",
      "    estimator.fit(X_train, y_train, **fit_params)\n",
      "  File \"/Users/oscarmumford/opt/anaconda3/lib/python3.9/site-packages/sklearn/ensemble/_forest.py\", line 387, in fit\n",
      "    trees = Parallel(n_jobs=self.n_jobs, verbose=self.verbose,\n",
      "  File \"/Users/oscarmumford/opt/anaconda3/lib/python3.9/site-packages/joblib/parallel.py\", line 1043, in __call__\n",
      "    if self.dispatch_one_batch(iterator):\n",
      "  File \"/Users/oscarmumford/opt/anaconda3/lib/python3.9/site-packages/joblib/parallel.py\", line 861, in dispatch_one_batch\n",
      "    self._dispatch(tasks)\n",
      "  File \"/Users/oscarmumford/opt/anaconda3/lib/python3.9/site-packages/joblib/parallel.py\", line 779, in _dispatch\n",
      "    job = self._backend.apply_async(batch, callback=cb)\n",
      "  File \"/Users/oscarmumford/opt/anaconda3/lib/python3.9/site-packages/joblib/_parallel_backends.py\", line 208, in apply_async\n",
      "    result = ImmediateResult(func)\n",
      "  File \"/Users/oscarmumford/opt/anaconda3/lib/python3.9/site-packages/joblib/_parallel_backends.py\", line 572, in __init__\n",
      "    self.results = batch()\n",
      "  File \"/Users/oscarmumford/opt/anaconda3/lib/python3.9/site-packages/joblib/parallel.py\", line 262, in __call__\n",
      "    return [func(*args, **kwargs)\n",
      "  File \"/Users/oscarmumford/opt/anaconda3/lib/python3.9/site-packages/joblib/parallel.py\", line 262, in <listcomp>\n",
      "    return [func(*args, **kwargs)\n",
      "  File \"/Users/oscarmumford/opt/anaconda3/lib/python3.9/site-packages/sklearn/utils/fixes.py\", line 222, in __call__\n",
      "    return self.function(*args, **kwargs)\n",
      "  File \"/Users/oscarmumford/opt/anaconda3/lib/python3.9/site-packages/sklearn/ensemble/_forest.py\", line 169, in _parallel_build_trees\n",
      "    tree.fit(X, y, sample_weight=curr_sample_weight, check_input=False)\n",
      "  File \"/Users/oscarmumford/opt/anaconda3/lib/python3.9/site-packages/sklearn/tree/_classes.py\", line 1252, in fit\n",
      "    super().fit(\n",
      "  File \"/Users/oscarmumford/opt/anaconda3/lib/python3.9/site-packages/sklearn/tree/_classes.py\", line 238, in fit\n",
      "    raise ValueError(\"min_samples_split must be an integer \"\n",
      "ValueError: min_samples_split must be an integer greater than 1 or a float in (0.0, 1.0]; got the integer 1\n",
      "\n",
      "  warnings.warn(\"Estimator fit failed. The score on this train-test\"\n",
      "/Users/oscarmumford/opt/anaconda3/lib/python3.9/site-packages/sklearn/model_selection/_validation.py:615: FitFailedWarning: Estimator fit failed. The score on this train-test partition for these parameters will be set to nan. Details: \n",
      "Traceback (most recent call last):\n",
      "  File \"/Users/oscarmumford/opt/anaconda3/lib/python3.9/site-packages/sklearn/model_selection/_validation.py\", line 598, in _fit_and_score\n",
      "    estimator.fit(X_train, y_train, **fit_params)\n",
      "  File \"/Users/oscarmumford/opt/anaconda3/lib/python3.9/site-packages/sklearn/ensemble/_forest.py\", line 387, in fit\n",
      "    trees = Parallel(n_jobs=self.n_jobs, verbose=self.verbose,\n",
      "  File \"/Users/oscarmumford/opt/anaconda3/lib/python3.9/site-packages/joblib/parallel.py\", line 1043, in __call__\n",
      "    if self.dispatch_one_batch(iterator):\n",
      "  File \"/Users/oscarmumford/opt/anaconda3/lib/python3.9/site-packages/joblib/parallel.py\", line 861, in dispatch_one_batch\n",
      "    self._dispatch(tasks)\n",
      "  File \"/Users/oscarmumford/opt/anaconda3/lib/python3.9/site-packages/joblib/parallel.py\", line 779, in _dispatch\n",
      "    job = self._backend.apply_async(batch, callback=cb)\n",
      "  File \"/Users/oscarmumford/opt/anaconda3/lib/python3.9/site-packages/joblib/_parallel_backends.py\", line 208, in apply_async\n",
      "    result = ImmediateResult(func)\n",
      "  File \"/Users/oscarmumford/opt/anaconda3/lib/python3.9/site-packages/joblib/_parallel_backends.py\", line 572, in __init__\n",
      "    self.results = batch()\n",
      "  File \"/Users/oscarmumford/opt/anaconda3/lib/python3.9/site-packages/joblib/parallel.py\", line 262, in __call__\n",
      "    return [func(*args, **kwargs)\n",
      "  File \"/Users/oscarmumford/opt/anaconda3/lib/python3.9/site-packages/joblib/parallel.py\", line 262, in <listcomp>\n",
      "    return [func(*args, **kwargs)\n",
      "  File \"/Users/oscarmumford/opt/anaconda3/lib/python3.9/site-packages/sklearn/utils/fixes.py\", line 222, in __call__\n",
      "    return self.function(*args, **kwargs)\n",
      "  File \"/Users/oscarmumford/opt/anaconda3/lib/python3.9/site-packages/sklearn/ensemble/_forest.py\", line 169, in _parallel_build_trees\n",
      "    tree.fit(X, y, sample_weight=curr_sample_weight, check_input=False)\n",
      "  File \"/Users/oscarmumford/opt/anaconda3/lib/python3.9/site-packages/sklearn/tree/_classes.py\", line 1252, in fit\n",
      "    super().fit(\n",
      "  File \"/Users/oscarmumford/opt/anaconda3/lib/python3.9/site-packages/sklearn/tree/_classes.py\", line 238, in fit\n",
      "    raise ValueError(\"min_samples_split must be an integer \"\n",
      "ValueError: min_samples_split must be an integer greater than 1 or a float in (0.0, 1.0]; got the integer 1\n",
      "\n",
      "  warnings.warn(\"Estimator fit failed. The score on this train-test\"\n",
      "/Users/oscarmumford/opt/anaconda3/lib/python3.9/site-packages/sklearn/model_selection/_validation.py:615: FitFailedWarning: Estimator fit failed. The score on this train-test partition for these parameters will be set to nan. Details: \n",
      "Traceback (most recent call last):\n",
      "  File \"/Users/oscarmumford/opt/anaconda3/lib/python3.9/site-packages/sklearn/model_selection/_validation.py\", line 598, in _fit_and_score\n",
      "    estimator.fit(X_train, y_train, **fit_params)\n",
      "  File \"/Users/oscarmumford/opt/anaconda3/lib/python3.9/site-packages/sklearn/ensemble/_forest.py\", line 387, in fit\n",
      "    trees = Parallel(n_jobs=self.n_jobs, verbose=self.verbose,\n",
      "  File \"/Users/oscarmumford/opt/anaconda3/lib/python3.9/site-packages/joblib/parallel.py\", line 1043, in __call__\n",
      "    if self.dispatch_one_batch(iterator):\n",
      "  File \"/Users/oscarmumford/opt/anaconda3/lib/python3.9/site-packages/joblib/parallel.py\", line 861, in dispatch_one_batch\n",
      "    self._dispatch(tasks)\n",
      "  File \"/Users/oscarmumford/opt/anaconda3/lib/python3.9/site-packages/joblib/parallel.py\", line 779, in _dispatch\n",
      "    job = self._backend.apply_async(batch, callback=cb)\n",
      "  File \"/Users/oscarmumford/opt/anaconda3/lib/python3.9/site-packages/joblib/_parallel_backends.py\", line 208, in apply_async\n",
      "    result = ImmediateResult(func)\n",
      "  File \"/Users/oscarmumford/opt/anaconda3/lib/python3.9/site-packages/joblib/_parallel_backends.py\", line 572, in __init__\n",
      "    self.results = batch()\n",
      "  File \"/Users/oscarmumford/opt/anaconda3/lib/python3.9/site-packages/joblib/parallel.py\", line 262, in __call__\n",
      "    return [func(*args, **kwargs)\n",
      "  File \"/Users/oscarmumford/opt/anaconda3/lib/python3.9/site-packages/joblib/parallel.py\", line 262, in <listcomp>\n",
      "    return [func(*args, **kwargs)\n",
      "  File \"/Users/oscarmumford/opt/anaconda3/lib/python3.9/site-packages/sklearn/utils/fixes.py\", line 222, in __call__\n",
      "    return self.function(*args, **kwargs)\n",
      "  File \"/Users/oscarmumford/opt/anaconda3/lib/python3.9/site-packages/sklearn/ensemble/_forest.py\", line 169, in _parallel_build_trees\n",
      "    tree.fit(X, y, sample_weight=curr_sample_weight, check_input=False)\n",
      "  File \"/Users/oscarmumford/opt/anaconda3/lib/python3.9/site-packages/sklearn/tree/_classes.py\", line 1252, in fit\n",
      "    super().fit(\n",
      "  File \"/Users/oscarmumford/opt/anaconda3/lib/python3.9/site-packages/sklearn/tree/_classes.py\", line 238, in fit\n",
      "    raise ValueError(\"min_samples_split must be an integer \"\n",
      "ValueError: min_samples_split must be an integer greater than 1 or a float in (0.0, 1.0]; got the integer 1\n",
      "\n",
      "  warnings.warn(\"Estimator fit failed. The score on this train-test\"\n",
      "/Users/oscarmumford/opt/anaconda3/lib/python3.9/site-packages/sklearn/model_selection/_validation.py:615: FitFailedWarning: Estimator fit failed. The score on this train-test partition for these parameters will be set to nan. Details: \n",
      "Traceback (most recent call last):\n",
      "  File \"/Users/oscarmumford/opt/anaconda3/lib/python3.9/site-packages/sklearn/model_selection/_validation.py\", line 598, in _fit_and_score\n",
      "    estimator.fit(X_train, y_train, **fit_params)\n",
      "  File \"/Users/oscarmumford/opt/anaconda3/lib/python3.9/site-packages/sklearn/ensemble/_forest.py\", line 387, in fit\n",
      "    trees = Parallel(n_jobs=self.n_jobs, verbose=self.verbose,\n",
      "  File \"/Users/oscarmumford/opt/anaconda3/lib/python3.9/site-packages/joblib/parallel.py\", line 1043, in __call__\n",
      "    if self.dispatch_one_batch(iterator):\n",
      "  File \"/Users/oscarmumford/opt/anaconda3/lib/python3.9/site-packages/joblib/parallel.py\", line 861, in dispatch_one_batch\n",
      "    self._dispatch(tasks)\n",
      "  File \"/Users/oscarmumford/opt/anaconda3/lib/python3.9/site-packages/joblib/parallel.py\", line 779, in _dispatch\n",
      "    job = self._backend.apply_async(batch, callback=cb)\n",
      "  File \"/Users/oscarmumford/opt/anaconda3/lib/python3.9/site-packages/joblib/_parallel_backends.py\", line 208, in apply_async\n",
      "    result = ImmediateResult(func)\n",
      "  File \"/Users/oscarmumford/opt/anaconda3/lib/python3.9/site-packages/joblib/_parallel_backends.py\", line 572, in __init__\n",
      "    self.results = batch()\n",
      "  File \"/Users/oscarmumford/opt/anaconda3/lib/python3.9/site-packages/joblib/parallel.py\", line 262, in __call__\n",
      "    return [func(*args, **kwargs)\n",
      "  File \"/Users/oscarmumford/opt/anaconda3/lib/python3.9/site-packages/joblib/parallel.py\", line 262, in <listcomp>\n",
      "    return [func(*args, **kwargs)\n",
      "  File \"/Users/oscarmumford/opt/anaconda3/lib/python3.9/site-packages/sklearn/utils/fixes.py\", line 222, in __call__\n",
      "    return self.function(*args, **kwargs)\n",
      "  File \"/Users/oscarmumford/opt/anaconda3/lib/python3.9/site-packages/sklearn/ensemble/_forest.py\", line 169, in _parallel_build_trees\n",
      "    tree.fit(X, y, sample_weight=curr_sample_weight, check_input=False)\n",
      "  File \"/Users/oscarmumford/opt/anaconda3/lib/python3.9/site-packages/sklearn/tree/_classes.py\", line 1252, in fit\n",
      "    super().fit(\n",
      "  File \"/Users/oscarmumford/opt/anaconda3/lib/python3.9/site-packages/sklearn/tree/_classes.py\", line 238, in fit\n",
      "    raise ValueError(\"min_samples_split must be an integer \"\n",
      "ValueError: min_samples_split must be an integer greater than 1 or a float in (0.0, 1.0]; got the integer 1\n",
      "\n",
      "  warnings.warn(\"Estimator fit failed. The score on this train-test\"\n",
      "/Users/oscarmumford/opt/anaconda3/lib/python3.9/site-packages/sklearn/model_selection/_validation.py:615: FitFailedWarning: Estimator fit failed. The score on this train-test partition for these parameters will be set to nan. Details: \n",
      "Traceback (most recent call last):\n",
      "  File \"/Users/oscarmumford/opt/anaconda3/lib/python3.9/site-packages/sklearn/model_selection/_validation.py\", line 598, in _fit_and_score\n",
      "    estimator.fit(X_train, y_train, **fit_params)\n",
      "  File \"/Users/oscarmumford/opt/anaconda3/lib/python3.9/site-packages/sklearn/ensemble/_forest.py\", line 387, in fit\n",
      "    trees = Parallel(n_jobs=self.n_jobs, verbose=self.verbose,\n",
      "  File \"/Users/oscarmumford/opt/anaconda3/lib/python3.9/site-packages/joblib/parallel.py\", line 1043, in __call__\n",
      "    if self.dispatch_one_batch(iterator):\n",
      "  File \"/Users/oscarmumford/opt/anaconda3/lib/python3.9/site-packages/joblib/parallel.py\", line 861, in dispatch_one_batch\n",
      "    self._dispatch(tasks)\n",
      "  File \"/Users/oscarmumford/opt/anaconda3/lib/python3.9/site-packages/joblib/parallel.py\", line 779, in _dispatch\n",
      "    job = self._backend.apply_async(batch, callback=cb)\n",
      "  File \"/Users/oscarmumford/opt/anaconda3/lib/python3.9/site-packages/joblib/_parallel_backends.py\", line 208, in apply_async\n",
      "    result = ImmediateResult(func)\n",
      "  File \"/Users/oscarmumford/opt/anaconda3/lib/python3.9/site-packages/joblib/_parallel_backends.py\", line 572, in __init__\n",
      "    self.results = batch()\n",
      "  File \"/Users/oscarmumford/opt/anaconda3/lib/python3.9/site-packages/joblib/parallel.py\", line 262, in __call__\n",
      "    return [func(*args, **kwargs)\n",
      "  File \"/Users/oscarmumford/opt/anaconda3/lib/python3.9/site-packages/joblib/parallel.py\", line 262, in <listcomp>\n",
      "    return [func(*args, **kwargs)\n",
      "  File \"/Users/oscarmumford/opt/anaconda3/lib/python3.9/site-packages/sklearn/utils/fixes.py\", line 222, in __call__\n",
      "    return self.function(*args, **kwargs)\n",
      "  File \"/Users/oscarmumford/opt/anaconda3/lib/python3.9/site-packages/sklearn/ensemble/_forest.py\", line 169, in _parallel_build_trees\n",
      "    tree.fit(X, y, sample_weight=curr_sample_weight, check_input=False)\n",
      "  File \"/Users/oscarmumford/opt/anaconda3/lib/python3.9/site-packages/sklearn/tree/_classes.py\", line 1252, in fit\n",
      "    super().fit(\n",
      "  File \"/Users/oscarmumford/opt/anaconda3/lib/python3.9/site-packages/sklearn/tree/_classes.py\", line 238, in fit\n",
      "    raise ValueError(\"min_samples_split must be an integer \"\n",
      "ValueError: min_samples_split must be an integer greater than 1 or a float in (0.0, 1.0]; got the integer 1\n",
      "\n",
      "  warnings.warn(\"Estimator fit failed. The score on this train-test\"\n",
      "/Users/oscarmumford/opt/anaconda3/lib/python3.9/site-packages/sklearn/model_selection/_validation.py:615: FitFailedWarning: Estimator fit failed. The score on this train-test partition for these parameters will be set to nan. Details: \n",
      "Traceback (most recent call last):\n",
      "  File \"/Users/oscarmumford/opt/anaconda3/lib/python3.9/site-packages/sklearn/model_selection/_validation.py\", line 598, in _fit_and_score\n",
      "    estimator.fit(X_train, y_train, **fit_params)\n",
      "  File \"/Users/oscarmumford/opt/anaconda3/lib/python3.9/site-packages/sklearn/ensemble/_forest.py\", line 387, in fit\n",
      "    trees = Parallel(n_jobs=self.n_jobs, verbose=self.verbose,\n",
      "  File \"/Users/oscarmumford/opt/anaconda3/lib/python3.9/site-packages/joblib/parallel.py\", line 1043, in __call__\n",
      "    if self.dispatch_one_batch(iterator):\n",
      "  File \"/Users/oscarmumford/opt/anaconda3/lib/python3.9/site-packages/joblib/parallel.py\", line 861, in dispatch_one_batch\n",
      "    self._dispatch(tasks)\n",
      "  File \"/Users/oscarmumford/opt/anaconda3/lib/python3.9/site-packages/joblib/parallel.py\", line 779, in _dispatch\n",
      "    job = self._backend.apply_async(batch, callback=cb)\n",
      "  File \"/Users/oscarmumford/opt/anaconda3/lib/python3.9/site-packages/joblib/_parallel_backends.py\", line 208, in apply_async\n",
      "    result = ImmediateResult(func)\n",
      "  File \"/Users/oscarmumford/opt/anaconda3/lib/python3.9/site-packages/joblib/_parallel_backends.py\", line 572, in __init__\n",
      "    self.results = batch()\n",
      "  File \"/Users/oscarmumford/opt/anaconda3/lib/python3.9/site-packages/joblib/parallel.py\", line 262, in __call__\n",
      "    return [func(*args, **kwargs)\n",
      "  File \"/Users/oscarmumford/opt/anaconda3/lib/python3.9/site-packages/joblib/parallel.py\", line 262, in <listcomp>\n",
      "    return [func(*args, **kwargs)\n",
      "  File \"/Users/oscarmumford/opt/anaconda3/lib/python3.9/site-packages/sklearn/utils/fixes.py\", line 222, in __call__\n",
      "    return self.function(*args, **kwargs)\n",
      "  File \"/Users/oscarmumford/opt/anaconda3/lib/python3.9/site-packages/sklearn/ensemble/_forest.py\", line 169, in _parallel_build_trees\n",
      "    tree.fit(X, y, sample_weight=curr_sample_weight, check_input=False)\n",
      "  File \"/Users/oscarmumford/opt/anaconda3/lib/python3.9/site-packages/sklearn/tree/_classes.py\", line 1252, in fit\n",
      "    super().fit(\n",
      "  File \"/Users/oscarmumford/opt/anaconda3/lib/python3.9/site-packages/sklearn/tree/_classes.py\", line 238, in fit\n",
      "    raise ValueError(\"min_samples_split must be an integer \"\n",
      "ValueError: min_samples_split must be an integer greater than 1 or a float in (0.0, 1.0]; got the integer 1\n",
      "\n",
      "  warnings.warn(\"Estimator fit failed. The score on this train-test\"\n",
      "/Users/oscarmumford/opt/anaconda3/lib/python3.9/site-packages/sklearn/model_selection/_validation.py:615: FitFailedWarning: Estimator fit failed. The score on this train-test partition for these parameters will be set to nan. Details: \n",
      "Traceback (most recent call last):\n",
      "  File \"/Users/oscarmumford/opt/anaconda3/lib/python3.9/site-packages/sklearn/model_selection/_validation.py\", line 598, in _fit_and_score\n",
      "    estimator.fit(X_train, y_train, **fit_params)\n",
      "  File \"/Users/oscarmumford/opt/anaconda3/lib/python3.9/site-packages/sklearn/ensemble/_forest.py\", line 387, in fit\n",
      "    trees = Parallel(n_jobs=self.n_jobs, verbose=self.verbose,\n",
      "  File \"/Users/oscarmumford/opt/anaconda3/lib/python3.9/site-packages/joblib/parallel.py\", line 1043, in __call__\n",
      "    if self.dispatch_one_batch(iterator):\n",
      "  File \"/Users/oscarmumford/opt/anaconda3/lib/python3.9/site-packages/joblib/parallel.py\", line 861, in dispatch_one_batch\n",
      "    self._dispatch(tasks)\n",
      "  File \"/Users/oscarmumford/opt/anaconda3/lib/python3.9/site-packages/joblib/parallel.py\", line 779, in _dispatch\n",
      "    job = self._backend.apply_async(batch, callback=cb)\n",
      "  File \"/Users/oscarmumford/opt/anaconda3/lib/python3.9/site-packages/joblib/_parallel_backends.py\", line 208, in apply_async\n",
      "    result = ImmediateResult(func)\n",
      "  File \"/Users/oscarmumford/opt/anaconda3/lib/python3.9/site-packages/joblib/_parallel_backends.py\", line 572, in __init__\n",
      "    self.results = batch()\n",
      "  File \"/Users/oscarmumford/opt/anaconda3/lib/python3.9/site-packages/joblib/parallel.py\", line 262, in __call__\n",
      "    return [func(*args, **kwargs)\n",
      "  File \"/Users/oscarmumford/opt/anaconda3/lib/python3.9/site-packages/joblib/parallel.py\", line 262, in <listcomp>\n",
      "    return [func(*args, **kwargs)\n",
      "  File \"/Users/oscarmumford/opt/anaconda3/lib/python3.9/site-packages/sklearn/utils/fixes.py\", line 222, in __call__\n",
      "    return self.function(*args, **kwargs)\n",
      "  File \"/Users/oscarmumford/opt/anaconda3/lib/python3.9/site-packages/sklearn/ensemble/_forest.py\", line 169, in _parallel_build_trees\n",
      "    tree.fit(X, y, sample_weight=curr_sample_weight, check_input=False)\n",
      "  File \"/Users/oscarmumford/opt/anaconda3/lib/python3.9/site-packages/sklearn/tree/_classes.py\", line 1252, in fit\n",
      "    super().fit(\n",
      "  File \"/Users/oscarmumford/opt/anaconda3/lib/python3.9/site-packages/sklearn/tree/_classes.py\", line 238, in fit\n",
      "    raise ValueError(\"min_samples_split must be an integer \"\n",
      "ValueError: min_samples_split must be an integer greater than 1 or a float in (0.0, 1.0]; got the integer 1\n",
      "\n",
      "  warnings.warn(\"Estimator fit failed. The score on this train-test\"\n",
      "/Users/oscarmumford/opt/anaconda3/lib/python3.9/site-packages/sklearn/model_selection/_search.py:922: UserWarning: One or more of the test scores are non-finite: [       nan        nan        nan        nan 0.40636068 0.41931383\n",
      " 0.42252765 0.42451914 0.42643383 0.43023883 0.42894275 0.43052505\n",
      "        nan        nan        nan        nan 0.26882351 0.26346864\n",
      " 0.26291792 0.26221906 0.25910959 0.26595684 0.26467914 0.26340778\n",
      "        nan        nan        nan        nan 0.37269883 0.37116562\n",
      " 0.37173573 0.37085709 0.37519501 0.37397636 0.3710474  0.37181933\n",
      "        nan        nan        nan        nan 0.4217775  0.42155973\n",
      " 0.41977658 0.42040294 0.41758874 0.42068372 0.42055742 0.42149051]\n",
      "  warnings.warn(\n"
     ]
    },
    {
     "data": {
      "text/plain": [
       "GridSearchCV(cv=3, estimator=RandomForestRegressor(), n_jobs=2,\n",
       "             param_grid={'max_depth': [None, 1, 2, 3],\n",
       "                         'min_samples_split': [1, 2, 3],\n",
       "                         'n_estimators': [100, 500, 700, 1000]},\n",
       "             verbose=2)"
      ]
     },
     "execution_count": 104,
     "metadata": {},
     "output_type": "execute_result"
    },
    {
     "name": "stdout",
     "output_type": "stream",
     "text": [
      "[CV] END max_depth=None, min_samples_split=1, n_estimators=100; total time=   0.1s\n",
      "[CV] END max_depth=None, min_samples_split=1, n_estimators=100; total time=   0.1s\n",
      "[CV] END max_depth=None, min_samples_split=1, n_estimators=500; total time=   0.4s\n",
      "[CV] END max_depth=None, min_samples_split=1, n_estimators=700; total time=   0.5s\n",
      "[CV] END max_depth=None, min_samples_split=1, n_estimators=700; total time=   0.5s\n",
      "[CV] END max_depth=None, min_samples_split=1, n_estimators=1000; total time=   0.9s\n",
      "[CV] END max_depth=None, min_samples_split=2, n_estimators=100; total time=   1.0s\n",
      "[CV] END max_depth=None, min_samples_split=2, n_estimators=100; total time=   1.0s\n",
      "[CV] END max_depth=None, min_samples_split=2, n_estimators=500; total time=   4.7s\n",
      "[CV] END max_depth=None, min_samples_split=2, n_estimators=700; total time=   6.3s\n",
      "[CV] END max_depth=None, min_samples_split=2, n_estimators=700; total time=   6.0s\n",
      "[CV] END max_depth=None, min_samples_split=2, n_estimators=1000; total time=   8.2s\n",
      "[CV] END max_depth=None, min_samples_split=3, n_estimators=100; total time=   0.8s\n",
      "[CV] END max_depth=None, min_samples_split=3, n_estimators=100; total time=   0.9s\n",
      "[CV] END max_depth=None, min_samples_split=3, n_estimators=100; total time=   0.9s\n",
      "[CV] END max_depth=None, min_samples_split=3, n_estimators=500; total time=   4.2s\n",
      "[CV] END max_depth=None, min_samples_split=3, n_estimators=500; total time=   4.5s\n",
      "[CV] END max_depth=None, min_samples_split=3, n_estimators=700; total time=   6.4s\n",
      "[CV] END max_depth=None, min_samples_split=3, n_estimators=700; total time=   8.8s\n",
      "[CV] END max_depth=None, min_samples_split=3, n_estimators=1000; total time=  10.8s\n",
      "[CV] END .max_depth=1, min_samples_split=1, n_estimators=100; total time=   0.1s\n",
      "[CV] END .max_depth=1, min_samples_split=1, n_estimators=100; total time=   0.1s\n",
      "[CV] END .max_depth=1, min_samples_split=1, n_estimators=100; total time=   0.1s\n",
      "[CV] END .max_depth=1, min_samples_split=1, n_estimators=500; total time=   0.4s\n",
      "[CV] END .max_depth=1, min_samples_split=1, n_estimators=500; total time=   0.4s\n",
      "[CV] END .max_depth=1, min_samples_split=1, n_estimators=500; total time=   0.4s\n",
      "[CV] END .max_depth=1, min_samples_split=1, n_estimators=700; total time=   0.5s\n",
      "[CV] END .max_depth=1, min_samples_split=1, n_estimators=700; total time=   0.6s\n",
      "[CV] END .max_depth=1, min_samples_split=1, n_estimators=700; total time=   0.7s\n",
      "[CV] END max_depth=1, min_samples_split=1, n_estimators=1000; total time=   1.0s\n",
      "[CV] END .max_depth=1, min_samples_split=2, n_estimators=100; total time=   0.4s\n",
      "[CV] END .max_depth=1, min_samples_split=2, n_estimators=100; total time=   0.3s\n",
      "[CV] END .max_depth=1, min_samples_split=2, n_estimators=500; total time=   1.9s\n",
      "[CV] END .max_depth=1, min_samples_split=2, n_estimators=500; total time=   1.9s\n",
      "[CV] END .max_depth=1, min_samples_split=2, n_estimators=700; total time=   2.3s\n",
      "[CV] END max_depth=1, min_samples_split=2, n_estimators=1000; total time=   3.4s\n",
      "[CV] END max_depth=1, min_samples_split=2, n_estimators=1000; total time=   3.4s\n",
      "[CV] END .max_depth=1, min_samples_split=3, n_estimators=500; total time=   1.7s\n",
      "[CV] END .max_depth=1, min_samples_split=3, n_estimators=700; total time=   2.6s\n",
      "[CV] END .max_depth=1, min_samples_split=3, n_estimators=700; total time=   2.9s\n",
      "[CV] END max_depth=1, min_samples_split=3, n_estimators=1000; total time=   4.0s\n",
      "[CV] END .max_depth=2, min_samples_split=1, n_estimators=100; total time=   0.2s\n",
      "[CV] END .max_depth=2, min_samples_split=1, n_estimators=100; total time=   0.1s\n",
      "[CV] END .max_depth=2, min_samples_split=1, n_estimators=100; total time=   0.1s\n",
      "[CV] END .max_depth=2, min_samples_split=1, n_estimators=500; total time=   0.5s\n",
      "[CV] END .max_depth=2, min_samples_split=1, n_estimators=500; total time=   0.5s\n",
      "[CV] END .max_depth=2, min_samples_split=1, n_estimators=500; total time=   0.7s\n",
      "[CV] END .max_depth=2, min_samples_split=1, n_estimators=700; total time=   0.9s\n",
      "[CV] END max_depth=2, min_samples_split=1, n_estimators=1000; total time=   1.2s\n",
      "[CV] END max_depth=2, min_samples_split=1, n_estimators=1000; total time=   1.0s\n",
      "[CV] END .max_depth=2, min_samples_split=2, n_estimators=100; total time=   0.4s\n",
      "[CV] END .max_depth=2, min_samples_split=2, n_estimators=500; total time=   2.1s\n",
      "[CV] END .max_depth=2, min_samples_split=2, n_estimators=500; total time=   2.2s\n",
      "[CV] END .max_depth=2, min_samples_split=2, n_estimators=700; total time=   3.4s\n",
      "[CV] END max_depth=2, min_samples_split=2, n_estimators=1000; total time=   4.4s\n",
      "[CV] END max_depth=2, min_samples_split=2, n_estimators=1000; total time=   4.4s\n",
      "[CV] END .max_depth=2, min_samples_split=3, n_estimators=500; total time=   2.1s\n",
      "[CV] END .max_depth=2, min_samples_split=3, n_estimators=700; total time=   2.8s\n",
      "[CV] END .max_depth=2, min_samples_split=3, n_estimators=700; total time=   2.8s\n",
      "[CV] END max_depth=2, min_samples_split=3, n_estimators=1000; total time=   4.4s\n",
      "[CV] END .max_depth=3, min_samples_split=1, n_estimators=100; total time=   0.1s\n",
      "[CV] END .max_depth=3, min_samples_split=1, n_estimators=100; total time=   0.1s\n",
      "[CV] END .max_depth=3, min_samples_split=1, n_estimators=100; total time=   0.1s\n",
      "[CV] END .max_depth=3, min_samples_split=1, n_estimators=500; total time=   0.4s\n",
      "[CV] END .max_depth=3, min_samples_split=1, n_estimators=500; total time=   0.4s\n",
      "[CV] END .max_depth=3, min_samples_split=1, n_estimators=500; total time=   0.4s\n",
      "[CV] END .max_depth=3, min_samples_split=1, n_estimators=700; total time=   0.6s\n",
      "[CV] END max_depth=3, min_samples_split=1, n_estimators=1000; total time=   0.8s\n",
      "[CV] END max_depth=3, min_samples_split=1, n_estimators=1000; total time=   0.8s\n",
      "[CV] END .max_depth=3, min_samples_split=2, n_estimators=100; total time=   0.5s\n",
      "[CV] END .max_depth=3, min_samples_split=2, n_estimators=500; total time=   2.3s\n",
      "[CV] END .max_depth=3, min_samples_split=2, n_estimators=500; total time=   2.3s\n",
      "[CV] END .max_depth=3, min_samples_split=2, n_estimators=700; total time=   3.4s\n",
      "[CV] END max_depth=3, min_samples_split=2, n_estimators=1000; total time=   4.6s\n",
      "[CV] END max_depth=3, min_samples_split=2, n_estimators=1000; total time=   5.3s\n",
      "[CV] END .max_depth=3, min_samples_split=3, n_estimators=500; total time=   3.0s\n",
      "[CV] END .max_depth=3, min_samples_split=3, n_estimators=700; total time=   3.7s\n",
      "[CV] END .max_depth=3, min_samples_split=3, n_estimators=700; total time=   3.5s\n",
      "[CV] END max_depth=3, min_samples_split=3, n_estimators=1000; total time=   4.8s\n",
      "[CV] END max_depth=None, min_samples_split=1, n_estimators=100; total time=   0.1s\n",
      "[CV] END max_depth=None, min_samples_split=1, n_estimators=100; total time=   0.1s\n",
      "[CV] END max_depth=None, min_samples_split=1, n_estimators=500; total time=   0.5s\n",
      "[CV] END max_depth=None, min_samples_split=1, n_estimators=500; total time=   0.6s\n",
      "[CV] END max_depth=None, min_samples_split=1, n_estimators=700; total time=   0.7s\n",
      "[CV] END max_depth=None, min_samples_split=1, n_estimators=1000; total time=   1.0s\n",
      "[CV] END max_depth=None, min_samples_split=2, n_estimators=100; total time=   1.0s\n",
      "[CV] END max_depth=None, min_samples_split=2, n_estimators=100; total time=   0.9s\n",
      "[CV] END max_depth=None, min_samples_split=2, n_estimators=500; total time=   4.5s\n",
      "[CV] END max_depth=None, min_samples_split=2, n_estimators=500; total time=   5.2s\n",
      "[CV] END max_depth=None, min_samples_split=2, n_estimators=700; total time=   6.7s\n",
      "[CV] END max_depth=None, min_samples_split=2, n_estimators=1000; total time=  10.5s\n",
      "[CV] END max_depth=None, min_samples_split=2, n_estimators=1000; total time=  10.9s\n",
      "[CV] END max_depth=None, min_samples_split=3, n_estimators=500; total time=   5.0s\n",
      "[CV] END max_depth=None, min_samples_split=3, n_estimators=700; total time=   7.1s\n",
      "[CV] END max_depth=None, min_samples_split=3, n_estimators=1000; total time=   8.9s\n",
      "[CV] END max_depth=None, min_samples_split=3, n_estimators=1000; total time=   9.1s\n",
      "[CV] END max_depth=1, min_samples_split=1, n_estimators=1000; total time=   0.8s\n",
      "[CV] END .max_depth=1, min_samples_split=2, n_estimators=100; total time=   0.4s\n",
      "[CV] END .max_depth=1, min_samples_split=2, n_estimators=100; total time=   0.4s\n",
      "[CV] END .max_depth=1, min_samples_split=2, n_estimators=100; total time=   0.3s\n",
      "[CV] END .max_depth=1, min_samples_split=2, n_estimators=500; total time=   1.7s\n",
      "[CV] END .max_depth=1, min_samples_split=2, n_estimators=700; total time=   2.5s\n",
      "[CV] END .max_depth=1, min_samples_split=2, n_estimators=700; total time=   2.3s\n",
      "[CV] END max_depth=1, min_samples_split=2, n_estimators=1000; total time=   3.3s\n",
      "[CV] END .max_depth=1, min_samples_split=3, n_estimators=100; total time=   0.3s\n",
      "[CV] END .max_depth=1, min_samples_split=3, n_estimators=100; total time=   0.3s\n",
      "[CV] END .max_depth=1, min_samples_split=3, n_estimators=100; total time=   0.3s\n",
      "[CV] END .max_depth=1, min_samples_split=3, n_estimators=500; total time=   1.7s\n",
      "[CV] END .max_depth=1, min_samples_split=3, n_estimators=500; total time=   1.8s\n",
      "[CV] END .max_depth=1, min_samples_split=3, n_estimators=700; total time=   3.0s\n",
      "[CV] END max_depth=1, min_samples_split=3, n_estimators=1000; total time=   3.8s\n",
      "[CV] END max_depth=1, min_samples_split=3, n_estimators=1000; total time=   3.5s\n",
      "[CV] END .max_depth=2, min_samples_split=1, n_estimators=700; total time=   0.5s\n",
      "[CV] END .max_depth=2, min_samples_split=1, n_estimators=700; total time=   0.5s\n",
      "[CV] END max_depth=2, min_samples_split=1, n_estimators=1000; total time=   0.8s\n",
      "[CV] END .max_depth=2, min_samples_split=2, n_estimators=100; total time=   0.5s\n",
      "[CV] END .max_depth=2, min_samples_split=2, n_estimators=100; total time=   0.4s\n",
      "[CV] END .max_depth=2, min_samples_split=2, n_estimators=500; total time=   2.1s\n",
      "[CV] END .max_depth=2, min_samples_split=2, n_estimators=500; total time=   2.2s\n",
      "[CV] END .max_depth=2, min_samples_split=2, n_estimators=700; total time=   3.2s\n",
      "[CV] END max_depth=2, min_samples_split=2, n_estimators=1000; total time=   4.2s\n",
      "[CV] END max_depth=2, min_samples_split=2, n_estimators=1000; total time=   4.0s\n",
      "[CV] END .max_depth=2, min_samples_split=3, n_estimators=500; total time=   2.4s\n",
      "[CV] END .max_depth=2, min_samples_split=3, n_estimators=700; total time=   3.1s\n",
      "[CV] END .max_depth=2, min_samples_split=3, n_estimators=700; total time=   3.5s\n",
      "[CV] END max_depth=2, min_samples_split=3, n_estimators=1000; total time=   4.4s\n",
      "[CV] END .max_depth=3, min_samples_split=1, n_estimators=100; total time=   0.1s\n",
      "[CV] END .max_depth=3, min_samples_split=1, n_estimators=100; total time=   0.1s\n",
      "[CV] END .max_depth=3, min_samples_split=1, n_estimators=100; total time=   0.1s\n",
      "[CV] END .max_depth=3, min_samples_split=1, n_estimators=500; total time=   0.4s\n",
      "[CV] END .max_depth=3, min_samples_split=1, n_estimators=500; total time=   0.5s\n",
      "[CV] END .max_depth=3, min_samples_split=1, n_estimators=500; total time=   0.4s\n",
      "[CV] END .max_depth=3, min_samples_split=1, n_estimators=700; total time=   0.6s\n",
      "[CV] END max_depth=3, min_samples_split=1, n_estimators=1000; total time=   0.8s\n",
      "[CV] END max_depth=3, min_samples_split=1, n_estimators=1000; total time=   0.8s\n",
      "[CV] END .max_depth=3, min_samples_split=2, n_estimators=100; total time=   0.5s\n",
      "[CV] END .max_depth=3, min_samples_split=2, n_estimators=500; total time=   2.6s\n",
      "[CV] END .max_depth=3, min_samples_split=2, n_estimators=500; total time=   2.4s\n",
      "[CV] END .max_depth=3, min_samples_split=2, n_estimators=700; total time=   3.4s\n",
      "[CV] END max_depth=3, min_samples_split=2, n_estimators=1000; total time=   4.6s\n",
      "[CV] END max_depth=3, min_samples_split=2, n_estimators=1000; total time=   4.4s\n",
      "[CV] END .max_depth=3, min_samples_split=3, n_estimators=500; total time=   2.3s\n",
      "[CV] END .max_depth=3, min_samples_split=3, n_estimators=700; total time=   3.2s\n",
      "[CV] END .max_depth=3, min_samples_split=3, n_estimators=700; total time=   3.4s\n",
      "[CV] END max_depth=3, min_samples_split=3, n_estimators=1000; total time=   5.1s\n",
      "[CV] END max_depth=None, min_samples_split=1, n_estimators=100; total time=   0.1s\n",
      "[CV] END max_depth=None, min_samples_split=1, n_estimators=500; total time=   0.4s\n",
      "[CV] END max_depth=None, min_samples_split=1, n_estimators=500; total time=   0.4s\n",
      "[CV] END max_depth=None, min_samples_split=1, n_estimators=700; total time=   0.5s\n",
      "[CV] END max_depth=None, min_samples_split=1, n_estimators=1000; total time=   0.8s\n",
      "[CV] END max_depth=None, min_samples_split=1, n_estimators=1000; total time=   1.0s\n",
      "[CV] END max_depth=None, min_samples_split=2, n_estimators=100; total time=   0.9s\n",
      "[CV] END max_depth=None, min_samples_split=2, n_estimators=500; total time=   4.7s\n",
      "[CV] END max_depth=None, min_samples_split=2, n_estimators=500; total time=   4.7s\n",
      "[CV] END max_depth=None, min_samples_split=2, n_estimators=700; total time=   5.8s\n",
      "[CV] END max_depth=None, min_samples_split=2, n_estimators=1000; total time=   8.4s\n",
      "[CV] END max_depth=None, min_samples_split=2, n_estimators=1000; total time=   8.6s\n",
      "[CV] END max_depth=None, min_samples_split=3, n_estimators=500; total time=   4.7s\n",
      "[CV] END max_depth=None, min_samples_split=3, n_estimators=700; total time=   6.3s\n",
      "[CV] END max_depth=None, min_samples_split=3, n_estimators=1000; total time=  12.8s\n",
      "[CV] END max_depth=None, min_samples_split=3, n_estimators=1000; total time=   9.7s\n",
      "[CV] END max_depth=1, min_samples_split=1, n_estimators=1000; total time=   1.0s\n",
      "[CV] END max_depth=1, min_samples_split=1, n_estimators=1000; total time=   0.8s\n",
      "[CV] END .max_depth=1, min_samples_split=2, n_estimators=100; total time=   0.4s\n",
      "[CV] END .max_depth=1, min_samples_split=2, n_estimators=500; total time=   2.0s\n",
      "[CV] END .max_depth=1, min_samples_split=2, n_estimators=700; total time=   2.5s\n",
      "[CV] END .max_depth=1, min_samples_split=2, n_estimators=700; total time=   2.4s\n",
      "[CV] END max_depth=1, min_samples_split=2, n_estimators=1000; total time=   3.4s\n",
      "[CV] END .max_depth=1, min_samples_split=3, n_estimators=100; total time=   0.3s\n",
      "[CV] END .max_depth=1, min_samples_split=3, n_estimators=100; total time=   0.3s\n",
      "[CV] END .max_depth=1, min_samples_split=3, n_estimators=100; total time=   0.3s\n",
      "[CV] END .max_depth=1, min_samples_split=3, n_estimators=500; total time=   1.7s\n",
      "[CV] END .max_depth=1, min_samples_split=3, n_estimators=500; total time=   1.7s\n",
      "[CV] END .max_depth=1, min_samples_split=3, n_estimators=700; total time=   2.8s\n",
      "[CV] END max_depth=1, min_samples_split=3, n_estimators=1000; total time=   3.8s\n",
      "[CV] END max_depth=1, min_samples_split=3, n_estimators=1000; total time=   4.3s\n",
      "[CV] END .max_depth=2, min_samples_split=1, n_estimators=700; total time=   0.9s\n",
      "[CV] END .max_depth=2, min_samples_split=1, n_estimators=700; total time=   0.9s\n",
      "[CV] END max_depth=2, min_samples_split=1, n_estimators=1000; total time=   1.1s\n",
      "[CV] END .max_depth=2, min_samples_split=2, n_estimators=100; total time=   0.5s\n",
      "[CV] END .max_depth=2, min_samples_split=2, n_estimators=100; total time=   0.4s\n",
      "[CV] END .max_depth=2, min_samples_split=2, n_estimators=500; total time=   2.1s\n",
      "[CV] END .max_depth=2, min_samples_split=2, n_estimators=700; total time=   3.5s\n",
      "[CV] END .max_depth=2, min_samples_split=2, n_estimators=700; total time=   3.1s\n",
      "[CV] END max_depth=2, min_samples_split=2, n_estimators=1000; total time=   4.3s\n",
      "[CV] END .max_depth=2, min_samples_split=3, n_estimators=100; total time=   0.5s\n",
      "[CV] END .max_depth=2, min_samples_split=3, n_estimators=100; total time=   0.5s\n",
      "[CV] END .max_depth=2, min_samples_split=3, n_estimators=100; total time=   0.5s\n",
      "[CV] END .max_depth=2, min_samples_split=3, n_estimators=500; total time=   2.1s\n",
      "[CV] END .max_depth=2, min_samples_split=3, n_estimators=500; total time=   2.0s\n",
      "[CV] END .max_depth=2, min_samples_split=3, n_estimators=700; total time=   2.8s\n",
      "[CV] END max_depth=2, min_samples_split=3, n_estimators=1000; total time=   4.0s\n",
      "[CV] END max_depth=2, min_samples_split=3, n_estimators=1000; total time=   4.4s\n",
      "[CV] END .max_depth=3, min_samples_split=1, n_estimators=700; total time=   0.6s\n",
      "[CV] END .max_depth=3, min_samples_split=1, n_estimators=700; total time=   0.6s\n",
      "[CV] END max_depth=3, min_samples_split=1, n_estimators=1000; total time=   0.8s\n",
      "[CV] END .max_depth=3, min_samples_split=2, n_estimators=100; total time=   0.5s\n",
      "[CV] END .max_depth=3, min_samples_split=2, n_estimators=100; total time=   0.5s\n",
      "[CV] END .max_depth=3, min_samples_split=2, n_estimators=500; total time=   2.3s\n",
      "[CV] END .max_depth=3, min_samples_split=2, n_estimators=700; total time=   3.4s\n",
      "[CV] END .max_depth=3, min_samples_split=2, n_estimators=700; total time=   3.3s\n",
      "[CV] END max_depth=3, min_samples_split=2, n_estimators=1000; total time=   4.5s\n",
      "[CV] END .max_depth=3, min_samples_split=3, n_estimators=100; total time=   0.6s\n",
      "[CV] END .max_depth=3, min_samples_split=3, n_estimators=100; total time=   0.5s\n",
      "[CV] END .max_depth=3, min_samples_split=3, n_estimators=100; total time=   0.6s\n",
      "[CV] END .max_depth=3, min_samples_split=3, n_estimators=500; total time=   2.9s\n",
      "[CV] END .max_depth=3, min_samples_split=3, n_estimators=500; total time=   3.0s\n",
      "[CV] END .max_depth=3, min_samples_split=3, n_estimators=700; total time=   3.6s\n",
      "[CV] END max_depth=3, min_samples_split=3, n_estimators=1000; total time=   5.0s\n",
      "[CV] END max_depth=3, min_samples_split=3, n_estimators=1000; total time=   4.8s\n",
      "[CV] END max_depth=None, min_samples_split=1, n_estimators=100; total time=   0.1s\n",
      "[CV] END max_depth=None, min_samples_split=1, n_estimators=500; total time=   0.4s\n",
      "[CV] END max_depth=None, min_samples_split=1, n_estimators=700; total time=   0.8s\n",
      "[CV] END max_depth=None, min_samples_split=1, n_estimators=700; total time=   0.7s\n",
      "[CV] END max_depth=None, min_samples_split=1, n_estimators=1000; total time=   1.0s\n",
      "[CV] END max_depth=None, min_samples_split=1, n_estimators=1000; total time=   1.0s\n",
      "[CV] END max_depth=None, min_samples_split=2, n_estimators=100; total time=   1.0s\n",
      "[CV] END max_depth=None, min_samples_split=2, n_estimators=500; total time=   4.5s\n",
      "[CV] END max_depth=None, min_samples_split=2, n_estimators=700; total time=   7.0s\n",
      "[CV] END max_depth=None, min_samples_split=2, n_estimators=700; total time=   6.6s\n",
      "[CV] END max_depth=None, min_samples_split=2, n_estimators=1000; total time=  10.6s\n",
      "[CV] END max_depth=None, min_samples_split=3, n_estimators=100; total time=   1.2s\n",
      "[CV] END max_depth=None, min_samples_split=3, n_estimators=100; total time=   0.9s\n",
      "[CV] END max_depth=None, min_samples_split=3, n_estimators=100; total time=   0.9s\n",
      "[CV] END max_depth=None, min_samples_split=3, n_estimators=500; total time=   5.3s\n",
      "[CV] END max_depth=None, min_samples_split=3, n_estimators=500; total time=   4.9s\n",
      "[CV] END max_depth=None, min_samples_split=3, n_estimators=700; total time=   7.2s\n",
      "[CV] END max_depth=None, min_samples_split=3, n_estimators=700; total time=   6.3s\n",
      "[CV] END max_depth=None, min_samples_split=3, n_estimators=1000; total time=   8.8s\n",
      "[CV] END .max_depth=1, min_samples_split=1, n_estimators=100; total time=   0.1s\n",
      "[CV] END .max_depth=1, min_samples_split=1, n_estimators=100; total time=   0.1s\n",
      "[CV] END .max_depth=1, min_samples_split=1, n_estimators=100; total time=   0.1s\n",
      "[CV] END .max_depth=1, min_samples_split=1, n_estimators=500; total time=   0.4s\n",
      "[CV] END .max_depth=1, min_samples_split=1, n_estimators=500; total time=   0.4s\n",
      "[CV] END .max_depth=1, min_samples_split=1, n_estimators=500; total time=   0.4s\n",
      "[CV] END .max_depth=1, min_samples_split=1, n_estimators=700; total time=   0.6s\n",
      "[CV] END .max_depth=1, min_samples_split=1, n_estimators=700; total time=   0.6s\n",
      "[CV] END .max_depth=1, min_samples_split=1, n_estimators=700; total time=   0.6s\n",
      "[CV] END max_depth=1, min_samples_split=1, n_estimators=1000; total time=   0.8s\n",
      "[CV] END max_depth=1, min_samples_split=1, n_estimators=1000; total time=   0.9s\n",
      "[CV] END .max_depth=1, min_samples_split=2, n_estimators=500; total time=   1.7s\n",
      "[CV] END .max_depth=1, min_samples_split=2, n_estimators=500; total time=   1.8s\n",
      "[CV] END .max_depth=1, min_samples_split=2, n_estimators=700; total time=   2.4s\n",
      "[CV] END max_depth=1, min_samples_split=2, n_estimators=1000; total time=   3.3s\n",
      "[CV] END max_depth=1, min_samples_split=2, n_estimators=1000; total time=   3.4s\n",
      "[CV] END .max_depth=1, min_samples_split=3, n_estimators=500; total time=   1.8s\n",
      "[CV] END .max_depth=1, min_samples_split=3, n_estimators=700; total time=   2.9s\n",
      "[CV] END .max_depth=1, min_samples_split=3, n_estimators=700; total time=   2.9s\n",
      "[CV] END max_depth=1, min_samples_split=3, n_estimators=1000; total time=   3.6s\n",
      "[CV] END .max_depth=2, min_samples_split=1, n_estimators=100; total time=   0.1s\n",
      "[CV] END .max_depth=2, min_samples_split=1, n_estimators=100; total time=   0.1s\n",
      "[CV] END .max_depth=2, min_samples_split=1, n_estimators=100; total time=   0.1s\n",
      "[CV] END .max_depth=2, min_samples_split=1, n_estimators=500; total time=   0.4s\n",
      "[CV] END .max_depth=2, min_samples_split=1, n_estimators=500; total time=   0.4s\n",
      "[CV] END .max_depth=2, min_samples_split=1, n_estimators=500; total time=   0.4s\n",
      "[CV] END .max_depth=2, min_samples_split=1, n_estimators=700; total time=   0.5s\n",
      "[CV] END max_depth=2, min_samples_split=1, n_estimators=1000; total time=   0.8s\n",
      "[CV] END max_depth=2, min_samples_split=1, n_estimators=1000; total time=   1.0s\n",
      "[CV] END .max_depth=2, min_samples_split=2, n_estimators=100; total time=   0.4s\n",
      "[CV] END .max_depth=2, min_samples_split=2, n_estimators=500; total time=   2.1s\n",
      "[CV] END .max_depth=2, min_samples_split=2, n_estimators=700; total time=   3.0s\n",
      "[CV] END .max_depth=2, min_samples_split=2, n_estimators=700; total time=   3.3s\n",
      "[CV] END max_depth=2, min_samples_split=2, n_estimators=1000; total time=   4.1s\n",
      "[CV] END .max_depth=2, min_samples_split=3, n_estimators=100; total time=   0.5s\n",
      "[CV] END .max_depth=2, min_samples_split=3, n_estimators=100; total time=   0.4s\n",
      "[CV] END .max_depth=2, min_samples_split=3, n_estimators=100; total time=   0.4s\n",
      "[CV] END .max_depth=2, min_samples_split=3, n_estimators=500; total time=   2.0s\n",
      "[CV] END .max_depth=2, min_samples_split=3, n_estimators=500; total time=   2.5s\n",
      "[CV] END .max_depth=2, min_samples_split=3, n_estimators=700; total time=   3.1s\n",
      "[CV] END max_depth=2, min_samples_split=3, n_estimators=1000; total time=   5.1s\n",
      "[CV] END max_depth=2, min_samples_split=3, n_estimators=1000; total time=   4.1s\n",
      "[CV] END .max_depth=3, min_samples_split=1, n_estimators=700; total time=   0.6s\n",
      "[CV] END .max_depth=3, min_samples_split=1, n_estimators=700; total time=   0.6s\n",
      "[CV] END max_depth=3, min_samples_split=1, n_estimators=1000; total time=   0.8s\n",
      "[CV] END .max_depth=3, min_samples_split=2, n_estimators=100; total time=   0.5s\n",
      "[CV] END .max_depth=3, min_samples_split=2, n_estimators=100; total time=   0.5s\n",
      "[CV] END .max_depth=3, min_samples_split=2, n_estimators=500; total time=   2.7s\n",
      "[CV] END .max_depth=3, min_samples_split=2, n_estimators=700; total time=   3.4s\n",
      "[CV] END .max_depth=3, min_samples_split=2, n_estimators=700; total time=   3.2s\n",
      "[CV] END max_depth=3, min_samples_split=2, n_estimators=1000; total time=   4.6s\n",
      "[CV] END .max_depth=3, min_samples_split=3, n_estimators=100; total time=   0.4s\n",
      "[CV] END .max_depth=3, min_samples_split=3, n_estimators=100; total time=   0.5s\n",
      "[CV] END .max_depth=3, min_samples_split=3, n_estimators=100; total time=   0.4s\n",
      "[CV] END .max_depth=3, min_samples_split=3, n_estimators=500; total time=   2.3s\n",
      "[CV] END .max_depth=3, min_samples_split=3, n_estimators=500; total time=   2.3s\n",
      "[CV] END .max_depth=3, min_samples_split=3, n_estimators=700; total time=   3.2s\n",
      "[CV] END max_depth=3, min_samples_split=3, n_estimators=1000; total time=   5.2s\n",
      "[CV] END max_depth=3, min_samples_split=3, n_estimators=1000; total time=   4.9s\n"
     ]
    }
   ],
   "source": [
    "gs.fit(X_train, y_train.values.flatten())"
   ]
  },
  {
   "cell_type": "code",
   "execution_count": 114,
   "id": "9f483090-08ee-442e-b650-a5cd7d126c06",
   "metadata": {},
   "outputs": [
    {
     "name": "stdout",
     "output_type": "stream",
     "text": [
      "Train score: 0.5477125518182102\n",
      "CV scores: [0.48615587 0.38175505 0.50381432 0.53096542 0.3951093 ]\n",
      "CV standard deviation: 0.0599533510141968\n",
      "Mean CV score: 0.45955999186007696\n",
      "Test score: 0.3717558945818148\n"
     ]
    },
    {
     "data": {
      "text/plain": [
       "{'train_score': 0.5477125518182102,\n",
       " 'cv_scores': array([0.48615587, 0.38175505, 0.50381432, 0.53096542, 0.3951093 ]),\n",
       " 'test_score': 0.3717558945818148}"
      ]
     },
     "execution_count": 114,
     "metadata": {},
     "output_type": "execute_result"
    }
   ],
   "source": [
    "model_scorer(gs.best_estimator_, X_train, X_test, y_train.values.flatten(), y_test.values.flatten())"
   ]
  },
  {
   "cell_type": "markdown",
   "id": "e1b19af0-8916-47bb-aca2-92fe4e28f45b",
   "metadata": {},
   "source": [
    "### Modellling with Regularisation"
   ]
  },
  {
   "cell_type": "code",
   "execution_count": 25,
   "id": "82b5243d-ffd6-4cfb-af91-2a636da58f79",
   "metadata": {},
   "outputs": [],
   "source": [
    "from sklearn.linear_model import RidgeCV, LassoCV, ElasticNetCV, Ridge, Lasso, ElasticNet"
   ]
  },
  {
   "cell_type": "markdown",
   "id": "2d61a550-00d4-4935-ae7e-dce93952c055",
   "metadata": {},
   "source": [
    "#### Ridge"
   ]
  },
  {
   "cell_type": "markdown",
   "id": "18bfb237-9f0c-49be-9870-d4f2a2920be6",
   "metadata": {},
   "source": [
    "We close in on the best alpha by testing a wide range of alphas and then choosing the best range and then looking at it with ever more granularity. Here this is seen by iterating RidgeCV multiple times"
   ]
  },
  {
   "cell_type": "code",
   "execution_count": 122,
   "id": "d0f93455-d265-453f-aba2-c86e7492d177",
   "metadata": {},
   "outputs": [
    {
     "data": {
      "text/plain": [
       "RidgeCV(alphas=array([1.e-10, 1.e-08, 1.e-06, 1.e-04, 1.e-02, 1.e+00, 1.e+02, 1.e+04,\n",
       "       1.e+06, 1.e+08, 1.e+10]))"
      ]
     },
     "execution_count": 122,
     "metadata": {},
     "output_type": "execute_result"
    }
   ],
   "source": [
    "ridge_cv_1 = RidgeCV(alphas=np.logspace(-10,10,11))\n",
    "ridge_cv_1.fit(X_train,y_train)"
   ]
  },
  {
   "cell_type": "code",
   "execution_count": 123,
   "id": "769e092f-c752-409d-84a2-80eb1aa0a17c",
   "metadata": {},
   "outputs": [
    {
     "data": {
      "text/plain": [
       "1.0"
      ]
     },
     "execution_count": 123,
     "metadata": {},
     "output_type": "execute_result"
    }
   ],
   "source": [
    "ridge_cv_1.alpha_"
   ]
  },
  {
   "cell_type": "code",
   "execution_count": 124,
   "id": "710edf1b-21eb-42a9-829b-26f2ed903f65",
   "metadata": {},
   "outputs": [
    {
     "data": {
      "text/plain": [
       "RidgeCV(alphas=array([1.00000000e-02, 2.51188643e-02, 6.30957344e-02, 1.58489319e-01,\n",
       "       3.98107171e-01, 1.00000000e+00, 2.51188643e+00, 6.30957344e+00,\n",
       "       1.58489319e+01, 3.98107171e+01, 1.00000000e+02]))"
      ]
     },
     "execution_count": 124,
     "metadata": {},
     "output_type": "execute_result"
    }
   ],
   "source": [
    "ridge_cv_2 = RidgeCV(alphas=np.logspace(-2,2,11))\n",
    "ridge_cv_2.fit(X_train,y_train)"
   ]
  },
  {
   "cell_type": "code",
   "execution_count": 125,
   "id": "bbe86c7b-b659-485a-9a2f-1617bdd1461b",
   "metadata": {},
   "outputs": [
    {
     "data": {
      "text/plain": [
       "39.810717055349734"
      ]
     },
     "execution_count": 125,
     "metadata": {},
     "output_type": "execute_result"
    }
   ],
   "source": [
    "ridge_cv_2.alpha_"
   ]
  },
  {
   "cell_type": "code",
   "execution_count": 126,
   "id": "6b4988b3-83dd-4d66-89d5-fe0808542ce1",
   "metadata": {},
   "outputs": [
    {
     "data": {
      "text/plain": [
       "RidgeCV(alphas=array([0.15848932, 0.20056485, 0.24264039, 0.28471592, 0.32679146,\n",
       "       0.36886699, 0.41094252, 0.45301806, 0.49509359, 0.53716913,\n",
       "       0.57924466, 0.62132019, 0.66339573, 0.70547126, 0.7475468 ,\n",
       "       0.78962233, 0.83169786, 0.8737734 , 0.91584893, 0.95792447,\n",
       "       1.        ]))"
      ]
     },
     "execution_count": 126,
     "metadata": {},
     "output_type": "execute_result"
    }
   ],
   "source": [
    "ridge_cv_3 = RidgeCV(alphas=np.linspace(1.58489319e-01,1.00000000e+00, 21))\n",
    "ridge_cv_3.fit(X_train,y_train)"
   ]
  },
  {
   "cell_type": "code",
   "execution_count": 127,
   "id": "8475caac-9f93-454e-b136-0480beeff1a6",
   "metadata": {},
   "outputs": [
    {
     "data": {
      "text/plain": [
       "1.0"
      ]
     },
     "execution_count": 127,
     "metadata": {},
     "output_type": "execute_result"
    }
   ],
   "source": [
    "ridge_cv_3.alpha_"
   ]
  },
  {
   "cell_type": "code",
   "execution_count": 128,
   "id": "ad25ee06-34c3-4101-9885-22b852a30cb7",
   "metadata": {},
   "outputs": [
    {
     "data": {
      "text/plain": [
       "RidgeCV(alphas=array([0.36886699, 0.37097077, 0.37307454, 0.37517832, 0.3772821 ,\n",
       "       0.37938587, 0.38148965, 0.38359343, 0.3856972 , 0.38780098,\n",
       "       0.38990475, 0.39200853, 0.39411231, 0.39621608, 0.39831986,\n",
       "       0.40042364, 0.40252741, 0.40463119, 0.40673497, 0.40883874,\n",
       "       0.41094252]))"
      ]
     },
     "execution_count": 128,
     "metadata": {},
     "output_type": "execute_result"
    }
   ],
   "source": [
    "ridge_cv_4 = RidgeCV(alphas=np.linspace(0.36886699,0.41094252, 21))\n",
    "ridge_cv_4.fit(X_train,y_train)"
   ]
  },
  {
   "cell_type": "code",
   "execution_count": 129,
   "id": "94908842-8cfa-4841-9ad9-6d41c692468f",
   "metadata": {},
   "outputs": [
    {
     "data": {
      "text/plain": [
       "0.41094252"
      ]
     },
     "execution_count": 129,
     "metadata": {},
     "output_type": "execute_result"
    }
   ],
   "source": [
    "ridge_cv_4.alpha_"
   ]
  },
  {
   "cell_type": "code",
   "execution_count": 130,
   "id": "6ae70479-7754-4720-b603-e592e8e7ad00",
   "metadata": {},
   "outputs": [
    {
     "data": {
      "text/plain": [
       "Ridge()"
      ]
     },
     "execution_count": 130,
     "metadata": {},
     "output_type": "execute_result"
    }
   ],
   "source": [
    "ridge_alpha_1 = ridge_cv_1.alpha_\n",
    "ridge_model_1 = Ridge(alpha=ridge_alpha_1)\n",
    "ridge_model_1.fit(X_train, y_train)"
   ]
  },
  {
   "cell_type": "code",
   "execution_count": 131,
   "id": "9f9a4570-f0d3-47c4-8dc0-ca4788c81058",
   "metadata": {},
   "outputs": [
    {
     "name": "stdout",
     "output_type": "stream",
     "text": [
      "Train score: 0.3817610864400821\n",
      "CV scores: [0.36634217 0.41158904 0.33433747 0.43645723 0.33711221]\n",
      "CV standard deviation: 0.04063530305061718\n",
      "Mean CV score: 0.37716762553983285\n",
      "Test score: 0.3988206993553367\n"
     ]
    }
   ],
   "source": [
    "model_scorer(ridge_model_1, *train_test_tuple);"
   ]
  },
  {
   "cell_type": "code",
   "execution_count": 132,
   "id": "f7e3c8a1-f0ee-4d17-8efe-06156d88b2b6",
   "metadata": {},
   "outputs": [
    {
     "data": {
      "text/plain": [
       "1.0"
      ]
     },
     "execution_count": 132,
     "metadata": {},
     "output_type": "execute_result"
    }
   ],
   "source": [
    "ridge_model_1.alpha"
   ]
  },
  {
   "cell_type": "code",
   "execution_count": 133,
   "id": "f3b8e5a8-6738-4cbe-ae02-497c13311111",
   "metadata": {},
   "outputs": [
    {
     "data": {
      "text/plain": [
       "Ridge(alpha=39.810717055349734)"
      ]
     },
     "execution_count": 133,
     "metadata": {},
     "output_type": "execute_result"
    }
   ],
   "source": [
    "ridge_alpha_2 = ridge_cv_2.alpha_\n",
    "ridge_model_2 = Ridge(alpha=ridge_alpha_2)\n",
    "ridge_model_2.fit(X_train, y_train)"
   ]
  },
  {
   "cell_type": "code",
   "execution_count": 134,
   "id": "b50e7356-778e-4d04-8610-17b707cd5abf",
   "metadata": {},
   "outputs": [
    {
     "name": "stdout",
     "output_type": "stream",
     "text": [
      "Train score: 0.3817516497239467\n",
      "CV scores: [0.36658485 0.41127492 0.33473101 0.43581174 0.3375611 ]\n",
      "CV standard deviation: 0.040209389462683764\n",
      "Mean CV score: 0.3771927228456758\n",
      "Test score: 0.3985255102170351\n"
     ]
    }
   ],
   "source": [
    "model_scorer(ridge_model_2, *train_test_tuple);"
   ]
  },
  {
   "cell_type": "code",
   "execution_count": 135,
   "id": "dab7536c-d656-48c8-8624-c557a6020589",
   "metadata": {},
   "outputs": [
    {
     "data": {
      "text/plain": [
       "39.810717055349734"
      ]
     },
     "execution_count": 135,
     "metadata": {},
     "output_type": "execute_result"
    }
   ],
   "source": [
    "ridge_model_2.alpha"
   ]
  },
  {
   "cell_type": "code",
   "execution_count": 136,
   "id": "431e42f7-bc7e-47cf-b07d-3c063b1191bc",
   "metadata": {},
   "outputs": [
    {
     "data": {
      "text/plain": [
       "Ridge()"
      ]
     },
     "execution_count": 136,
     "metadata": {},
     "output_type": "execute_result"
    }
   ],
   "source": [
    "ridge_alpha_3 = ridge_cv_3.alpha_\n",
    "ridge_model_3 = Ridge(alpha=ridge_alpha_3)\n",
    "ridge_model_3.fit(X_train, y_train)"
   ]
  },
  {
   "cell_type": "code",
   "execution_count": 137,
   "id": "3ec7c1ac-c1d1-40cf-84ae-31d976bb3e34",
   "metadata": {},
   "outputs": [
    {
     "name": "stdout",
     "output_type": "stream",
     "text": [
      "Train score: 0.3817610864400821\n",
      "CV scores: [0.36634217 0.41158904 0.33433747 0.43645723 0.33711221]\n",
      "CV standard deviation: 0.04063530305061718\n",
      "Mean CV score: 0.37716762553983285\n",
      "Test score: 0.3988206993553367\n"
     ]
    }
   ],
   "source": [
    "model_scorer(ridge_model_3, *train_test_tuple);"
   ]
  },
  {
   "cell_type": "markdown",
   "id": "759b21e7-c295-4c0c-8a97-285e80e3c431",
   "metadata": {},
   "source": [
    "#### Lasso - Good Score"
   ]
  },
  {
   "cell_type": "code",
   "execution_count": 138,
   "id": "cd48f844-6f28-4d14-8f57-e574533d96cb",
   "metadata": {},
   "outputs": [
    {
     "data": {
      "text/plain": [
       "LassoCV()"
      ]
     },
     "execution_count": 138,
     "metadata": {},
     "output_type": "execute_result"
    }
   ],
   "source": [
    "lasso_cv_1 = LassoCV()\n",
    "lasso_cv_1.fit(X_train, y_train.values.flatten())\n"
   ]
  },
  {
   "cell_type": "code",
   "execution_count": 139,
   "id": "b8cd9af2-d4c3-406b-9384-4f054080dd14",
   "metadata": {},
   "outputs": [
    {
     "data": {
      "text/plain": [
       "Lasso(alpha=159.0830161631408)"
      ]
     },
     "execution_count": 139,
     "metadata": {},
     "output_type": "execute_result"
    }
   ],
   "source": [
    "lasso_alpha = lasso_cv_1.alpha_\n",
    "lasso_model_1 = Lasso(alpha=lasso_alpha)\n",
    "lasso_model_1.fit(X_train, y_train.values.flatten())"
   ]
  },
  {
   "cell_type": "code",
   "execution_count": 140,
   "id": "c159a952-2da0-4a30-9bc9-0752c3d6ebbe",
   "metadata": {},
   "outputs": [
    {
     "name": "stdout",
     "output_type": "stream",
     "text": [
      "Train score: 0.38176035331088876\n",
      "CV scores: [0.36639117 0.41153263 0.33441513 0.43629581 0.33720696]\n",
      "CV standard deviation: 0.04054098980135216\n",
      "Mean CV score: 0.3771683407592624\n",
      "Test score: 0.39872217088748185\n"
     ]
    }
   ],
   "source": [
    "model_scorer(lasso_model_1, X_train, X_test, y_train.values.flatten(), y_test.values.flatten());"
   ]
  },
  {
   "cell_type": "markdown",
   "id": "a9df1411-5546-4fd7-9d01-d1d8ec9454a2",
   "metadata": {},
   "source": [
    "#### ElasticNet"
   ]
  },
  {
   "cell_type": "code",
   "execution_count": null,
   "id": "3f5c63c8-9a75-4cc3-8e5b-6d05ac25c401",
   "metadata": {},
   "outputs": [],
   "source": [
    "alpha_range = np.logspace(-10,10,21)\n",
    "l1_range = [.1, .5, .7, .9, .95, .99, 1]\n",
    "\n",
    "elasticnet_cv_1 = ElasticNetCV(l1_ratio= l1_range,\n",
    "                               alphas=alpha_range,\n",
    "                               cv=3,\n",
    "                               random_state=1,\n",
    "                               n_jobs=2,\n",
    "                               max_iter=10000\n",
    "                              )\n",
    "elasticnet_cv_1.fit(X_train,y_train.values.flatten())"
   ]
  },
  {
   "cell_type": "code",
   "execution_count": null,
   "id": "eb3a92f7-a1ae-459c-a1f9-3391747ac532",
   "metadata": {},
   "outputs": [],
   "source": [
    "elasticnet_cv_1.l1_ratio_"
   ]
  },
  {
   "cell_type": "code",
   "execution_count": null,
   "id": "5adf1068-fe4c-4833-ad01-c2f0271a2d99",
   "metadata": {},
   "outputs": [],
   "source": [
    "elasticnet_cv_1.alpha_"
   ]
  },
  {
   "cell_type": "code",
   "execution_count": null,
   "id": "a40a1078-3846-433e-8f9b-b82398057082",
   "metadata": {},
   "outputs": [],
   "source": [
    "elasticnet_alpha = elasticnet_cv_1.alpha_\n",
    "elasticnet_l1 = elasticnet_cv_1.l1_ratio_\n",
    "elasticnet_model_1 = ElasticNet(alpha=elasticnet_alpha, l1_ratio=elasticnet_l1)\n",
    "elasticnet_model_1.fit(X_train, y_train.values.flatten())\n"
   ]
  },
  {
   "cell_type": "code",
   "execution_count": null,
   "id": "9e637dc0-7fd5-4e54-8554-1dbd3e21c545",
   "metadata": {},
   "outputs": [],
   "source": [
    "model_scorer(elasticnet_model_1, X_train, X_test, y_train.values.flatten(), y_test.values.flatten());"
   ]
  },
  {
   "cell_type": "markdown",
   "id": "0d71faf3-cd7f-49fa-8208-5ec91a075c8f",
   "metadata": {},
   "source": [
    "### BOOSTING"
   ]
  },
  {
   "cell_type": "code",
   "execution_count": 51,
   "id": "ed321abd-20b5-4912-ab49-0cf75270d37b",
   "metadata": {},
   "outputs": [],
   "source": [
    "from sklearn.ensemble import AdaBoostRegressor, BaggingRegressor, GradientBoostingRegressor"
   ]
  },
  {
   "cell_type": "markdown",
   "id": "6b583971-7f9b-4f7b-8d6a-e0efc3f9d415",
   "metadata": {},
   "source": [
    "#### AdaBoost"
   ]
  },
  {
   "cell_type": "code",
   "execution_count": 52,
   "id": "706c0112-5735-435a-b984-7836af09d06a",
   "metadata": {},
   "outputs": [
    {
     "data": {
      "text/plain": [
       "AdaBoostRegressor(base_estimator=DecisionTreeRegressor(), n_estimators=100,\n",
       "                  random_state=1)"
      ]
     },
     "execution_count": 52,
     "metadata": {},
     "output_type": "execute_result"
    }
   ],
   "source": [
    "base_estimator = DecisionTreeRegressor()\n",
    "ada_model_1 = AdaBoostRegressor(base_estimator=base_estimator,\n",
    "                          n_estimators=100,\n",
    "                          random_state=1)\n",
    "ada_model_1.fit(X_train, y_train.values.flatten())\n"
   ]
  },
  {
   "cell_type": "code",
   "execution_count": 53,
   "id": "5bfa869f-c90d-4928-b435-dfde31bc3cc5",
   "metadata": {},
   "outputs": [
    {
     "name": "stdout",
     "output_type": "stream",
     "text": [
      "Train score: 0.990808945118217\n",
      "CV scores: [0.60227246 0.48239121 0.58253535 0.53850878 0.77246815]\n",
      "CV standard deviation: 0.09754299583445931\n",
      "Mean CV score: 0.595635189296827\n",
      "Test score: 0.789133450773172\n"
     ]
    }
   ],
   "source": [
    "model_scorer(ada_model_1, X_train, X_test, y_train.values.flatten(), y_test.values.flatten());"
   ]
  },
  {
   "cell_type": "markdown",
   "id": "f22d613b-6d90-4a43-8bf7-03b6ac850fa0",
   "metadata": {},
   "source": [
    "#### Gradient Boost"
   ]
  },
  {
   "cell_type": "code",
   "execution_count": 54,
   "id": "80a73c81-dcfc-465c-afe7-fce5b9d86b66",
   "metadata": {},
   "outputs": [
    {
     "data": {
      "text/plain": [
       "GradientBoostingRegressor(random_state=1)"
      ]
     },
     "execution_count": 54,
     "metadata": {},
     "output_type": "execute_result"
    }
   ],
   "source": [
    "gradientBoost_model_1 = GradientBoostingRegressor(\n",
    "    n_estimators=100,\n",
    "    max_depth=3,\n",
    "    learning_rate=0.1,\n",
    "    random_state=1)\n",
    "\n",
    "gradientBoost_model_1.fit(X_train, y_train.values.flatten())\n"
   ]
  },
  {
   "cell_type": "code",
   "execution_count": 55,
   "id": "1d9d1edf-8871-424d-bfe7-b0966f1d0160",
   "metadata": {},
   "outputs": [
    {
     "name": "stdout",
     "output_type": "stream",
     "text": [
      "Train score: 0.8061598107384746\n",
      "CV scores: [0.71926422 0.63115217 0.56896528 0.56968125 0.72771892]\n",
      "CV standard deviation: 0.0692676559330288\n",
      "Mean CV score: 0.6433563683091353\n",
      "Test score: 0.7649969284157461\n"
     ]
    },
    {
     "data": {
      "text/plain": [
       "{'train_score': 0.8061598107384746,\n",
       " 'cv_scores': array([0.71926422, 0.63115217, 0.56896528, 0.56968125, 0.72771892]),\n",
       " 'test_score': 0.7649969284157461}"
      ]
     },
     "execution_count": 55,
     "metadata": {},
     "output_type": "execute_result"
    }
   ],
   "source": [
    "model_scorer(gradientBoost_model_1, X_train, X_test, y_train.values.flatten(), y_test.values.flatten());"
   ]
  },
  {
   "cell_type": "markdown",
   "id": "cc6fc2d0-7b1e-4016-90e7-81d97700ba49",
   "metadata": {
    "tags": []
   },
   "source": [
    "# SCIPY MODELLING?"
   ]
  },
  {
   "cell_type": "markdown",
   "id": "f2ea219a-0455-4607-a3f3-a6b341722443",
   "metadata": {},
   "source": [
    "Statsmodels do not work with sparse matrices so I will not be implementing this for the fully dummified postcode model"
   ]
  },
  {
   "cell_type": "markdown",
   "id": "181ade60-9415-4c16-9626-5cd21316931f",
   "metadata": {},
   "source": [
    "# COEFFICIENT ANALYSIS"
   ]
  },
  {
   "cell_type": "code",
   "execution_count": 141,
   "id": "0bcefc16-a987-4154-b68b-03c77f60e4f9",
   "metadata": {},
   "outputs": [],
   "source": [
    "# collect the model coefficients in a dataframe\n",
    "lin_model_1_coefs = pd.DataFrame(lin_model_1.coef_.flatten(), index=dum_df.columns,\n",
    "                       columns=['coefficients'])\n",
    "# calculate the absolute values of the coefficients\n",
    "lin_model_1_coefs['coef_abs'] = lin_model_1_coefs.coefficients.abs()\n",
    "#lin_model_1_coefs.sort_values('coef_abs', ascending=False).head(20)"
   ]
  },
  {
   "cell_type": "code",
   "execution_count": 142,
   "id": "05ccc79f-4850-4079-bbf1-347e5997c672",
   "metadata": {},
   "outputs": [
    {
     "data": {
      "image/png": "[encoded data removed]",
      "text/plain": [
       "<Figure size 576x720 with 1 Axes>"
      ]
     },
     "metadata": {
      "needs_background": "light"
     },
     "output_type": "display_data"
    }
   ],
   "source": [
    "# plot the magnitude of the coefficients\n",
    "fig, ax = plt.subplots(figsize=(8,10))\n",
    "n_values_to_display = 50\n",
    "plt_x = lin_model_1_coefs['coef_abs'].sort_values( ascending=False)[:n_values_to_display][::-1]\n",
    "plt_y = lin_model_1_coefs[['coef_abs']].sort_values('coef_abs', ascending=False)[:n_values_to_display].index[::-1]\n",
    "\n",
    "ax.barh(y=plt_y, width=plt_x, height=0.4, color='aquamarine', align='edge', zorder=3)\n",
    "plt.yticks(fontsize=12) #fontdict={\"fontsize\":10})\n",
    "#lin_model_1_coefs['coef_abs'].sort_values(ascending=False)[:20].plot(kind='barh', figsize=(10,20), color='purple')\n",
    "ax.set_title(f\"Linear Regression Model - Coefficient Strength\\nTop {n_values_to_display} by absolute value \", fontweight='bold')#fontdict={'fontweight':\"b\"})\n",
    "\n",
    "ax.set_facecolor('black')\n",
    "ax.grid(axis='x', zorder=0)\n",
    "ax.tick_params(labeltop=True)\n",
    "plt.tight_layout();"
   ]
  },
  {
   "cell_type": "code",
   "execution_count": 143,
   "id": "9712a7d6-ef84-478f-9da7-51b33ea5a560",
   "metadata": {},
   "outputs": [
    {
     "data": {
      "image/png": "[encoded data removed]",
      "text/plain": [
       "<Figure size 576x720 with 1 Axes>"
      ]
     },
     "metadata": {
      "needs_background": "light"
     },
     "output_type": "display_data"
    }
   ],
   "source": [
    "# collect the model coefficients in a dataframe\n",
    "lasso_model_1_coefs = pd.DataFrame(lasso_model_1.coef_.flatten(), index=dum_df.columns,\n",
    "                       columns=['coefficients'])\n",
    "# calculate the absolute values of the coefficients\n",
    "lasso_model_1_coefs['coef_abs'] = lasso_model_1_coefs.coefficients.abs()\n",
    "#lasso_model_1_coefs.sort_values('coef_abs', ascending=False).head(20)\n",
    "\n",
    "\n",
    "# plot the magnitude of the coefficients\n",
    "fig, ax = plt.subplots(figsize=(8,10))\n",
    "n_values_to_display = 50\n",
    "plt_x = lasso_model_1_coefs['coef_abs'].sort_values( ascending=False)[:n_values_to_display][::-1]\n",
    "plt_y = lasso_model_1_coefs[['coef_abs']].sort_values('coef_abs', ascending=False)[:n_values_to_display].index[::-1]\n",
    "\n",
    "ax.barh(y=plt_y, width=plt_x, height=0.4, color='aquamarine', align='edge', zorder=3)\n",
    "plt.yticks(fontsize=12) #fontdict={\"fontsize\":10})\n",
    "#lasso_model_1_coefs['coef_abs'].sort_values(ascending=False)[:20].plot(kind='barh', figsize=(10,20), color='purple')\n",
    "ax.set_title(f\"Linear Regression Model with Lasso Regularisation - Coefficient Strength\\nTop {n_values_to_display} by absolute value \", fontweight='bold')#fontdict={'fontweight':\"b\"})\n",
    "\n",
    "ax.set_facecolor('black')\n",
    "ax.grid(axis='x', zorder=0)\n",
    "ax.tick_params(labeltop=True)\n",
    "plt.tight_layout();"
   ]
  },
  {
   "cell_type": "markdown",
   "id": "08df824a-5a0e-46b1-8800-b068a47db063",
   "metadata": {},
   "source": [
    "# RESIDUAL ANALYSIS"
   ]
  },
  {
   "cell_type": "code",
   "execution_count": 152,
   "id": "6b96ed92-9dc0-4205-824d-98b28f8d1474",
   "metadata": {},
   "outputs": [
    {
     "data": {
      "text/plain": [
       "(1722,)"
      ]
     },
     "execution_count": 152,
     "metadata": {},
     "output_type": "execute_result"
    }
   ],
   "source": []
  },
  {
   "cell_type": "code",
   "execution_count": 157,
   "id": "34dc3e92-0321-4302-8161-e5f34da9c57f",
   "metadata": {},
   "outputs": [],
   "source": [
    "residuals = y_test.values.flatten() - lin_model_1.predict(X_test).flatten()"
   ]
  },
  {
   "cell_type": "code",
   "execution_count": 164,
   "id": "df29d24d-a576-42b1-a5ae-95bf58b43cd8",
   "metadata": {},
   "outputs": [
    {
     "data": {
      "text/plain": [
       "array([ 120024.57412782,  121174.57119397,  -17086.75348508, ...,\n",
       "         89019.57412782,  -95975.42587218, -120905.88936238])"
      ]
     },
     "execution_count": 164,
     "metadata": {},
     "output_type": "execute_result"
    }
   ],
   "source": []
  },
  {
   "cell_type": "code",
   "execution_count": 170,
   "id": "d9a5e9dd-0c6a-42e1-b326-9bc8201bfe78",
   "metadata": {},
   "outputs": [
    {
     "data": {
      "image/png": "[encoded data removed]",
      "text/plain": [
       "<Figure size 720x720 with 1 Axes>"
      ]
     },
     "metadata": {
      "needs_background": "light"
     },
     "output_type": "display_data"
    }
   ],
   "source": [
    "fig, ax = plt.subplots(figsize=(10,10))\n",
    "ax.hist(residuals[residuals < 10 ** 6], bins=100)\n",
    "ax.set_title(\"Plotting residuals from linear regression\");\n",
    "\n"
   ]
  },
  {
   "cell_type": "code",
   "execution_count": null,
   "id": "d9d52299-f5e0-42da-b0cf-1316b500a273",
   "metadata": {},
   "outputs": [],
   "source": []
  },
  {
   "cell_type": "markdown",
   "id": "9164a32e-36c7-4de0-b119-3c2a2f0719e0",
   "metadata": {
    "jp-MarkdownHeadingCollapsed": true,
    "tags": []
   },
   "source": [
    "### Visually testing predictions\n"
   ]
  },
  {
   "cell_type": "code",
   "execution_count": null,
   "id": "b5bf639a-e570-4008-ba84-aedf1d2826ba",
   "metadata": {},
   "outputs": [],
   "source": []
  },
  {
   "cell_type": "code",
   "execution_count": 175,
   "id": "a7dae5ce-34cc-4c4f-93a5-2131a2bb4461",
   "metadata": {},
   "outputs": [
    {
     "data": {
      "text/plain": [
       "last_sold_price_gbp    532500.0\n",
       "Name: 70352, dtype: float64"
      ]
     },
     "execution_count": 175,
     "metadata": {},
     "output_type": "execute_result"
    }
   ],
   "source": [
    "y_test.iloc[25]"
   ]
  },
  {
   "cell_type": "code",
   "execution_count": 176,
   "id": "0023a698-45c5-4226-83b1-bb86abce500a",
   "metadata": {},
   "outputs": [
    {
     "data": {
      "text/plain": [
       "array([[573118.31715066]])"
      ]
     },
     "execution_count": 176,
     "metadata": {},
     "output_type": "execute_result"
    }
   ],
   "source": [
    "lin_model_1.predict(X_test[25])"
   ]
  },
  {
   "cell_type": "code",
   "execution_count": 177,
   "id": "791515c9-03ed-4a8c-8827-18ddcb600ec6",
   "metadata": {},
   "outputs": [
    {
     "data": {
      "text/plain": [
       "array([548880.])"
      ]
     },
     "execution_count": 177,
     "metadata": {},
     "output_type": "execute_result"
    }
   ],
   "source": [
    "rf_model_1.predict(X_test[25])"
   ]
  },
  {
   "cell_type": "code",
   "execution_count": 178,
   "id": "29e0b460-ad92-4589-9a42-bb1188a52657",
   "metadata": {},
   "outputs": [
    {
     "data": {
      "text/plain": [
       "array([575000.])"
      ]
     },
     "execution_count": 178,
     "metadata": {},
     "output_type": "execute_result"
    }
   ],
   "source": [
    "dt_model_1.predict(X_test[25])"
   ]
  },
  {
   "cell_type": "code",
   "execution_count": null,
   "id": "675ad8b6-8059-4a59-b273-57082635837f",
   "metadata": {},
   "outputs": [],
   "source": []
  },
  {
   "cell_type": "markdown",
   "id": "c23b1354-e0e4-4f9e-b3ee-866cc0b7ec50",
   "metadata": {},
   "source": [
    "# CONCLUSIONS"
   ]
  },
  {
   "cell_type": "markdown",
   "id": "96ff1582-3b51-4080-8e6d-fde5df87a063",
   "metadata": {},
   "source": [
    "\n",
    "The best score achieved was using the Random Forest Regressor model with an R2 score of 0.7605. This means we have captured 76% of the predictive power with regards to true value of properties in the given areas of London using our best model. \n",
    "\n",
    "That said across models, the mean cv scores were significantly lower than the test scores and often had a wider spread. This may speak to a number of issues in the model. \n",
    "- The dataset may not be large enough to support the folds used (5)\n",
    "\n",
    "\n",
    "The coefficients which had the largest affect on our score after Lasso Regularization were:\n",
    "- Bedrooms\n",
    "- Bathrooms\n",
    "- Certain individual postcodes\n",
    "\n",
    "One issue with the model may be the large number of dummified postcodes. As our dataset is relatively small individual postcodes have fewer and fewer unique properties. This means our full-postcode feature is acting almost like a uid value. That being said the test scores do indicate that we are not overfitting the model and that bias is kept relatively low\n",
    "\n",
    "\n",
    "Additional issues with the model are indicated by the residual plots:\n",
    "It is most likely that we are missing a great deal of additional independent variables in assessing the value of a property, the most obvious being square footage which can vary greatly between properties of similar number of rooms."
   ]
  },
  {
   "cell_type": "markdown",
   "id": "eb8748b6-35f8-4b8a-96f7-a5cfea62a0c8",
   "metadata": {},
   "source": [
    "# NEXT STEPS - IMPROVING THE MODEL AND BEYOND\n"
   ]
  },
  {
   "cell_type": "markdown",
   "id": "012b7a5c-e297-4deb-a4fd-bd7a3cb74ebb",
   "metadata": {},
   "source": [
    "Our model would ideally be improved in a number of ways. \n",
    "\n",
    "Next goals of the model are to scrape all available properties in London (circa 3.5 Million). This will hopefully yield a much more general model of London property prices and allow the ultimate goal of the project which is to use the historical price model to predict whether particular properties listed on Zoopla are undervalued or not thereby identifying investment opportunities."
   ]
  }
 ],
 "metadata": {
  "kernelspec": {
   "display_name": "Python 3 (ipykernel)",
   "language": "python",
   "name": "python3"
  },
  "language_info": {
   "codemirror_mode": {
    "name": "ipython",
    "version": 3
   },
   "file_extension": ".py",
   "mimetype": "text/x-python",
   "name": "python",
   "nbconvert_exporter": "python",
   "pygments_lexer": "ipython3",
   "version": "3.9.7"
  }
 },
 "nbformat": 4,
 "nbformat_minor": 5
}
